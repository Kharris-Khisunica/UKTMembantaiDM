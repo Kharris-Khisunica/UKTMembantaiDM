{
 "cells": [
  {
   "cell_type": "markdown",
   "id": "f08094cf",
   "metadata": {},
   "source": [
    "## DATA FETCH FROM ERA5\n",
    "\n",
    "### Time Period\n",
    "Data yang diambil akan diambil data 20 tahun untuk averaging faktor-faktor musiman seperti el-nino, dll. \n",
    "\n",
    "### Data yang dibutuhkan untuk solar\n",
    "\n",
    "- Surface Solar Radiation Downwards (SSRD) \n",
    "Untuk menghitung berapa energi solar yang sampai ke permukaan bumi. \n",
    "- 2m Temperature (t2m)\n",
    "Semakin tinggi temperature, semakin rendah efisiensi solar panel\n",
    "\n",
    "\n",
    "### Data yang dibutuhkan untuk wind\n",
    "\n",
    "- u-component of wind\n",
    "- v-component of wind\n",
    "\n",
    "Dipakai untuk menghitung vektor kecepatan angin. "
   ]
  },
  {
   "cell_type": "code",
   "execution_count": 2,
   "id": "a0f7977f",
   "metadata": {},
   "outputs": [
    {
     "name": "stdout",
     "output_type": "stream",
     "text": [
      "Requirement already satisfied: cdsapi in c:\\users\\asus\\anaconda3\\lib\\site-packages (0.7.6)\n",
      "Requirement already satisfied: tqdm in c:\\users\\asus\\anaconda3\\lib\\site-packages (from cdsapi) (4.64.1)\n",
      "Requirement already satisfied: ecmwf-datastores-client in c:\\users\\asus\\anaconda3\\lib\\site-packages (from cdsapi) (0.2.0)\n",
      "Requirement already satisfied: requests>=2.5.0 in c:\\users\\asus\\anaconda3\\lib\\site-packages (from cdsapi) (2.28.1)\n",
      "Requirement already satisfied: charset-normalizer<3,>=2 in c:\\users\\asus\\anaconda3\\lib\\site-packages (from requests>=2.5.0->cdsapi) (2.0.4)\n",
      "Requirement already satisfied: idna<4,>=2.5 in c:\\users\\asus\\anaconda3\\lib\\site-packages (from requests>=2.5.0->cdsapi) (3.3)\n",
      "Requirement already satisfied: urllib3<1.27,>=1.21.1 in c:\\users\\asus\\anaconda3\\lib\\site-packages (from requests>=2.5.0->cdsapi) (1.26.11)\n",
      "Requirement already satisfied: certifi>=2017.4.17 in c:\\users\\asus\\anaconda3\\lib\\site-packages (from requests>=2.5.0->cdsapi) (2022.9.14)\n",
      "Requirement already satisfied: typing-extensions in c:\\users\\asus\\anaconda3\\lib\\site-packages (from ecmwf-datastores-client->cdsapi) (4.13.1)\n",
      "Requirement already satisfied: multiurl>=0.3.2 in c:\\users\\asus\\anaconda3\\lib\\site-packages (from ecmwf-datastores-client->cdsapi) (0.3.6)\n",
      "Requirement already satisfied: attrs in c:\\users\\asus\\anaconda3\\lib\\site-packages (from ecmwf-datastores-client->cdsapi) (21.4.0)\n",
      "Requirement already satisfied: colorama in c:\\users\\asus\\anaconda3\\lib\\site-packages (from tqdm->cdsapi) (0.4.5)\n",
      "Requirement already satisfied: pytz in c:\\users\\asus\\anaconda3\\lib\\site-packages (from multiurl>=0.3.2->ecmwf-datastores-client->cdsapi) (2022.1)\n",
      "Requirement already satisfied: python-dateutil in c:\\users\\asus\\anaconda3\\lib\\site-packages (from multiurl>=0.3.2->ecmwf-datastores-client->cdsapi) (2.8.2)\n",
      "Requirement already satisfied: six>=1.5 in c:\\users\\asus\\anaconda3\\lib\\site-packages (from python-dateutil->multiurl>=0.3.2->ecmwf-datastores-client->cdsapi) (1.16.0)\n",
      "Note: you may need to restart the kernel to use updated packages.\n"
     ]
    }
   ],
   "source": [
    "%pip install cdsapi\n",
    "%load_ext autoreload\n",
    "%autoreload 2"
   ]
  },
  {
   "cell_type": "code",
   "execution_count": 3,
   "id": "8a4471d7",
   "metadata": {},
   "outputs": [
    {
     "name": "stdout",
     "output_type": "stream",
     "text": [
      "The autoreload extension is already loaded. To reload it, use:\n",
      "  %reload_ext autoreload\n"
     ]
    }
   ],
   "source": [
    "%load_ext autoreload\n",
    "%autoreload 2"
   ]
  },
  {
   "cell_type": "code",
   "execution_count": null,
   "id": "ccb6ba02",
   "metadata": {},
   "outputs": [],
   "source": [
    "# Params\n",
    "\n",
    "START_YEAR = 2024\n",
    "END_YEAR = 2024"
   ]
  },
  {
   "cell_type": "code",
   "execution_count": null,
   "id": "4b6399bb",
   "metadata": {},
   "outputs": [
    {
     "name": "stderr",
     "output_type": "stream",
     "text": [
      "2025-07-27 17:02:23,391 INFO [2024-09-26T00:00:00] Watch our [Forum](https://forum.ecmwf.int/) for Announcements, news and other discussed topics.\n",
      "2025-07-27 17:02:23,909 INFO Request ID is c63b2335-db0a-43b8-8343-ae654b08ca43\n",
      "2025-07-27 17:02:24,125 INFO status has been updated to accepted\n",
      "2025-07-27 17:02:46,481 INFO status has been updated to successful\n"
     ]
    },
    {
     "data": {
      "application/vnd.jupyter.widget-view+json": {
       "model_id": "b28b0f5acf9d4c5ea9b43418e25753bd",
       "version_major": 2,
       "version_minor": 0
      },
      "text/plain": [
       "28ee8c76e1b59830b3bef39aec6d6dd1.grib:   0%|          | 0.00/24.7M [00:00<?, ?B/s]"
      ]
     },
     "metadata": {},
     "output_type": "display_data"
    },
    {
     "data": {
      "text/plain": [
       "'28ee8c76e1b59830b3bef39aec6d6dd1.grib'"
      ]
     },
     "execution_count": 4,
     "metadata": {},
     "output_type": "execute_result"
    }
   ],
   "source": [
    "import cdsapi\n",
    "\n",
    "dataset = \"derived-era5-pressure-levels-daily-statistics\"\n",
    "request = {\n",
    "    \"product_type\": \"reanalysis\",\n",
    "    \"variable\": [\n",
    "        \"u_component_of_wind\",\n",
    "        \"v_component_of_wind\"\n",
    "    ],\n",
    "    \"year\": \"2024\",\n",
    "    \"month\": [\"01\"],\n",
    "    \"day\": [\n",
    "        \"01\", \"02\", \"03\",\n",
    "        \"04\", \"05\", \"06\",\n",
    "        \"07\", \"08\", \"09\",\n",
    "        \"10\", \"11\", \"12\",\n",
    "        \"13\", \"14\", \"15\",\n",
    "        \"16\", \"17\", \"18\",\n",
    "        \"19\", \"20\", \"21\",\n",
    "        \"22\", \"23\", \"24\",\n",
    "        \"25\", \"26\", \"27\",\n",
    "        \"28\", \"29\", \"30\",\n",
    "        \"31\"\n",
    "    ],\n",
    "    \"pressure_level\": [\"975\"],\n",
    "    \"daily_statistic\": \"daily_mean\",\n",
    "    \"time_zone\": \"utc+07:00\",\n",
    "    \"frequency\": \"6_hourly\",\n",
    "    \"area\": [6, 95, -11, 141]\n",
    "}\n",
    "\n",
    "client = cdsapi.Client()\n",
    "client.retrieve(dataset, request).download()\n"
   ]
  },
  {
   "cell_type": "code",
   "execution_count": 5,
   "id": "b4143da7",
   "metadata": {},
   "outputs": [
    {
     "name": "stderr",
     "output_type": "stream",
     "text": [
      "2025-07-27 19:24:07,083 INFO [2024-09-26T00:00:00] Watch our [Forum](https://forum.ecmwf.int/) for Announcements, news and other discussed topics.\n"
     ]
    },
    {
     "name": "stdout",
     "output_type": "stream",
     "text": [
      "--- Downloading data for 2023-01 ---\n"
     ]
    },
    {
     "name": "stderr",
     "output_type": "stream",
     "text": [
      "2025-07-27 19:24:07,670 INFO Request ID is 07cceb7b-21ed-48ab-ac43-d17943b0317c\n",
      "2025-07-27 19:24:07,915 INFO status has been updated to accepted\n",
      "2025-07-27 19:24:17,278 INFO status has been updated to running\n",
      "2025-07-27 19:26:04,431 INFO status has been updated to successful\n"
     ]
    },
    {
     "data": {
      "application/vnd.jupyter.widget-view+json": {
       "model_id": "186a8c5ac688444e904874c0251ba6db",
       "version_major": 2,
       "version_minor": 0
      },
      "text/plain": [
       "fbf3d81b3a25bb766336b5607d712de7.grib:   0%|          | 0.00/36.4M [00:00<?, ?B/s]"
      ]
     },
     "metadata": {},
     "output_type": "display_data"
    },
    {
     "name": "stdout",
     "output_type": "stream",
     "text": [
      "Successfully downloaded to: ../data/wind_data_975hpa/wind_data_2023_01.grib\n",
      "--- Downloading data for 2023-02 ---\n"
     ]
    },
    {
     "name": "stderr",
     "output_type": "stream",
     "text": [
      "2025-07-27 19:26:16,174 INFO Request ID is eee152b6-e786-4da9-adec-ce4ab84ff399\n",
      "2025-07-27 19:26:16,416 INFO status has been updated to accepted\n",
      "2025-07-27 19:26:25,705 INFO status has been updated to running\n",
      "2025-07-27 19:28:12,799 INFO status has been updated to successful\n"
     ]
    },
    {
     "data": {
      "application/vnd.jupyter.widget-view+json": {
       "model_id": "d9f1b3fbcdf84b4c8dc3998f3271e06b",
       "version_major": 2,
       "version_minor": 0
      },
      "text/plain": [
       "4cf90ffebfa75390a4594e75eab97251.grib:   0%|          | 0.00/32.9M [00:00<?, ?B/s]"
      ]
     },
     "metadata": {},
     "output_type": "display_data"
    },
    {
     "name": "stdout",
     "output_type": "stream",
     "text": [
      "Successfully downloaded to: ../data/wind_data_975hpa/wind_data_2023_02.grib\n",
      "--- Downloading data for 2023-03 ---\n"
     ]
    },
    {
     "name": "stderr",
     "output_type": "stream",
     "text": [
      "2025-07-27 19:28:24,479 INFO Request ID is 4feec453-004a-4912-a7fa-59831331b0fd\n",
      "2025-07-27 19:28:24,715 INFO status has been updated to accepted\n",
      "2025-07-27 19:28:34,284 INFO status has been updated to running\n",
      "2025-07-27 19:30:21,113 INFO status has been updated to successful\n"
     ]
    },
    {
     "data": {
      "application/vnd.jupyter.widget-view+json": {
       "model_id": "09102576adf14e9d8b123d4a6e5c421c",
       "version_major": 2,
       "version_minor": 0
      },
      "text/plain": [
       "971672f33f7cc7694a2240abc4e0b95f.grib:   0%|          | 0.00/36.4M [00:00<?, ?B/s]"
      ]
     },
     "metadata": {},
     "output_type": "display_data"
    },
    {
     "name": "stdout",
     "output_type": "stream",
     "text": [
      "Successfully downloaded to: ../data/wind_data_975hpa/wind_data_2023_03.grib\n",
      "--- Downloading data for 2023-04 ---\n"
     ]
    },
    {
     "name": "stderr",
     "output_type": "stream",
     "text": [
      "2025-07-27 19:30:32,756 INFO Request ID is 1ee88180-2420-4cf0-9ce2-3a9d1c2dca8b\n",
      "2025-07-27 19:30:33,008 INFO status has been updated to accepted\n",
      "2025-07-27 19:30:47,547 INFO status has been updated to running\n",
      "2025-07-27 19:32:29,174 INFO status has been updated to successful\n"
     ]
    },
    {
     "data": {
      "application/vnd.jupyter.widget-view+json": {
       "model_id": "e3a25dc7154f4f5bb57409c46b7f4c35",
       "version_major": 2,
       "version_minor": 0
      },
      "text/plain": [
       "c040b35fd982a872664f8522a4b6d585.grib:   0%|          | 0.00/35.2M [00:00<?, ?B/s]"
      ]
     },
     "metadata": {},
     "output_type": "display_data"
    },
    {
     "name": "stdout",
     "output_type": "stream",
     "text": [
      "Successfully downloaded to: ../data/wind_data_975hpa/wind_data_2023_04.grib\n",
      "--- Downloading data for 2023-05 ---\n"
     ]
    },
    {
     "name": "stderr",
     "output_type": "stream",
     "text": [
      "2025-07-27 19:32:44,002 INFO Request ID is 7be9032d-bf38-4d2f-a0c3-7365bd3d6c6a\n",
      "2025-07-27 19:32:44,250 INFO status has been updated to accepted\n",
      "2025-07-27 19:32:53,419 INFO status has been updated to running\n",
      "2025-07-27 19:34:40,284 INFO status has been updated to successful\n"
     ]
    },
    {
     "data": {
      "application/vnd.jupyter.widget-view+json": {
       "model_id": "865e6e608b74442aa182dcc35a8060ed",
       "version_major": 2,
       "version_minor": 0
      },
      "text/plain": [
       "70a67aa762b4aad4784329eeca5746b4.grib:   0%|          | 0.00/36.4M [00:00<?, ?B/s]"
      ]
     },
     "metadata": {},
     "output_type": "display_data"
    },
    {
     "name": "stdout",
     "output_type": "stream",
     "text": [
      "Successfully downloaded to: ../data/wind_data_975hpa/wind_data_2023_05.grib\n",
      "--- Downloading data for 2023-06 ---\n"
     ]
    },
    {
     "name": "stderr",
     "output_type": "stream",
     "text": [
      "2025-07-27 19:35:37,342 INFO Request ID is 5d122aa7-d495-4a85-8488-034a419a3cb9\n",
      "2025-07-27 19:35:37,635 INFO status has been updated to accepted\n",
      "2025-07-27 19:35:52,163 INFO status has been updated to running\n",
      "2025-07-27 19:37:33,750 INFO status has been updated to successful\n"
     ]
    },
    {
     "data": {
      "application/vnd.jupyter.widget-view+json": {
       "model_id": "d15eae9dd42f4b738b4e9ad547e470ab",
       "version_major": 2,
       "version_minor": 0
      },
      "text/plain": [
       "1df14c6a6b4836692b822330c4387b49.grib:   0%|          | 0.00/35.2M [00:00<?, ?B/s]"
      ]
     },
     "metadata": {},
     "output_type": "display_data"
    },
    {
     "name": "stdout",
     "output_type": "stream",
     "text": [
      "Successfully downloaded to: ../data/wind_data_975hpa/wind_data_2023_06.grib\n",
      "--- Downloading data for 2023-07 ---\n"
     ]
    },
    {
     "name": "stderr",
     "output_type": "stream",
     "text": [
      "2025-07-27 19:37:46,293 INFO Request ID is 261c2ca2-1ed6-4200-80e9-2b9e459967d8\n",
      "2025-07-27 19:37:46,543 INFO status has been updated to accepted\n",
      "2025-07-27 19:37:55,864 INFO status has been updated to running\n",
      "2025-07-27 19:39:43,077 INFO status has been updated to successful\n"
     ]
    },
    {
     "data": {
      "application/vnd.jupyter.widget-view+json": {
       "model_id": "ba0ac152642a42c6828f51a382e39eff",
       "version_major": 2,
       "version_minor": 0
      },
      "text/plain": [
       "80cdd8848bfac48882d09f383c59019c.grib:   0%|          | 0.00/36.4M [00:00<?, ?B/s]"
      ]
     },
     "metadata": {},
     "output_type": "display_data"
    },
    {
     "name": "stdout",
     "output_type": "stream",
     "text": [
      "Successfully downloaded to: ../data/wind_data_975hpa/wind_data_2023_07.grib\n",
      "--- Downloading data for 2023-08 ---\n"
     ]
    },
    {
     "name": "stderr",
     "output_type": "stream",
     "text": [
      "2025-07-27 19:40:10,828 INFO Request ID is 162291cf-ebaa-488c-96cb-a1fd923657cd\n",
      "2025-07-27 19:40:11,152 INFO status has been updated to accepted\n",
      "2025-07-27 19:40:25,571 INFO status has been updated to running\n",
      "2025-07-27 19:42:07,967 INFO status has been updated to successful\n"
     ]
    },
    {
     "data": {
      "application/vnd.jupyter.widget-view+json": {
       "model_id": "3bfe3b3de862409fa1b65c9453fd32a1",
       "version_major": 2,
       "version_minor": 0
      },
      "text/plain": [
       "76100b1ebf16999ea996577105a1816a.grib:   0%|          | 0.00/36.4M [00:00<?, ?B/s]"
      ]
     },
     "metadata": {},
     "output_type": "display_data"
    },
    {
     "name": "stdout",
     "output_type": "stream",
     "text": [
      "Successfully downloaded to: ../data/wind_data_975hpa/wind_data_2023_08.grib\n",
      "--- Downloading data for 2023-09 ---\n"
     ]
    },
    {
     "name": "stderr",
     "output_type": "stream",
     "text": [
      "2025-07-27 19:42:36,859 INFO Request ID is 6c830629-7609-48cc-8d0c-be85e75d512e\n",
      "2025-07-27 19:42:37,160 INFO status has been updated to accepted\n",
      "2025-07-27 19:42:46,886 INFO status has been updated to running\n",
      "2025-07-27 19:42:52,414 INFO status has been updated to accepted\n",
      "2025-07-27 19:43:00,300 INFO status has been updated to running\n",
      "2025-07-27 19:44:34,304 INFO status has been updated to successful\n"
     ]
    },
    {
     "data": {
      "application/vnd.jupyter.widget-view+json": {
       "model_id": "e4c997cd3b29452aab5c1a0cfa4d4a90",
       "version_major": 2,
       "version_minor": 0
      },
      "text/plain": [
       "e49e843ee07e0aab1f3f3b4268e9f9b3.grib:   0%|          | 0.00/35.2M [00:00<?, ?B/s]"
      ]
     },
     "metadata": {},
     "output_type": "display_data"
    },
    {
     "name": "stdout",
     "output_type": "stream",
     "text": [
      "Successfully downloaded to: ../data/wind_data_975hpa/wind_data_2023_09.grib\n",
      "--- Downloading data for 2023-10 ---\n"
     ]
    },
    {
     "name": "stderr",
     "output_type": "stream",
     "text": [
      "2025-07-27 19:44:59,298 INFO Request ID is f8bc234a-a4ec-4d01-8569-901af7e164c5\n",
      "2025-07-27 19:44:59,597 INFO status has been updated to accepted\n",
      "2025-07-27 19:45:09,015 INFO status has been updated to running\n",
      "2025-07-27 19:47:55,008 INFO status has been updated to successful\n"
     ]
    },
    {
     "data": {
      "application/vnd.jupyter.widget-view+json": {
       "model_id": "cb2410e67d354bde8620f3432eb5cf5d",
       "version_major": 2,
       "version_minor": 0
      },
      "text/plain": [
       "6626eb47bca489a24974c8d97f465829.grib:   0%|          | 0.00/36.4M [00:00<?, ?B/s]"
      ]
     },
     "metadata": {},
     "output_type": "display_data"
    },
    {
     "name": "stdout",
     "output_type": "stream",
     "text": [
      "Successfully downloaded to: ../data/wind_data_975hpa/wind_data_2023_10.grib\n",
      "--- Downloading data for 2023-11 ---\n"
     ]
    },
    {
     "name": "stderr",
     "output_type": "stream",
     "text": [
      "2025-07-27 19:48:09,751 INFO Request ID is a081995f-ce01-4a00-a261-a19b41bef937\n",
      "2025-07-27 19:48:10,058 INFO status has been updated to accepted\n",
      "2025-07-27 19:48:15,692 INFO status has been updated to running\n",
      "2025-07-27 19:50:06,386 INFO status has been updated to successful\n"
     ]
    },
    {
     "data": {
      "application/vnd.jupyter.widget-view+json": {
       "model_id": "8230b3b236e4436ba972901f10e7f95d",
       "version_major": 2,
       "version_minor": 0
      },
      "text/plain": [
       "715a01ab3c3d1f0ebff08b915d215554.grib:   0%|          | 0.00/35.2M [00:00<?, ?B/s]"
      ]
     },
     "metadata": {},
     "output_type": "display_data"
    },
    {
     "name": "stdout",
     "output_type": "stream",
     "text": [
      "Successfully downloaded to: ../data/wind_data_975hpa/wind_data_2023_11.grib\n",
      "--- Downloading data for 2023-12 ---\n"
     ]
    },
    {
     "name": "stderr",
     "output_type": "stream",
     "text": [
      "2025-07-27 19:50:51,233 INFO Request ID is b24e4f8d-0ab6-416f-88cd-b1fcbdd8c6b1\n",
      "2025-07-27 19:50:51,648 INFO status has been updated to accepted\n",
      "2025-07-27 19:51:01,282 INFO status has been updated to running\n",
      "2025-07-27 19:52:09,880 INFO status has been updated to successful\n"
     ]
    },
    {
     "data": {
      "application/vnd.jupyter.widget-view+json": {
       "model_id": "715a10c7c9f949bab8024432fd40015a",
       "version_major": 2,
       "version_minor": 0
      },
      "text/plain": [
       "2b97efcce9c0dbd10e6170a320cbbdd9.grib:   0%|          | 0.00/36.4M [00:00<?, ?B/s]"
      ]
     },
     "metadata": {},
     "output_type": "display_data"
    },
    {
     "name": "stdout",
     "output_type": "stream",
     "text": [
      "Successfully downloaded to: ../data/wind_data_975hpa/wind_data_2023_12.grib\n",
      "\n",
      "--- Automation complete. ---\n"
     ]
    }
   ],
   "source": [
    "import cdsapi\n",
    "import os\n",
    "import pandas as pd\n",
    "\n",
    "# --- Configuration ---\n",
    "YEAR_TO_DOWNLOAD = 2023  # The year you want data for\n",
    "OUTPUT_FOLDER = \"../data/wind_data_975hpa/\" # Make sure this folder exists\n",
    "DATASET = \"reanalysis-era5-pressure-levels\" # Correct dataset for this type of request\n",
    "\n",
    "# --- Script Starts Here ---\n",
    "# Ensure the output directory exists\n",
    "os.makedirs(OUTPUT_FOLDER, exist_ok=True)\n",
    "\n",
    "# Initialize the API client\n",
    "client = cdsapi.Client()\n",
    "\n",
    "# Generate a list of the first day of each month for the specified year\n",
    "date_range = pd.date_range(start=f'{YEAR_TO_DOWNLOAD}-01-01', end=f'{YEAR_TO_DOWNLOAD}-12-31', freq='MS')\n",
    "\n",
    "# Loop through each month\n",
    "for date in date_range:\n",
    "    year = date.strftime(\"%Y\")\n",
    "    month = date.strftime(\"%m\")\n",
    "    \n",
    "    # Define a unique output filename for this month\n",
    "    output_filename = f\"wind_data_{year}_{month}.grib\"\n",
    "    output_file_path = os.path.join(OUTPUT_FOLDER, output_filename)\n",
    "    \n",
    "    # Check if the file already exists to avoid re-downloading\n",
    "    if os.path.exists(output_file_path):\n",
    "        print(f\"Skipping {output_filename}, file already exists.\")\n",
    "        continue\n",
    "\n",
    "    print(f\"--- Downloading data for {year}-{month} ---\")\n",
    "\n",
    "    try:\n",
    "        # Create the API request for the current month\n",
    "        request = {\n",
    "            \"product_type\": \"reanalysis\",\n",
    "            \"format\": \"grib\",\n",
    "            \"variable\": [\n",
    "                \"u_component_of_wind\",\n",
    "                \"v_component_of_wind\"\n",
    "            ],\n",
    "            'pressure_level': '975',\n",
    "            \"year\": year,\n",
    "            \"month\": month,\n",
    "            \"day\": [str(d).zfill(2) for d in range(1, 32)], # API handles non-existent days\n",
    "            'time': [f'{h:02d}:00' for h in range(0, 24)], # All 24 hours\n",
    "            \"area\": [6, 95, -11, 141], # North, West, South, East\n",
    "        }\n",
    "\n",
    "        # Retrieve and download the data\n",
    "        client.retrieve(DATASET, request, output_file_path)\n",
    "        \n",
    "        print(f\"Successfully downloaded to: {output_file_path}\")\n",
    "\n",
    "    except Exception as e:\n",
    "        print(f\"!!! FAILED to download data for {year}-{month}. Error: {e}\")\n",
    "        # The loop will continue to the next month\n",
    "\n",
    "print(\"\\n--- Automation complete. ---\")"
   ]
  },
  {
   "cell_type": "code",
   "execution_count": 6,
   "id": "131667da",
   "metadata": {},
   "outputs": [
    {
     "name": "stdout",
     "output_type": "stream",
     "text": [
      "Requirement already satisfied: pandas in c:\\users\\asus\\anaconda3\\lib\\site-packages (1.4.4)Note: you may need to restart the kernel to use updated packages.\n",
      "\n",
      "Requirement already satisfied: xarray in c:\\users\\asus\\anaconda3\\lib\\site-packages (0.20.1)\n",
      "Collecting cfgrib\n",
      "  Downloading cfgrib-0.9.15.0-py3-none-any.whl (48 kB)\n",
      "     ---------------------------------------- 48.9/48.9 kB 1.2 MB/s eta 0:00:00\n",
      "Requirement already satisfied: numpy in c:\\users\\asus\\anaconda3\\lib\\site-packages (1.24.4)\n",
      "Requirement already satisfied: python-dateutil>=2.8.1 in c:\\users\\asus\\anaconda3\\lib\\site-packages (from pandas) (2.8.2)\n",
      "Requirement already satisfied: pytz>=2020.1 in c:\\users\\asus\\anaconda3\\lib\\site-packages (from pandas) (2022.1)\n",
      "Requirement already satisfied: click in c:\\users\\asus\\anaconda3\\lib\\site-packages (from cfgrib) (8.0.4)\n",
      "Collecting eccodes>=0.9.8\n",
      "  Downloading eccodes-2.43.0-cp39-cp39-win_amd64.whl (7.0 MB)\n",
      "     ---------------------------------------- 7.0/7.0 MB 4.1 MB/s eta 0:00:00\n",
      "Requirement already satisfied: attrs>=19.2 in c:\\users\\asus\\anaconda3\\lib\\site-packages (from cfgrib) (21.4.0)\n",
      "Collecting findlibs\n",
      "  Downloading findlibs-0.1.1-py3-none-any.whl (10 kB)\n",
      "Requirement already satisfied: cffi in c:\\users\\asus\\anaconda3\\lib\\site-packages (from eccodes>=0.9.8->cfgrib) (1.15.1)\n",
      "Requirement already satisfied: six>=1.5 in c:\\users\\asus\\anaconda3\\lib\\site-packages (from python-dateutil>=2.8.1->pandas) (1.16.0)\n",
      "Requirement already satisfied: colorama in c:\\users\\asus\\anaconda3\\lib\\site-packages (from click->cfgrib) (0.4.5)\n",
      "Requirement already satisfied: pycparser in c:\\users\\asus\\anaconda3\\lib\\site-packages (from cffi->eccodes>=0.9.8->cfgrib) (2.21)\n",
      "Installing collected packages: findlibs, eccodes, cfgrib\n",
      "Successfully installed cfgrib-0.9.15.0 eccodes-2.43.0 findlibs-0.1.1\n"
     ]
    }
   ],
   "source": [
    "%pip install pandas xarray cfgrib numpy"
   ]
  },
  {
   "cell_type": "code",
   "execution_count": 21,
   "id": "6300dde3",
   "metadata": {},
   "outputs": [
    {
     "name": "stderr",
     "output_type": "stream",
     "text": [
      "Ignoring index file '../data/wind_data_975hpa\\\\wind_data_2023_01.grib.5b7b6.idx' incompatible with GRIB file\n"
     ]
    },
    {
     "name": "stdout",
     "output_type": "stream",
     "text": [
      "Found 6 GRIB files to process.\n",
      "Processing and coarsening wind_data_2023_01.grib...\n",
      "Processing and coarsening wind_data_2023_02.grib...\n",
      "Processing and coarsening wind_data_2023_03.grib...\n",
      "Processing and coarsening wind_data_2023_04.grib...\n",
      "Processing and coarsening wind_data_2023_05.grib...\n",
      "Processing and coarsening wind_data_2023_06.grib...\n",
      "\n",
      "--- Processing Complete --- ✅\n",
      "Final Coarse DataFrame Head:\n",
      "        time  latitude  longitude         u         v  number   step  \\\n",
      "0 2023-01-01     5.875     95.125 -8.483521 -2.083054       0 0 days   \n",
      "1 2023-01-01     5.875     95.625 -6.798218 -0.075485       0 0 days   \n",
      "2 2023-01-01     5.875     96.125 -6.045288 -0.768845       0 0 days   \n",
      "3 2023-01-01     5.875     96.625 -5.609253 -1.209763       0 0 days   \n",
      "4 2023-01-01     5.875     97.125 -5.634644 -1.775925       0 0 days   \n",
      "\n",
      "   isobaricInhPa valid_time  wind_speed  \n",
      "0          975.0 2023-01-01    8.735516  \n",
      "1          975.0 2023-01-01    6.798637  \n",
      "2          975.0 2023-01-01    6.093983  \n",
      "3          975.0 2023-01-01    5.738226  \n",
      "4          975.0 2023-01-01    5.907886  \n"
     ]
    }
   ],
   "source": [
    "import os\n",
    "import glob\n",
    "import xarray as xr\n",
    "import pandas as pd\n",
    "import numpy as np\n",
    "\n",
    "# --- Configuration ---\n",
    "INPUT_FOLDER = \"../data/wind_data_975hpa/\"\n",
    "VARIABLE_NAMES = ['u', 'v']\n",
    "\n",
    "# Find all .grib files\n",
    "grib_files = sorted(glob.glob(os.path.join(INPUT_FOLDER, '*.grib')))\n",
    "\n",
    "if not grib_files:\n",
    "    print(f\"Error: No .grib files found in '{INPUT_FOLDER}'\")\n",
    "else:\n",
    "    print(f\"Found {len(grib_files)} GRIB files to process.\")\n",
    "    \n",
    "    all_coarse_dataframes = []\n",
    "    for file_path in grib_files:\n",
    "        print(f\"Processing and coarsening {os.path.basename(file_path)}...\")\n",
    "        try:\n",
    "            with xr.open_dataset(file_path, engine='cfgrib') as ds:\n",
    "                # Aggregate to a 1-degree grid using coarsen().mean() FIRST\n",
    "                coarse_ds = ds.coarsen(latitude=2, longitude=2, boundary='trim').mean()\n",
    "                \n",
    "                # Convert the much smaller, coarsened dataset to a DataFrame\n",
    "                df = coarse_ds.to_dataframe()\n",
    "                all_coarse_dataframes.append(df)\n",
    "        except Exception as e:\n",
    "            print(f\"!!! Could not process {file_path}. Error: {e}\")\n",
    "\n",
    "    if all_coarse_dataframes:\n",
    "        # Combine all the coarse DataFrames\n",
    "        combined_df = pd.concat(all_coarse_dataframes).reset_index()\n",
    "        \n",
    "        # Calculate wind speed from the averaged components\n",
    "        combined_df['wind_speed'] = np.sqrt(combined_df['u']**2 + combined_df['v']**2)\n",
    "\n",
    "        print(\"\\n--- Processing Complete --- ✅\")\n",
    "        print(\"Final Coarse DataFrame Head:\")\n",
    "        print(combined_df.head())\n",
    "\n"
   ]
  },
  {
   "cell_type": "code",
   "execution_count": 20,
   "id": "33e2fd8f",
   "metadata": {},
   "outputs": [
    {
     "name": "stdout",
     "output_type": "stream",
     "text": [
      "<class 'pandas.core.frame.DataFrame'>\n",
      "RangeIndex: 9497160 entries, 0 to 9497159\n",
      "Data columns (total 6 columns):\n",
      " #   Column      Dtype         \n",
      "---  ------      -----         \n",
      " 0   time        datetime64[ns]\n",
      " 1   latitude    float64       \n",
      " 2   longitude   float64       \n",
      " 3   u           float32       \n",
      " 4   v           float32       \n",
      " 5   wind_speed  float32       \n",
      "dtypes: datetime64[ns](1), float32(3), float64(2)\n",
      "memory usage: 326.1 MB\n"
     ]
    }
   ],
   "source": [
    "final_df.info()"
   ]
  }
 ],
 "metadata": {
  "kernelspec": {
   "display_name": "base",
   "language": "python",
   "name": "python3"
  },
  "language_info": {
   "codemirror_mode": {
    "name": "ipython",
    "version": 3
   },
   "file_extension": ".py",
   "mimetype": "text/x-python",
   "name": "python",
   "nbconvert_exporter": "python",
   "pygments_lexer": "ipython3",
   "version": "3.9.13"
  }
 },
 "nbformat": 4,
 "nbformat_minor": 5
}
