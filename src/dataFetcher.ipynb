{
 "cells": [
  {
   "cell_type": "markdown",
   "id": "f08094cf",
   "metadata": {},
   "source": [
    "## DATA FETCH FROM ERA5\n",
    "\n",
    "### Time Period\n",
    "Data yang diambil akan diambil data 20 tahun untuk averaging faktor-faktor musiman seperti el-nino, dll. \n",
    "\n",
    "### Data yang dibutuhkan untuk solar\n",
    "\n",
    "- Surface Solar Radiation Downwards (SSRD) \n",
    "Untuk menghitung berapa energi solar yang sampai ke permukaan bumi. \n",
    "- 2m Temperature (t2m)\n",
    "Semakin tinggi temperature, semakin rendah efisiensi solar panel\n",
    "\n",
    "\n",
    "### Data yang dibutuhkan untuk wind\n",
    "\n",
    "- u-component of wind\n",
    "- v-component of wind\n",
    "\n",
    "Dipakai untuk menghitung vektor kecepatan angin. "
   ]
  },
  {
   "cell_type": "code",
   "execution_count": 1,
   "id": "a0f7977f",
   "metadata": {},
   "outputs": [
    {
     "name": "stdout",
     "output_type": "stream",
     "text": [
      "Requirement already satisfied: cdsapi in c:\\users\\asus\\anaconda3\\lib\\site-packages (0.7.6)\n",
      "Requirement already satisfied: requests>=2.5.0 in c:\\users\\asus\\anaconda3\\lib\\site-packages (from cdsapi) (2.28.1)\n",
      "Requirement already satisfied: ecmwf-datastores-client in c:\\users\\asus\\anaconda3\\lib\\site-packages (from cdsapi) (0.2.0)\n",
      "Requirement already satisfied: tqdm in c:\\users\\asus\\anaconda3\\lib\\site-packages (from cdsapi) (4.64.1)\n",
      "Requirement already satisfied: idna<4,>=2.5 in c:\\users\\asus\\anaconda3\\lib\\site-packages (from requests>=2.5.0->cdsapi) (3.3)\n",
      "Requirement already satisfied: urllib3<1.27,>=1.21.1 in c:\\users\\asus\\anaconda3\\lib\\site-packages (from requests>=2.5.0->cdsapi) (1.26.11)\n",
      "Requirement already satisfied: charset-normalizer<3,>=2 in c:\\users\\asus\\anaconda3\\lib\\site-packages (from requests>=2.5.0->cdsapi) (2.0.4)\n",
      "Requirement already satisfied: certifi>=2017.4.17 in c:\\users\\asus\\anaconda3\\lib\\site-packages (from requests>=2.5.0->cdsapi) (2022.9.14)\n",
      "Requirement already satisfied: attrs in c:\\users\\asus\\anaconda3\\lib\\site-packages (from ecmwf-datastores-client->cdsapi) (21.4.0)\n",
      "Requirement already satisfied: multiurl>=0.3.2 in c:\\users\\asus\\anaconda3\\lib\\site-packages (from ecmwf-datastores-client->cdsapi) (0.3.6)\n",
      "Requirement already satisfied: typing-extensions in c:\\users\\asus\\anaconda3\\lib\\site-packages (from ecmwf-datastores-client->cdsapi) (4.13.1)\n",
      "Requirement already satisfied: colorama in c:\\users\\asus\\anaconda3\\lib\\site-packages (from tqdm->cdsapi) (0.4.5)\n",
      "Requirement already satisfied: pytz in c:\\users\\asus\\anaconda3\\lib\\site-packages (from multiurl>=0.3.2->ecmwf-datastores-client->cdsapi) (2022.1)\n",
      "Requirement already satisfied: python-dateutil in c:\\users\\asus\\anaconda3\\lib\\site-packages (from multiurl>=0.3.2->ecmwf-datastores-client->cdsapi) (2.8.2)\n",
      "Requirement already satisfied: six>=1.5 in c:\\users\\asus\\anaconda3\\lib\\site-packages (from python-dateutil->multiurl>=0.3.2->ecmwf-datastores-client->cdsapi) (1.16.0)\n",
      "Note: you may need to restart the kernel to use updated packages.\n",
      "Requirement already satisfied: pandas in c:\\users\\asus\\anaconda3\\lib\\site-packages (1.4.4)\n",
      "Requirement already satisfied: xarray in c:\\users\\asus\\anaconda3\\lib\\site-packages (0.20.1)\n",
      "Requirement already satisfied: cfgrib in c:\\users\\asus\\anaconda3\\lib\\site-packages (0.9.15.0)\n",
      "Requirement already satisfied: numpy in c:\\users\\asus\\anaconda3\\lib\\site-packages (1.24.4)\n",
      "Requirement already satisfied: python-dateutil>=2.8.1 in c:\\users\\asus\\anaconda3\\lib\\site-packages (from pandas) (2.8.2)\n",
      "Requirement already satisfied: pytz>=2020.1 in c:\\users\\asus\\anaconda3\\lib\\site-packages (from pandas) (2022.1)\n",
      "Requirement already satisfied: click in c:\\users\\asus\\anaconda3\\lib\\site-packages (from cfgrib) (8.0.4)\n",
      "Requirement already satisfied: eccodes>=0.9.8 in c:\\users\\asus\\anaconda3\\lib\\site-packages (from cfgrib) (2.43.0)\n",
      "Requirement already satisfied: attrs>=19.2 in c:\\users\\asus\\anaconda3\\lib\\site-packages (from cfgrib) (21.4.0)\n",
      "Requirement already satisfied: findlibs in c:\\users\\asus\\anaconda3\\lib\\site-packages (from eccodes>=0.9.8->cfgrib) (0.1.1)\n",
      "Requirement already satisfied: cffi in c:\\users\\asus\\anaconda3\\lib\\site-packages (from eccodes>=0.9.8->cfgrib) (1.15.1)\n",
      "Requirement already satisfied: six>=1.5 in c:\\users\\asus\\anaconda3\\lib\\site-packages (from python-dateutil>=2.8.1->pandas) (1.16.0)\n",
      "Requirement already satisfied: colorama in c:\\users\\asus\\anaconda3\\lib\\site-packages (from click->cfgrib) (0.4.5)\n",
      "Requirement already satisfied: pycparser in c:\\users\\asus\\anaconda3\\lib\\site-packages (from cffi->eccodes>=0.9.8->cfgrib) (2.21)\n",
      "Note: you may need to restart the kernel to use updated packages.\n"
     ]
    }
   ],
   "source": [
    "%pip install cdsapi\n",
    "%pip install pandas xarray cfgrib numpy"
   ]
  },
  {
   "cell_type": "code",
   "execution_count": 2,
   "id": "8a4471d7",
   "metadata": {},
   "outputs": [],
   "source": [
    "%load_ext autoreload\n",
    "%autoreload 2"
   ]
  },
  {
   "cell_type": "code",
   "execution_count": null,
   "id": "4211ff1e",
   "metadata": {},
   "outputs": [],
   "source": [
    "import cdsapi\n",
    "import pandas as pd\n",
    "import os\n",
    "import glob\n",
    "import xarray as xr\n",
    "import numpy as np"
   ]
  },
  {
   "cell_type": "code",
   "execution_count": 9,
   "id": "ccb6ba02",
   "metadata": {},
   "outputs": [],
   "source": [
    "# Params\n",
    "\n",
    "#Data Fetch\n",
    "START_YEAR = 2023\n",
    "END_YEAR = 2024\n",
    "MONTH = 1 \n",
    "PRESSURE_LEVEL = 975\n",
    "DATASET = \"reanalysis-era5-pressure-levels\"\n",
    "OUTPUT_FOLDER = \"../data/wind_data_975hpa/\"\n",
    "\n",
    "#GRIB to df\n",
    "INPUT_FOLDER = \"../data/wind_data_975hpa/\"\n"
   ]
  },
  {
   "cell_type": "code",
   "execution_count": null,
   "id": "b4143da7",
   "metadata": {},
   "outputs": [
    {
     "name": "stderr",
     "output_type": "stream",
     "text": [
      "2025-07-29 07:06:56,741 INFO [2024-09-26T00:00:00] Watch our [Forum](https://forum.ecmwf.int/) for Announcements, news and other discussed topics.\n"
     ]
    },
    {
     "name": "stdout",
     "output_type": "stream",
     "text": [
      "--- Downloading data for 2023-01 ---\n"
     ]
    },
    {
     "name": "stderr",
     "output_type": "stream",
     "text": [
      "2025-07-29 07:06:57,419 INFO Request ID is 359b0129-7b9c-4378-85b3-fa6d6da96ba7\n",
      "2025-07-29 07:06:57,728 INFO status has been updated to accepted\n",
      "2025-07-29 07:07:07,540 INFO status has been updated to successful\n"
     ]
    },
    {
     "data": {
      "application/vnd.jupyter.widget-view+json": {
       "model_id": "bb0fc36b36d44171be8d3dd15cbc272d",
       "version_major": 2,
       "version_minor": 0
      },
      "text/plain": [
       "fbf3d81b3a25bb766336b5607d712de7.grib:   0%|          | 0.00/36.4M [00:00<?, ?B/s]"
      ]
     },
     "metadata": {},
     "output_type": "display_data"
    },
    {
     "name": "stdout",
     "output_type": "stream",
     "text": [
      "Successfully downloaded to: ../data/wind_data_975hpa/wind_data_2023_01.grib\n",
      "--- Downloading data for 2024-01 ---\n"
     ]
    },
    {
     "name": "stderr",
     "output_type": "stream",
     "text": [
      "2025-07-29 07:07:44,909 INFO Request ID is 399a384b-d51d-4b82-913c-4bf61ce22a6e\n",
      "2025-07-29 07:07:45,349 INFO status has been updated to accepted\n",
      "2025-07-29 07:08:00,313 INFO status has been updated to successful\n"
     ]
    },
    {
     "data": {
      "application/vnd.jupyter.widget-view+json": {
       "model_id": "7be1edef669a49b8a342ea321b81800b",
       "version_major": 2,
       "version_minor": 0
      },
      "text/plain": [
       "b4ce9f188872cea9e4eeff279a94c192.grib:   0%|          | 0.00/36.4M [00:00<?, ?B/s]"
      ]
     },
     "metadata": {},
     "output_type": "display_data"
    },
    {
     "name": "stdout",
     "output_type": "stream",
     "text": [
      "Successfully downloaded to: ../data/wind_data_975hpa/wind_data_2024_01.grib\n",
      "\n",
      "--- Automation complete. ---\n"
     ]
    }
   ],
   "source": [
    "#Fetch data from cds\n",
    "\n",
    "# Ensure the output directory exists\n",
    "os.makedirs(OUTPUT_FOLDER, exist_ok=True)\n",
    "\n",
    "# Initialize the API client\n",
    "client = cdsapi.Client()\n",
    "\n",
    "# Generate a list of the first day of each month for the specified year\n",
    "date_range = pd.date_range(start=f'{START_YEAR}-01-01', end=f'{END_YEAR}-12-31', freq='YS')\n",
    "\n",
    "# Loop through each month\n",
    "for date in date_range:\n",
    "    year = date.strftime(\"%Y\")\n",
    "    month = date.strftime(\"%m\")\n",
    "    \n",
    "    output_filename = f\"wind_data_{year}_{month}.grib\"\n",
    "    output_file_path = os.path.join(OUTPUT_FOLDER, output_filename)\n",
    "    \n",
    "    if os.path.exists(output_file_path):\n",
    "        print(f\"Skipping {output_filename}, file already exists.\")\n",
    "        continue\n",
    "\n",
    "    print(f\"--- Downloading data for {year}-{month} ---\")\n",
    "\n",
    "    try:\n",
    "        request = {\n",
    "            \"product_type\": \"reanalysis\",\n",
    "            \"format\": \"grib\",\n",
    "            \"variable\": [\n",
    "                \"u_component_of_wind\",\n",
    "                \"v_component_of_wind\"\n",
    "            ],\n",
    "            'pressure_level': PRESSURE_LEVEL,\n",
    "            \"year\": year,\n",
    "            \"month\": month,\n",
    "            \"day\": [str(d).zfill(2) for d in range(1, 32)], # API handles non-existent days\n",
    "            'time': [f'{h:02d}:00' for h in range(0, 24)], # All 24 hours\n",
    "            \"area\": [6, 95, -11, 141], # North, West, South, East\n",
    "        }\n",
    "\n",
    "        # Retrieve and download the data\n",
    "        client.retrieve(DATASET, request, output_file_path)\n",
    "        \n",
    "        print(f\"Successfully downloaded to: {output_file_path}\")\n",
    "\n",
    "    except Exception as e:\n",
    "        print(f\"!!! FAILED to download data for {year}-{month}. Error: {e}\")\n",
    "      \n",
    "print(\"\\n--- Automation complete. ---\")"
   ]
  },
  {
   "cell_type": "code",
   "execution_count": null,
   "id": "6300dde3",
   "metadata": {},
   "outputs": [],
   "source": [
    "\n",
    "# Convert to df and coarse. \n",
    "\n",
    "#Note: Data increment in 0.25 Coarsen factor for now is 2 / increment per 0.5\n",
    "\n",
    "\n",
    "# Find all .grib files\n",
    "grib_files = sorted(glob.glob(os.path.join(INPUT_FOLDER, '*.grib')))\n",
    "\n",
    "if not grib_files:\n",
    "    print(f\"Error: No .grib files found in '{INPUT_FOLDER}'\")\n",
    "else:\n",
    "    print(f\"Found {len(grib_files)} GRIB files to process.\")\n",
    "    \n",
    "    all_coarse_dataframes = []\n",
    "    for file_path in grib_files:\n",
    "        print(f\"Processing and coarsening {os.path.basename(file_path)}...\")\n",
    "        try:\n",
    "            with xr.open_dataset(file_path, engine='cfgrib') as ds:\n",
    "                coarse_ds = ds.coarsen(latitude=2, longitude=2, boundary='trim').mean()\n",
    "                \n",
    "                df = coarse_ds.to_dataframe()\n",
    "                all_coarse_dataframes.append(df)\n",
    "        except Exception as e:\n",
    "            print(f\"!!! Could not process {file_path}. Error: {e}\")\n",
    "\n",
    "    if all_coarse_dataframes:\n",
    "        combined_df = pd.concat(all_coarse_dataframes).reset_index()\n",
    "        \n",
    "        combined_df['wind_speed'] = np.sqrt(combined_df['u']**2 + combined_df['v']**2)\n",
    "\n",
    "        print(\"\\n--- Processing Complete --- ✅\")\n",
    "        print(\"Final Coarse DataFrame Head:\")\n",
    "        print(combined_df.head())\n",
    "\n",
    "        "
   ]
  },
  {
   "cell_type": "code",
   "execution_count": null,
   "id": "33e2fd8f",
   "metadata": {},
   "outputs": [],
   "source": [
    "combined_df.info()"
   ]
  }
 ],
 "metadata": {
  "kernelspec": {
   "display_name": "base",
   "language": "python",
   "name": "python3"
  },
  "language_info": {
   "codemirror_mode": {
    "name": "ipython",
    "version": 3
   },
   "file_extension": ".py",
   "mimetype": "text/x-python",
   "name": "python",
   "nbconvert_exporter": "python",
   "pygments_lexer": "ipython3",
   "version": "3.9.13"
  }
 },
 "nbformat": 4,
 "nbformat_minor": 5
}
