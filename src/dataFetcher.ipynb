{
 "cells": [
  {
   "cell_type": "markdown",
   "id": "f08094cf",
   "metadata": {},
   "source": [
    "## DATA FETCH FROM ERA5\n",
    "\n",
    "### Time Period\n",
    "Data yang diambil akan diambil data 20 tahun untuk averaging faktor-faktor musiman seperti el-nino, dll. \n",
    "\n",
    "### Data yang dibutuhkan untuk solar\n",
    "\n",
    "- Surface Solar Radiation Downwards (SSRD) \n",
    "Untuk menghitung berapa energi solar yang sampai ke permukaan bumi. \n",
    "- 2m Temperature (t2m)\n",
    "Semakin tinggi temperature, semakin rendah efisiensi solar panel\n",
    "\n",
    "\n",
    "### Data yang dibutuhkan untuk wind\n",
    "\n",
    "- u-component of wind\n",
    "- v-component of wind\n",
    "\n",
    "Dipakai untuk menghitung vektor kecepatan angin. "
   ]
  },
  {
   "cell_type": "code",
   "execution_count": 1,
   "id": "a0f7977f",
   "metadata": {},
   "outputs": [
    {
     "name": "stdout",
     "output_type": "stream",
     "text": [
      "Requirement already satisfied: cdsapi in d:\\anaconda3\\lib\\site-packages (0.7.6)\n",
      "Requirement already satisfied: ecmwf-datastores-client in d:\\anaconda3\\lib\\site-packages (from cdsapi) (0.2.0)\n",
      "Requirement already satisfied: requests>=2.5.0 in d:\\anaconda3\\lib\\site-packages (from cdsapi) (2.32.3)\n",
      "Requirement already satisfied: tqdm in d:\\anaconda3\\lib\\site-packages (from cdsapi) (4.66.5)\n",
      "Requirement already satisfied: charset-normalizer<4,>=2 in d:\\anaconda3\\lib\\site-packages (from requests>=2.5.0->cdsapi) (3.3.2)\n",
      "Requirement already satisfied: idna<4,>=2.5 in d:\\anaconda3\\lib\\site-packages (from requests>=2.5.0->cdsapi) (3.7)\n",
      "Requirement already satisfied: urllib3<3,>=1.21.1 in d:\\anaconda3\\lib\\site-packages (from requests>=2.5.0->cdsapi) (2.2.3)\n",
      "Requirement already satisfied: certifi>=2017.4.17 in d:\\anaconda3\\lib\\site-packages (from requests>=2.5.0->cdsapi) (2025.4.26)\n",
      "Requirement already satisfied: attrs in d:\\anaconda3\\lib\\site-packages (from ecmwf-datastores-client->cdsapi) (23.1.0)\n",
      "Requirement already satisfied: multiurl>=0.3.2 in d:\\anaconda3\\lib\\site-packages (from ecmwf-datastores-client->cdsapi) (0.3.6)\n",
      "Requirement already satisfied: typing-extensions in d:\\anaconda3\\lib\\site-packages (from ecmwf-datastores-client->cdsapi) (4.11.0)\n",
      "Requirement already satisfied: colorama in d:\\anaconda3\\lib\\site-packages (from tqdm->cdsapi) (0.4.6)\n",
      "Requirement already satisfied: pytz in d:\\anaconda3\\lib\\site-packages (from multiurl>=0.3.2->ecmwf-datastores-client->cdsapi) (2024.1)\n",
      "Requirement already satisfied: python-dateutil in d:\\anaconda3\\lib\\site-packages (from multiurl>=0.3.2->ecmwf-datastores-client->cdsapi) (2.9.0.post0)\n",
      "Requirement already satisfied: six>=1.5 in d:\\anaconda3\\lib\\site-packages (from python-dateutil->multiurl>=0.3.2->ecmwf-datastores-client->cdsapi) (1.16.0)\n",
      "Note: you may need to restart the kernel to use updated packages.\n",
      "Requirement already satisfied: pandas in d:\\anaconda3\\lib\\site-packages (2.2.2)\n",
      "Requirement already satisfied: xarray in d:\\anaconda3\\lib\\site-packages (2023.6.0)\n",
      "Requirement already satisfied: cfgrib in d:\\anaconda3\\lib\\site-packages (0.9.15.0)\n",
      "Requirement already satisfied: numpy in d:\\anaconda3\\lib\\site-packages (1.26.4)\n",
      "Requirement already satisfied: python-dateutil>=2.8.2 in d:\\anaconda3\\lib\\site-packages (from pandas) (2.9.0.post0)\n",
      "Requirement already satisfied: pytz>=2020.1 in d:\\anaconda3\\lib\\site-packages (from pandas) (2024.1)\n",
      "Requirement already satisfied: tzdata>=2022.7 in d:\\anaconda3\\lib\\site-packages (from pandas) (2023.3)\n",
      "Requirement already satisfied: packaging>=21.3 in d:\\anaconda3\\lib\\site-packages (from xarray) (24.1)\n",
      "Requirement already satisfied: attrs>=19.2 in d:\\anaconda3\\lib\\site-packages (from cfgrib) (23.1.0)\n",
      "Requirement already satisfied: click in d:\\anaconda3\\lib\\site-packages (from cfgrib) (8.1.7)\n",
      "Requirement already satisfied: eccodes>=0.9.8 in d:\\anaconda3\\lib\\site-packages (from cfgrib) (2.43.0)\n",
      "Requirement already satisfied: cffi in d:\\anaconda3\\lib\\site-packages (from eccodes>=0.9.8->cfgrib) (1.17.1)\n",
      "Requirement already satisfied: findlibs in d:\\anaconda3\\lib\\site-packages (from eccodes>=0.9.8->cfgrib) (0.1.2)\n",
      "Requirement already satisfied: six>=1.5 in d:\\anaconda3\\lib\\site-packages (from python-dateutil>=2.8.2->pandas) (1.16.0)\n",
      "Requirement already satisfied: colorama in d:\\anaconda3\\lib\\site-packages (from click->cfgrib) (0.4.6)\n",
      "Requirement already satisfied: pycparser in d:\\anaconda3\\lib\\site-packages (from cffi->eccodes>=0.9.8->cfgrib) (2.21)\n",
      "Note: you may need to restart the kernel to use updated packages.\n",
      "Requirement already satisfied: pandas in d:\\anaconda3\\lib\\site-packages (2.2.2)\n",
      "Requirement already satisfied: xarray in d:\\anaconda3\\lib\\site-packages (2023.6.0)\n",
      "Requirement already satisfied: cfgrib in d:\\anaconda3\\lib\\site-packages (0.9.15.0)\n",
      "Requirement already satisfied: numpy in d:\\anaconda3\\lib\\site-packages (1.26.4)\n",
      "Requirement already satisfied: python-dateutil>=2.8.2 in d:\\anaconda3\\lib\\site-packages (from pandas) (2.9.0.post0)\n",
      "Requirement already satisfied: pytz>=2020.1 in d:\\anaconda3\\lib\\site-packages (from pandas) (2024.1)\n",
      "Requirement already satisfied: tzdata>=2022.7 in d:\\anaconda3\\lib\\site-packages (from pandas) (2023.3)\n",
      "Requirement already satisfied: packaging>=21.3 in d:\\anaconda3\\lib\\site-packages (from xarray) (24.1)\n",
      "Requirement already satisfied: attrs>=19.2 in d:\\anaconda3\\lib\\site-packages (from cfgrib) (23.1.0)\n",
      "Requirement already satisfied: click in d:\\anaconda3\\lib\\site-packages (from cfgrib) (8.1.7)\n",
      "Requirement already satisfied: eccodes>=0.9.8 in d:\\anaconda3\\lib\\site-packages (from cfgrib) (2.43.0)\n",
      "Requirement already satisfied: cffi in d:\\anaconda3\\lib\\site-packages (from eccodes>=0.9.8->cfgrib) (1.17.1)\n",
      "Requirement already satisfied: findlibs in d:\\anaconda3\\lib\\site-packages (from eccodes>=0.9.8->cfgrib) (0.1.2)\n",
      "Requirement already satisfied: six>=1.5 in d:\\anaconda3\\lib\\site-packages (from python-dateutil>=2.8.2->pandas) (1.16.0)\n",
      "Requirement already satisfied: colorama in d:\\anaconda3\\lib\\site-packages (from click->cfgrib) (0.4.6)\n",
      "Requirement already satisfied: pycparser in d:\\anaconda3\\lib\\site-packages (from cffi->eccodes>=0.9.8->cfgrib) (2.21)\n",
      "Note: you may need to restart the kernel to use updated packages.\n"
     ]
    }
   ],
   "source": [
    "%pip install cdsapi\n",
    "%pip install pandas xarray cfgrib numpy"
   ]
  },
  {
   "cell_type": "code",
   "execution_count": 2,
   "id": "8a4471d7",
   "metadata": {},
   "outputs": [],
   "source": [
    "%load_ext autoreload\n",
    "%autoreload 2"
   ]
  },
  {
   "cell_type": "code",
   "execution_count": 3,
   "id": "4211ff1e",
   "metadata": {},
   "outputs": [],
   "source": [
    "import cdsapi\n",
    "import pandas as pd\n",
    "import os\n",
    "import glob\n",
    "import xarray as xr\n",
    "import numpy as np"
   ]
  },
  {
   "cell_type": "code",
   "execution_count": 4,
   "id": "ccb6ba02",
   "metadata": {},
   "outputs": [],
   "source": [
    "# Params\n",
    "\n",
    "#Data Fetch\n",
    "START_YEAR = 2019\n",
    "END_YEAR = 2024\n",
    "MONTH = [1, 2, 3, 4, 5, 6, 7, 8, 9, 10, 11, 12]\n",
    "# Pressure levels relevant for wind turbines (50-1000 hPa in increments of 25)\n",
    "PRESSURE_LEVELS = [875, 900, 925, 950, 975, 1000]\n",
    "DATASET = \"reanalysis-era5-pressure-levels\"\n",
    "OUTPUT_FOLDER = \"../data/wind_data_all_levels/\"\n",
    "\n",
    "#GRIB to df\n",
    "INPUT_FOLDER = \"../data/wind_data_all_levels/\""
   ]
  },
  {
   "cell_type": "code",
   "execution_count": 5,
   "id": "b4143da7",
   "metadata": {},
   "outputs": [
    {
     "name": "stderr",
     "output_type": "stream",
     "text": [
      "2025-07-30 10:04:27,518 INFO [2024-09-26T00:00:00] Watch our [Forum](https://forum.ecmwf.int/) for Announcements, news and other discussed topics.\n"
     ]
    },
    {
     "name": "stdout",
     "output_type": "stream",
     "text": [
      "--- Downloading data for 2019-01 (all pressure levels) ---\n"
     ]
    },
    {
     "name": "stderr",
     "output_type": "stream",
     "text": [
      "2025-07-30 10:04:28,320 INFO Request ID is 01bfe206-6b1d-497a-9703-3f68f118136a\n",
      "2025-07-30 10:04:28,684 INFO status has been updated to accepted\n",
      "2025-07-30 10:04:28,684 INFO status has been updated to accepted\n",
      "2025-07-30 10:04:38,825 INFO status has been updated to running\n",
      "2025-07-30 10:04:38,825 INFO status has been updated to running\n",
      "2025-07-30 10:07:25,288 INFO status has been updated to successful\n",
      "2025-07-30 10:07:25,288 INFO status has been updated to successful\n"
     ]
    },
    {
     "data": {
      "application/vnd.jupyter.widget-view+json": {
       "model_id": "0b71ced136c74d5e87ae9e4900dbf880",
       "version_major": 2,
       "version_minor": 0
      },
      "text/plain": [
       "178e81773cdcf218b73e6378d5bd3a07.grib:   0%|          | 0.00/36.4M [00:00<?, ?B/s]"
      ]
     },
     "metadata": {},
     "output_type": "display_data"
    },
    {
     "name": "stdout",
     "output_type": "stream",
     "text": [
      "Successfully downloaded to: ../data/wind_data_all_levels/wind_data_2019_01_all_levels.grib\n",
      "--- Downloading data for 2019-02 (all pressure levels) ---\n"
     ]
    },
    {
     "name": "stderr",
     "output_type": "stream",
     "text": [
      "2025-07-30 10:09:31,475 INFO Request ID is 0918f9aa-77b1-4143-9a23-49f0682118ff\n",
      "2025-07-30 10:09:31,909 INFO status has been updated to accepted\n",
      "2025-07-30 10:09:31,909 INFO status has been updated to accepted\n",
      "2025-07-30 10:09:41,615 INFO status has been updated to running\n",
      "2025-07-30 10:09:41,615 INFO status has been updated to running\n",
      "2025-07-30 10:09:47,053 INFO status has been updated to accepted\n",
      "2025-07-30 10:09:47,053 INFO status has been updated to accepted\n",
      "2025-07-30 10:09:56,686 INFO status has been updated to running\n",
      "2025-07-30 10:09:56,686 INFO status has been updated to running\n",
      "2025-07-30 10:11:30,673 INFO status has been updated to successful\n",
      "2025-07-30 10:11:30,673 INFO status has been updated to successful\n"
     ]
    },
    {
     "data": {
      "application/vnd.jupyter.widget-view+json": {
       "model_id": "a661c1771c2a4bcabd48321829107822",
       "version_major": 2,
       "version_minor": 0
      },
      "text/plain": [
       "458727361dd1f1768a8f080d5e38562a.grib:   0%|          | 0.00/32.9M [00:00<?, ?B/s]"
      ]
     },
     "metadata": {},
     "output_type": "display_data"
    },
    {
     "name": "stdout",
     "output_type": "stream",
     "text": [
      "Successfully downloaded to: ../data/wind_data_all_levels/wind_data_2019_02_all_levels.grib\n",
      "--- Downloading data for 2019-03 (all pressure levels) ---\n"
     ]
    },
    {
     "name": "stderr",
     "output_type": "stream",
     "text": [
      "2025-07-30 10:12:41,808 INFO Request ID is 9e4bd53e-484d-4baf-9f73-d63b481d4b78\n",
      "2025-07-30 10:12:42,182 INFO status has been updated to accepted\n",
      "2025-07-30 10:12:42,182 INFO status has been updated to accepted\n",
      "2025-07-30 10:12:52,003 INFO status has been updated to running\n",
      "2025-07-30 10:12:52,003 INFO status has been updated to running\n",
      "2025-07-30 10:14:39,613 INFO status has been updated to successful\n",
      "2025-07-30 10:14:39,613 INFO status has been updated to successful\n"
     ]
    },
    {
     "data": {
      "application/vnd.jupyter.widget-view+json": {
       "model_id": "b5ad1842ef174f65a061e59e3ad12700",
       "version_major": 2,
       "version_minor": 0
      },
      "text/plain": [
       "6189e7c910e7acad210f1eb821122882.grib:   0%|          | 0.00/36.4M [00:00<?, ?B/s]"
      ]
     },
     "metadata": {},
     "output_type": "display_data"
    },
    {
     "name": "stdout",
     "output_type": "stream",
     "text": [
      "Successfully downloaded to: ../data/wind_data_all_levels/wind_data_2019_03_all_levels.grib\n",
      "--- Downloading data for 2019-04 (all pressure levels) ---\n"
     ]
    },
    {
     "name": "stderr",
     "output_type": "stream",
     "text": [
      "2025-07-30 10:15:38,848 INFO Request ID is 517a14a9-1800-4d2a-8873-eecc8fa59d0d\n",
      "2025-07-30 10:15:39,198 INFO status has been updated to accepted\n",
      "2025-07-30 10:15:39,198 INFO status has been updated to accepted\n",
      "2025-07-30 10:15:54,289 INFO status has been updated to running\n",
      "2025-07-30 10:15:54,289 INFO status has been updated to running\n",
      "2025-07-30 10:17:36,269 INFO status has been updated to successful\n",
      "2025-07-30 10:17:36,269 INFO status has been updated to successful\n"
     ]
    },
    {
     "data": {
      "application/vnd.jupyter.widget-view+json": {
       "model_id": "db7256fa1daa4ac7ab1109a12c2ec65c",
       "version_major": 2,
       "version_minor": 0
      },
      "text/plain": [
       "9f97a92ed57d3a9b6a5b3d121b27fea2.grib:   0%|          | 0.00/35.2M [00:00<?, ?B/s]"
      ]
     },
     "metadata": {},
     "output_type": "display_data"
    },
    {
     "name": "stdout",
     "output_type": "stream",
     "text": [
      "Successfully downloaded to: ../data/wind_data_all_levels/wind_data_2019_04_all_levels.grib\n",
      "--- Downloading data for 2019-05 (all pressure levels) ---\n"
     ]
    },
    {
     "name": "stderr",
     "output_type": "stream",
     "text": [
      "2025-07-30 10:18:21,191 INFO Request ID is a1041bbd-49d9-4b9b-adba-250e4c632eac\n",
      "2025-07-30 10:18:21,603 INFO status has been updated to accepted\n",
      "2025-07-30 10:18:21,603 INFO status has been updated to accepted\n",
      "2025-07-30 10:18:27,437 INFO status has been updated to running\n",
      "2025-07-30 10:18:27,437 INFO status has been updated to running\n",
      "2025-07-30 10:20:18,648 INFO status has been updated to successful\n",
      "2025-07-30 10:20:18,648 INFO status has been updated to successful\n"
     ]
    },
    {
     "data": {
      "application/vnd.jupyter.widget-view+json": {
       "model_id": "cc96562578d34419bd16ad969255bbc1",
       "version_major": 2,
       "version_minor": 0
      },
      "text/plain": [
       "9069f66010cf39df65d6ff989cedfd0.grib:   0%|          | 0.00/36.4M [00:00<?, ?B/s]"
      ]
     },
     "metadata": {},
     "output_type": "display_data"
    },
    {
     "name": "stdout",
     "output_type": "stream",
     "text": [
      "Successfully downloaded to: ../data/wind_data_all_levels/wind_data_2019_05_all_levels.grib\n",
      "--- Downloading data for 2019-06 (all pressure levels) ---\n"
     ]
    },
    {
     "name": "stderr",
     "output_type": "stream",
     "text": [
      "2025-07-30 10:22:15,159 INFO Request ID is 0060101d-1f96-4a2e-85cf-bab0faa05118\n",
      "2025-07-30 10:22:15,523 INFO status has been updated to accepted\n",
      "2025-07-30 10:22:15,523 INFO status has been updated to accepted\n",
      "2025-07-30 10:22:25,065 INFO status has been updated to running\n",
      "2025-07-30 10:22:25,065 INFO status has been updated to running\n",
      "2025-07-30 10:24:12,428 INFO status has been updated to successful\n",
      "2025-07-30 10:24:12,428 INFO status has been updated to successful\n"
     ]
    },
    {
     "data": {
      "application/vnd.jupyter.widget-view+json": {
       "model_id": "1e6ce2ad74a648f0ae67c95670cb80cb",
       "version_major": 2,
       "version_minor": 0
      },
      "text/plain": [
       "9e81d4d7b0ca11ddc6e365d6a1a3449f.grib:   0%|          | 0.00/35.2M [00:00<?, ?B/s]"
      ]
     },
     "metadata": {},
     "output_type": "display_data"
    },
    {
     "name": "stdout",
     "output_type": "stream",
     "text": [
      "Successfully downloaded to: ../data/wind_data_all_levels/wind_data_2019_06_all_levels.grib\n",
      "--- Downloading data for 2019-07 (all pressure levels) ---\n"
     ]
    },
    {
     "name": "stderr",
     "output_type": "stream",
     "text": [
      "2025-07-30 10:24:58,711 INFO Request ID is bcc0cfc1-e8f5-45ac-82da-42a5bc69cba6\n",
      "2025-07-30 10:24:59,047 INFO status has been updated to accepted\n",
      "2025-07-30 10:24:59,047 INFO status has been updated to accepted\n",
      "2025-07-30 10:25:08,630 INFO status has been updated to running\n",
      "2025-07-30 10:25:08,630 INFO status has been updated to running\n",
      "2025-07-30 10:26:55,878 INFO status has been updated to successful\n",
      "2025-07-30 10:26:55,878 INFO status has been updated to successful\n"
     ]
    },
    {
     "data": {
      "application/vnd.jupyter.widget-view+json": {
       "model_id": "e7285dc95a394f21ae13f1cd3746e328",
       "version_major": 2,
       "version_minor": 0
      },
      "text/plain": [
       "69d136448bc1f5eeeb3657c625391bfd.grib:   0%|          | 0.00/36.4M [00:00<?, ?B/s]"
      ]
     },
     "metadata": {},
     "output_type": "display_data"
    },
    {
     "name": "stdout",
     "output_type": "stream",
     "text": [
      "Successfully downloaded to: ../data/wind_data_all_levels/wind_data_2019_07_all_levels.grib\n",
      "--- Downloading data for 2019-08 (all pressure levels) ---\n"
     ]
    },
    {
     "name": "stderr",
     "output_type": "stream",
     "text": [
      "2025-07-30 10:27:59,937 INFO Request ID is 9582e731-f70d-4244-84cc-8aa02fbc3459\n",
      "2025-07-30 10:28:00,298 INFO status has been updated to accepted\n",
      "2025-07-30 10:28:00,298 INFO status has been updated to accepted\n",
      "2025-07-30 10:28:10,138 INFO status has been updated to running\n",
      "2025-07-30 10:28:10,138 INFO status has been updated to running\n",
      "2025-07-30 10:29:57,646 INFO status has been updated to successful\n",
      "2025-07-30 10:29:57,646 INFO status has been updated to successful\n"
     ]
    },
    {
     "data": {
      "application/vnd.jupyter.widget-view+json": {
       "model_id": "64e6e80528184c92b4421756879d9408",
       "version_major": 2,
       "version_minor": 0
      },
      "text/plain": [
       "9ff1933aa5e04460004ac1c6b05f99de.grib:   0%|          | 0.00/36.4M [00:00<?, ?B/s]"
      ]
     },
     "metadata": {},
     "output_type": "display_data"
    },
    {
     "name": "stdout",
     "output_type": "stream",
     "text": [
      "Successfully downloaded to: ../data/wind_data_all_levels/wind_data_2019_08_all_levels.grib\n",
      "--- Downloading data for 2019-09 (all pressure levels) ---\n"
     ]
    },
    {
     "name": "stderr",
     "output_type": "stream",
     "text": [
      "2025-07-30 10:31:01,486 INFO Request ID is 964b8054-3661-4940-9dce-8227cfda9b53\n",
      "2025-07-30 10:31:01,846 INFO status has been updated to accepted\n",
      "2025-07-30 10:31:01,846 INFO status has been updated to accepted\n",
      "2025-07-30 10:31:11,642 INFO status has been updated to running\n",
      "2025-07-30 10:31:11,642 INFO status has been updated to running\n",
      "2025-07-30 10:32:59,085 INFO status has been updated to successful\n",
      "2025-07-30 10:32:59,085 INFO status has been updated to successful\n"
     ]
    },
    {
     "data": {
      "application/vnd.jupyter.widget-view+json": {
       "model_id": "a7928d4d87b847cd98a252115c8a1918",
       "version_major": 2,
       "version_minor": 0
      },
      "text/plain": [
       "b60128d552eb6e156012b29bedef419b.grib:   0%|          | 0.00/35.2M [00:00<?, ?B/s]"
      ]
     },
     "metadata": {},
     "output_type": "display_data"
    },
    {
     "name": "stdout",
     "output_type": "stream",
     "text": [
      "Successfully downloaded to: ../data/wind_data_all_levels/wind_data_2019_09_all_levels.grib\n",
      "--- Downloading data for 2019-10 (all pressure levels) ---\n"
     ]
    },
    {
     "name": "stderr",
     "output_type": "stream",
     "text": [
      "2025-07-30 10:34:42,184 INFO Request ID is 61f09488-f109-41a7-b9e8-8e00e1642515\n",
      "2025-07-30 10:34:42,677 INFO status has been updated to accepted\n",
      "2025-07-30 10:34:42,677 INFO status has been updated to accepted\n",
      "2025-07-30 10:34:48,542 INFO status has been updated to running\n",
      "2025-07-30 10:34:48,542 INFO status has been updated to running\n",
      "2025-07-30 10:34:52,563 INFO status has been updated to accepted\n",
      "2025-07-30 10:34:52,563 INFO status has been updated to accepted\n",
      "2025-07-30 10:35:05,941 INFO status has been updated to running\n",
      "2025-07-30 10:35:05,941 INFO status has been updated to running\n",
      "2025-07-30 10:37:38,987 INFO status has been updated to successful\n",
      "2025-07-30 10:37:38,987 INFO status has been updated to successful\n"
     ]
    },
    {
     "data": {
      "application/vnd.jupyter.widget-view+json": {
       "model_id": "c40b223ee4a941688d4318ab511c39ad",
       "version_major": 2,
       "version_minor": 0
      },
      "text/plain": [
       "211e88ca14484184fcb683627e6c3594.grib:   0%|          | 0.00/36.4M [00:00<?, ?B/s]"
      ]
     },
     "metadata": {},
     "output_type": "display_data"
    },
    {
     "name": "stdout",
     "output_type": "stream",
     "text": [
      "Successfully downloaded to: ../data/wind_data_all_levels/wind_data_2019_10_all_levels.grib\n",
      "--- Downloading data for 2019-11 (all pressure levels) ---\n"
     ]
    },
    {
     "name": "stderr",
     "output_type": "stream",
     "text": [
      "2025-07-30 10:38:31,169 INFO Request ID is 99bdfaf9-9ca5-4de6-9b38-c069509d2300\n",
      "2025-07-30 10:38:31,533 INFO status has been updated to accepted\n",
      "2025-07-30 10:38:31,533 INFO status has been updated to accepted\n",
      "2025-07-30 10:38:41,200 INFO status has been updated to running\n",
      "2025-07-30 10:38:41,200 INFO status has been updated to running\n",
      "Recovering from connection error [('Connection aborted.', RemoteDisconnected('Remote end closed connection without response'))], attempt 1 of 500\n",
      "Retrying in 120 seconds\n",
      "Recovering from connection error [('Connection aborted.', RemoteDisconnected('Remote end closed connection without response'))], attempt 1 of 500\n",
      "Retrying in 120 seconds\n",
      "2025-07-30 10:42:54,589 INFO status has been updated to successful\n",
      "2025-07-30 10:42:54,589 INFO status has been updated to successful\n"
     ]
    },
    {
     "data": {
      "application/vnd.jupyter.widget-view+json": {
       "model_id": "7f37ef1a55e2441d95eb293de9a7d379",
       "version_major": 2,
       "version_minor": 0
      },
      "text/plain": [
       "eb5dea23982fe60db859c58211763dc8.grib:   0%|          | 0.00/35.2M [00:00<?, ?B/s]"
      ]
     },
     "metadata": {},
     "output_type": "display_data"
    },
    {
     "name": "stdout",
     "output_type": "stream",
     "text": [
      "Successfully downloaded to: ../data/wind_data_all_levels/wind_data_2019_11_all_levels.grib\n",
      "--- Downloading data for 2019-12 (all pressure levels) ---\n"
     ]
    },
    {
     "name": "stderr",
     "output_type": "stream",
     "text": [
      "2025-07-30 10:44:06,230 INFO Request ID is 8edd9219-bb17-4bb9-b89c-09499b9a53ad\n",
      "2025-07-30 10:44:06,614 INFO status has been updated to accepted\n",
      "2025-07-30 10:44:06,614 INFO status has been updated to accepted\n",
      "2025-07-30 10:44:12,549 INFO status has been updated to running\n",
      "2025-07-30 10:44:12,549 INFO status has been updated to running\n",
      "2025-07-30 10:46:03,925 INFO status has been updated to successful\n",
      "2025-07-30 10:46:03,925 INFO status has been updated to successful\n"
     ]
    },
    {
     "data": {
      "application/vnd.jupyter.widget-view+json": {
       "model_id": "80bf9705c2eb4c1c8d3341f37c4aec56",
       "version_major": 2,
       "version_minor": 0
      },
      "text/plain": [
       "e9fa2d22f6903634bb32ccbb2b4bbd40.grib:   0%|          | 0.00/36.4M [00:00<?, ?B/s]"
      ]
     },
     "metadata": {},
     "output_type": "display_data"
    },
    {
     "name": "stdout",
     "output_type": "stream",
     "text": [
      "Successfully downloaded to: ../data/wind_data_all_levels/wind_data_2019_12_all_levels.grib\n",
      "--- Downloading data for 2020-01 (all pressure levels) ---\n"
     ]
    },
    {
     "name": "stderr",
     "output_type": "stream",
     "text": [
      "2025-07-30 10:47:02,744 INFO Request ID is 3d6038f4-44ba-4889-8068-f4016f01e0a4\n",
      "2025-07-30 10:47:03,194 INFO status has been updated to accepted\n",
      "2025-07-30 10:47:03,194 INFO status has been updated to accepted\n",
      "2025-07-30 10:47:12,897 INFO status has been updated to running\n",
      "2025-07-30 10:47:12,897 INFO status has been updated to running\n",
      "2025-07-30 10:49:00,833 INFO status has been updated to successful\n",
      "2025-07-30 10:49:00,833 INFO status has been updated to successful\n"
     ]
    },
    {
     "data": {
      "application/vnd.jupyter.widget-view+json": {
       "model_id": "2bee6fe7841048fc95a5ecc8db7ebc8d",
       "version_major": 2,
       "version_minor": 0
      },
      "text/plain": [
       "7223e75f6e2d6f5be8f355c1968ca101.grib:   0%|          | 0.00/36.4M [00:00<?, ?B/s]"
      ]
     },
     "metadata": {},
     "output_type": "display_data"
    },
    {
     "name": "stdout",
     "output_type": "stream",
     "text": [
      "Successfully downloaded to: ../data/wind_data_all_levels/wind_data_2020_01_all_levels.grib\n",
      "--- Downloading data for 2020-02 (all pressure levels) ---\n"
     ]
    },
    {
     "name": "stderr",
     "output_type": "stream",
     "text": [
      "2025-07-30 10:49:49,113 INFO Request ID is 6b77d1c4-b191-4d4d-9bd6-40fd05bc8ca5\n",
      "2025-07-30 10:49:49,449 INFO status has been updated to accepted\n",
      "2025-07-30 10:49:49,449 INFO status has been updated to accepted\n",
      "2025-07-30 10:49:59,043 INFO status has been updated to running\n",
      "2025-07-30 10:49:59,043 INFO status has been updated to running\n",
      "2025-07-30 10:51:46,452 INFO status has been updated to successful\n",
      "2025-07-30 10:51:46,452 INFO status has been updated to successful\n"
     ]
    },
    {
     "data": {
      "application/vnd.jupyter.widget-view+json": {
       "model_id": "116050d637c44291bca8c408da9ee65b",
       "version_major": 2,
       "version_minor": 0
      },
      "text/plain": [
       "bb84a572a416d440928f6661089c6723.grib:   0%|          | 0.00/34.0M [00:00<?, ?B/s]"
      ]
     },
     "metadata": {},
     "output_type": "display_data"
    },
    {
     "name": "stdout",
     "output_type": "stream",
     "text": [
      "Successfully downloaded to: ../data/wind_data_all_levels/wind_data_2020_02_all_levels.grib\n",
      "--- Downloading data for 2020-03 (all pressure levels) ---\n"
     ]
    },
    {
     "name": "stderr",
     "output_type": "stream",
     "text": [
      "2025-07-30 10:52:24,362 INFO Request ID is ed27ef8a-71dd-41a8-bbed-36381339337d\n",
      "2025-07-30 10:52:24,752 INFO status has been updated to accepted\n",
      "2025-07-30 10:52:24,752 INFO status has been updated to accepted\n",
      "2025-07-30 10:52:30,506 INFO status has been updated to running\n",
      "2025-07-30 10:52:30,506 INFO status has been updated to running\n",
      "2025-07-30 10:54:21,841 INFO status has been updated to successful\n",
      "2025-07-30 10:54:21,841 INFO status has been updated to successful\n"
     ]
    },
    {
     "data": {
      "application/vnd.jupyter.widget-view+json": {
       "model_id": "cdba281b0e8443f9911196c852de7511",
       "version_major": 2,
       "version_minor": 0
      },
      "text/plain": [
       "c157e70d828c7d5bd2804a71a500b39b.grib:   0%|          | 0.00/36.4M [00:00<?, ?B/s]"
      ]
     },
     "metadata": {},
     "output_type": "display_data"
    },
    {
     "name": "stdout",
     "output_type": "stream",
     "text": [
      "Successfully downloaded to: ../data/wind_data_all_levels/wind_data_2020_03_all_levels.grib\n",
      "--- Downloading data for 2020-04 (all pressure levels) ---\n"
     ]
    },
    {
     "name": "stderr",
     "output_type": "stream",
     "text": [
      "2025-07-30 10:55:09,354 INFO Request ID is 456963e1-4da7-4b2c-9c45-7b6db859ed07\n",
      "2025-07-30 10:55:09,710 INFO status has been updated to accepted\n",
      "2025-07-30 10:55:09,710 INFO status has been updated to accepted\n",
      "2025-07-30 10:55:15,727 INFO status has been updated to running\n",
      "2025-07-30 10:55:15,727 INFO status has been updated to running\n",
      "2025-07-30 10:58:05,573 INFO status has been updated to successful\n",
      "2025-07-30 10:58:05,573 INFO status has been updated to successful\n"
     ]
    },
    {
     "data": {
      "application/vnd.jupyter.widget-view+json": {
       "model_id": "271327e12fd6468da808abe86a66daa5",
       "version_major": 2,
       "version_minor": 0
      },
      "text/plain": [
       "70c9d8b15188e921dcc4b01fd1087659.grib:   0%|          | 0.00/35.2M [00:00<?, ?B/s]"
      ]
     },
     "metadata": {},
     "output_type": "display_data"
    },
    {
     "name": "stdout",
     "output_type": "stream",
     "text": [
      "Successfully downloaded to: ../data/wind_data_all_levels/wind_data_2020_04_all_levels.grib\n",
      "--- Downloading data for 2020-05 (all pressure levels) ---\n"
     ]
    },
    {
     "name": "stderr",
     "output_type": "stream",
     "text": [
      "2025-07-30 10:59:04,532 INFO Request ID is 562eb19c-21d5-43ca-af32-b63de202ad9a\n",
      "2025-07-30 10:59:04,912 INFO status has been updated to accepted\n",
      "2025-07-30 10:59:04,912 INFO status has been updated to accepted\n",
      "2025-07-30 10:59:14,680 INFO status has been updated to running\n",
      "2025-07-30 10:59:14,680 INFO status has been updated to running\n",
      "2025-07-30 11:01:02,248 INFO status has been updated to successful\n",
      "2025-07-30 11:01:02,248 INFO status has been updated to successful\n"
     ]
    },
    {
     "data": {
      "application/vnd.jupyter.widget-view+json": {
       "model_id": "4b5f6081b4ee4eab8012f1fae99ad242",
       "version_major": 2,
       "version_minor": 0
      },
      "text/plain": [
       "ab7e44f9c8e872b724cbaa93ff907ec9.grib:   0%|          | 0.00/36.4M [00:00<?, ?B/s]"
      ]
     },
     "metadata": {},
     "output_type": "display_data"
    },
    {
     "name": "stdout",
     "output_type": "stream",
     "text": [
      "Successfully downloaded to: ../data/wind_data_all_levels/wind_data_2020_05_all_levels.grib\n",
      "--- Downloading data for 2020-06 (all pressure levels) ---\n"
     ]
    },
    {
     "name": "stderr",
     "output_type": "stream",
     "text": [
      "2025-07-30 11:02:12,888 INFO Request ID is 61d6d4b8-b1b4-4fc6-b12e-15d14e8d3d46\n",
      "2025-07-30 11:02:13,253 INFO status has been updated to accepted\n",
      "2025-07-30 11:02:13,253 INFO status has been updated to accepted\n",
      "2025-07-30 11:02:23,176 INFO status has been updated to running\n",
      "2025-07-30 11:02:23,176 INFO status has been updated to running\n",
      "2025-07-30 11:04:10,924 INFO status has been updated to successful\n",
      "2025-07-30 11:04:10,924 INFO status has been updated to successful\n"
     ]
    },
    {
     "data": {
      "application/vnd.jupyter.widget-view+json": {
       "model_id": "37eec51018a54ba1b931cc851293ba6d",
       "version_major": 2,
       "version_minor": 0
      },
      "text/plain": [
       "21938487a4863930170bce6b931109a6.grib:   0%|          | 0.00/35.2M [00:00<?, ?B/s]"
      ]
     },
     "metadata": {},
     "output_type": "display_data"
    },
    {
     "name": "stdout",
     "output_type": "stream",
     "text": [
      "Successfully downloaded to: ../data/wind_data_all_levels/wind_data_2020_06_all_levels.grib\n",
      "--- Downloading data for 2020-07 (all pressure levels) ---\n"
     ]
    },
    {
     "name": "stderr",
     "output_type": "stream",
     "text": [
      "2025-07-30 11:05:18,220 INFO Request ID is a9e11a79-604b-4458-b04e-09653ec74c86\n",
      "2025-07-30 11:05:18,591 INFO status has been updated to accepted\n",
      "2025-07-30 11:05:18,591 INFO status has been updated to accepted\n",
      "2025-07-30 11:05:28,153 INFO status has been updated to running\n",
      "2025-07-30 11:05:28,153 INFO status has been updated to running\n",
      "2025-07-30 11:07:15,562 INFO status has been updated to successful\n",
      "2025-07-30 11:07:15,562 INFO status has been updated to successful\n"
     ]
    },
    {
     "data": {
      "application/vnd.jupyter.widget-view+json": {
       "model_id": "7005409bfedd432b919b4536d0cf2c4f",
       "version_major": 2,
       "version_minor": 0
      },
      "text/plain": [
       "2e4d9a17a7380e40a4e6896f9e00cd9.grib:   0%|          | 0.00/36.4M [00:00<?, ?B/s]"
      ]
     },
     "metadata": {},
     "output_type": "display_data"
    },
    {
     "name": "stdout",
     "output_type": "stream",
     "text": [
      "Successfully downloaded to: ../data/wind_data_all_levels/wind_data_2020_07_all_levels.grib\n",
      "--- Downloading data for 2020-08 (all pressure levels) ---\n"
     ]
    },
    {
     "name": "stderr",
     "output_type": "stream",
     "text": [
      "2025-07-30 11:08:07,216 INFO Request ID is 2cb34375-63fd-42dc-937d-84f91fd20fcb\n",
      "2025-07-30 11:08:07,605 INFO status has been updated to accepted\n",
      "2025-07-30 11:08:07,605 INFO status has been updated to accepted\n",
      "2025-07-30 11:08:13,486 INFO status has been updated to running\n",
      "2025-07-30 11:08:13,486 INFO status has been updated to running\n",
      "2025-07-30 11:10:05,055 INFO status has been updated to successful\n",
      "2025-07-30 11:10:05,055 INFO status has been updated to successful\n"
     ]
    },
    {
     "data": {
      "application/vnd.jupyter.widget-view+json": {
       "model_id": "a31230235255460a88992875c466bc51",
       "version_major": 2,
       "version_minor": 0
      },
      "text/plain": [
       "eeae711d30e6c2ff868c7afad7525406.grib:   0%|          | 0.00/36.4M [00:00<?, ?B/s]"
      ]
     },
     "metadata": {},
     "output_type": "display_data"
    },
    {
     "name": "stdout",
     "output_type": "stream",
     "text": [
      "Successfully downloaded to: ../data/wind_data_all_levels/wind_data_2020_08_all_levels.grib\n",
      "--- Downloading data for 2020-09 (all pressure levels) ---\n"
     ]
    },
    {
     "name": "stderr",
     "output_type": "stream",
     "text": [
      "2025-07-30 11:11:07,248 INFO Request ID is c96f6ae5-f271-4115-b97b-7eddd00cce96\n",
      "2025-07-30 11:11:07,610 INFO status has been updated to accepted\n",
      "2025-07-30 11:11:07,610 INFO status has been updated to accepted\n",
      "2025-07-30 11:11:22,700 INFO status has been updated to running\n",
      "2025-07-30 11:11:22,700 INFO status has been updated to running\n",
      "2025-07-30 11:13:04,700 INFO status has been updated to successful\n",
      "2025-07-30 11:13:04,700 INFO status has been updated to successful\n"
     ]
    },
    {
     "data": {
      "application/vnd.jupyter.widget-view+json": {
       "model_id": "8eb9bfca2f684bc2a415ad748e73127c",
       "version_major": 2,
       "version_minor": 0
      },
      "text/plain": [
       "959596063ac2d3fb97485077d0df58e1.grib:   0%|          | 0.00/35.2M [00:00<?, ?B/s]"
      ]
     },
     "metadata": {},
     "output_type": "display_data"
    },
    {
     "name": "stdout",
     "output_type": "stream",
     "text": [
      "Successfully downloaded to: ../data/wind_data_all_levels/wind_data_2020_09_all_levels.grib\n",
      "--- Downloading data for 2020-10 (all pressure levels) ---\n"
     ]
    },
    {
     "name": "stderr",
     "output_type": "stream",
     "text": [
      "2025-07-30 11:15:22,363 INFO Request ID is 49cad080-2dfc-4da8-80d2-a2e7b24a7ff7\n",
      "2025-07-30 11:15:22,708 INFO status has been updated to accepted\n",
      "2025-07-30 11:15:22,708 INFO status has been updated to accepted\n",
      "2025-07-30 11:15:32,521 INFO status has been updated to running\n",
      "2025-07-30 11:15:32,521 INFO status has been updated to running\n",
      "2025-07-30 11:17:19,997 INFO status has been updated to successful\n",
      "2025-07-30 11:17:19,997 INFO status has been updated to successful\n"
     ]
    },
    {
     "data": {
      "application/vnd.jupyter.widget-view+json": {
       "model_id": "280db1c17a9c4e4494b01d2cc4398650",
       "version_major": 2,
       "version_minor": 0
      },
      "text/plain": [
       "6d186e97886bc4edc348aeec17b40b24.grib:   0%|          | 0.00/36.4M [00:00<?, ?B/s]"
      ]
     },
     "metadata": {},
     "output_type": "display_data"
    },
    {
     "name": "stdout",
     "output_type": "stream",
     "text": [
      "Successfully downloaded to: ../data/wind_data_all_levels/wind_data_2020_10_all_levels.grib\n",
      "--- Downloading data for 2020-11 (all pressure levels) ---\n"
     ]
    },
    {
     "name": "stderr",
     "output_type": "stream",
     "text": [
      "2025-07-30 11:18:17,735 INFO Request ID is 3a3bde99-51f3-4717-ba70-eea0676a5235\n",
      "2025-07-30 11:18:18,104 INFO status has been updated to accepted\n",
      "2025-07-30 11:18:18,104 INFO status has been updated to accepted\n",
      "2025-07-30 11:18:41,189 INFO status has been updated to running\n",
      "2025-07-30 11:18:41,189 INFO status has been updated to running\n",
      "2025-07-30 11:21:15,003 INFO status has been updated to successful\n",
      "2025-07-30 11:21:15,003 INFO status has been updated to successful\n"
     ]
    },
    {
     "data": {
      "application/vnd.jupyter.widget-view+json": {
       "model_id": "09b7fcddbdcb4d10926b30a1a94792f1",
       "version_major": 2,
       "version_minor": 0
      },
      "text/plain": [
       "e0918a146134b8009549f597523cad43.grib:   0%|          | 0.00/35.2M [00:00<?, ?B/s]"
      ]
     },
     "metadata": {},
     "output_type": "display_data"
    },
    {
     "name": "stdout",
     "output_type": "stream",
     "text": [
      "Successfully downloaded to: ../data/wind_data_all_levels/wind_data_2020_11_all_levels.grib\n",
      "--- Downloading data for 2020-12 (all pressure levels) ---\n"
     ]
    },
    {
     "name": "stderr",
     "output_type": "stream",
     "text": [
      "2025-07-30 11:22:47,506 INFO Request ID is d713009f-9d53-40ac-9a9e-8e947d9d50e9\n",
      "2025-07-30 11:22:48,011 INFO status has been updated to accepted\n",
      "2025-07-30 11:22:48,011 INFO status has been updated to accepted\n",
      "2025-07-30 11:22:57,613 INFO status has been updated to running\n",
      "2025-07-30 11:22:57,613 INFO status has been updated to running\n",
      "2025-07-30 11:27:12,764 INFO status has been updated to successful\n",
      "2025-07-30 11:27:12,764 INFO status has been updated to successful\n"
     ]
    },
    {
     "data": {
      "application/vnd.jupyter.widget-view+json": {
       "model_id": "713dc4fc9ef043bd83bd88f89d32f5cc",
       "version_major": 2,
       "version_minor": 0
      },
      "text/plain": [
       "5cf121ad8c06d783c5185ccb506a3583.grib:   0%|          | 0.00/36.4M [00:00<?, ?B/s]"
      ]
     },
     "metadata": {},
     "output_type": "display_data"
    },
    {
     "name": "stdout",
     "output_type": "stream",
     "text": [
      "Successfully downloaded to: ../data/wind_data_all_levels/wind_data_2020_12_all_levels.grib\n",
      "--- Downloading data for 2021-01 (all pressure levels) ---\n"
     ]
    },
    {
     "name": "stderr",
     "output_type": "stream",
     "text": [
      "2025-07-30 11:29:54,495 INFO Request ID is f078486a-60f2-42c5-8278-f594f51d7495\n",
      "2025-07-30 11:29:54,887 INFO status has been updated to accepted\n",
      "2025-07-30 11:29:54,887 INFO status has been updated to accepted\n",
      "2025-07-30 11:30:01,074 INFO status has been updated to running\n",
      "2025-07-30 11:30:01,074 INFO status has been updated to running\n",
      "2025-07-30 11:31:52,526 INFO status has been updated to successful\n",
      "2025-07-30 11:31:52,526 INFO status has been updated to successful\n"
     ]
    },
    {
     "data": {
      "application/vnd.jupyter.widget-view+json": {
       "model_id": "3fa5c59d77934683af7f3f5351db9e86",
       "version_major": 2,
       "version_minor": 0
      },
      "text/plain": [
       "6e10b85a5ac2fcc01d98d83effe8ecc8.grib:   0%|          | 0.00/36.4M [00:00<?, ?B/s]"
      ]
     },
     "metadata": {},
     "output_type": "display_data"
    },
    {
     "name": "stdout",
     "output_type": "stream",
     "text": [
      "Successfully downloaded to: ../data/wind_data_all_levels/wind_data_2021_01_all_levels.grib\n",
      "--- Downloading data for 2021-02 (all pressure levels) ---\n"
     ]
    },
    {
     "name": "stderr",
     "output_type": "stream",
     "text": [
      "2025-07-30 11:33:13,445 INFO Request ID is d5ad31ce-ac59-4827-b921-53b36f202263\n",
      "2025-07-30 11:33:13,789 INFO status has been updated to accepted\n",
      "2025-07-30 11:33:13,789 INFO status has been updated to accepted\n",
      "2025-07-30 11:33:23,487 INFO status has been updated to running\n",
      "2025-07-30 11:33:23,487 INFO status has been updated to running\n",
      "2025-07-30 11:35:11,066 INFO status has been updated to successful\n",
      "2025-07-30 11:35:11,066 INFO status has been updated to successful\n"
     ]
    },
    {
     "data": {
      "application/vnd.jupyter.widget-view+json": {
       "model_id": "9fd9ff1830644463ac69daf02ff9de72",
       "version_major": 2,
       "version_minor": 0
      },
      "text/plain": [
       "ff37e9f445ffd35e453973870165a4ad.grib:   0%|          | 0.00/32.9M [00:00<?, ?B/s]"
      ]
     },
     "metadata": {},
     "output_type": "display_data"
    },
    {
     "name": "stdout",
     "output_type": "stream",
     "text": [
      "Successfully downloaded to: ../data/wind_data_all_levels/wind_data_2021_02_all_levels.grib\n",
      "--- Downloading data for 2021-03 (all pressure levels) ---\n"
     ]
    },
    {
     "name": "stderr",
     "output_type": "stream",
     "text": [
      "2025-07-30 11:36:42,949 INFO Request ID is ff4940b9-c5ae-443b-988f-f6dfcf74b6bb\n",
      "2025-07-30 11:36:43,407 INFO status has been updated to accepted\n",
      "2025-07-30 11:36:43,407 INFO status has been updated to accepted\n",
      "2025-07-30 11:36:53,187 INFO status has been updated to running\n",
      "2025-07-30 11:36:53,187 INFO status has been updated to running\n",
      "2025-07-30 11:38:40,877 INFO status has been updated to successful\n",
      "2025-07-30 11:38:40,877 INFO status has been updated to successful\n"
     ]
    },
    {
     "data": {
      "application/vnd.jupyter.widget-view+json": {
       "model_id": "266fee9e79134dac89b026bde7605728",
       "version_major": 2,
       "version_minor": 0
      },
      "text/plain": [
       "ab28c4050233220157baa62024b7ba2a.grib:   0%|          | 0.00/36.4M [00:00<?, ?B/s]"
      ]
     },
     "metadata": {},
     "output_type": "display_data"
    },
    {
     "name": "stdout",
     "output_type": "stream",
     "text": [
      "Successfully downloaded to: ../data/wind_data_all_levels/wind_data_2021_03_all_levels.grib\n",
      "--- Downloading data for 2021-04 (all pressure levels) ---\n"
     ]
    },
    {
     "name": "stderr",
     "output_type": "stream",
     "text": [
      "2025-07-30 11:40:11,821 INFO Request ID is f365abbe-a70c-4520-9f8e-c3529424c458\n",
      "2025-07-30 11:40:12,441 INFO status has been updated to accepted\n",
      "2025-07-30 11:40:12,441 INFO status has been updated to accepted\n",
      "2025-07-30 11:40:22,446 INFO status has been updated to running\n",
      "2025-07-30 11:40:22,446 INFO status has been updated to running\n",
      "2025-07-30 11:42:10,062 INFO status has been updated to successful\n",
      "2025-07-30 11:42:10,062 INFO status has been updated to successful\n"
     ]
    },
    {
     "data": {
      "application/vnd.jupyter.widget-view+json": {
       "model_id": "b222d9ffa9e3447f97aca09a757f60c1",
       "version_major": 2,
       "version_minor": 0
      },
      "text/plain": [
       "d47772b6851e596bef9908510815d1c3.grib:   0%|          | 0.00/35.2M [00:00<?, ?B/s]"
      ]
     },
     "metadata": {},
     "output_type": "display_data"
    },
    {
     "name": "stdout",
     "output_type": "stream",
     "text": [
      "Successfully downloaded to: ../data/wind_data_all_levels/wind_data_2021_04_all_levels.grib\n",
      "--- Downloading data for 2021-05 (all pressure levels) ---\n"
     ]
    },
    {
     "name": "stderr",
     "output_type": "stream",
     "text": [
      "2025-07-30 11:43:45,057 INFO Request ID is d58c3471-056c-497c-9b61-13e249badad8\n",
      "2025-07-30 11:43:45,556 INFO status has been updated to accepted\n",
      "2025-07-30 11:43:45,556 INFO status has been updated to accepted\n",
      "2025-07-30 11:44:02,316 INFO status has been updated to running\n",
      "2025-07-30 11:44:02,316 INFO status has been updated to running\n",
      "2025-07-30 11:45:44,293 INFO status has been updated to successful\n",
      "2025-07-30 11:45:44,293 INFO status has been updated to successful\n"
     ]
    },
    {
     "data": {
      "application/vnd.jupyter.widget-view+json": {
       "model_id": "58d4061ae6a44339af03dff36e771a31",
       "version_major": 2,
       "version_minor": 0
      },
      "text/plain": [
       "f0656ce707be27c2182dd0805699a6d9.grib:   0%|          | 0.00/36.4M [00:00<?, ?B/s]"
      ]
     },
     "metadata": {},
     "output_type": "display_data"
    },
    {
     "name": "stdout",
     "output_type": "stream",
     "text": [
      "Successfully downloaded to: ../data/wind_data_all_levels/wind_data_2021_05_all_levels.grib\n",
      "--- Downloading data for 2021-06 (all pressure levels) ---\n"
     ]
    },
    {
     "name": "stderr",
     "output_type": "stream",
     "text": [
      "2025-07-30 11:46:54,737 INFO Request ID is 6d4ee8a3-ff14-4b1e-a5d6-cc3b43de3a9e\n",
      "2025-07-30 11:46:55,126 INFO status has been updated to accepted\n",
      "2025-07-30 11:46:55,126 INFO status has been updated to accepted\n",
      "2025-07-30 11:47:18,247 INFO status has been updated to running\n",
      "2025-07-30 11:47:18,247 INFO status has been updated to running\n",
      "2025-07-30 11:47:30,049 INFO status has been updated to accepted\n",
      "2025-07-30 11:47:30,049 INFO status has been updated to accepted\n",
      "2025-07-30 11:47:47,524 INFO status has been updated to running\n",
      "2025-07-30 11:47:47,524 INFO status has been updated to running\n",
      "2025-07-30 11:48:52,489 INFO status has been updated to successful\n",
      "2025-07-30 11:48:52,489 INFO status has been updated to successful\n"
     ]
    },
    {
     "data": {
      "application/vnd.jupyter.widget-view+json": {
       "model_id": "8d9814ebeab741e0aa379bc6360bfb28",
       "version_major": 2,
       "version_minor": 0
      },
      "text/plain": [
       "4286fa879a312ed83bb64185fd2788d3.grib:   0%|          | 0.00/35.2M [00:00<?, ?B/s]"
      ]
     },
     "metadata": {},
     "output_type": "display_data"
    },
    {
     "name": "stdout",
     "output_type": "stream",
     "text": [
      "Successfully downloaded to: ../data/wind_data_all_levels/wind_data_2021_06_all_levels.grib\n",
      "--- Downloading data for 2021-07 (all pressure levels) ---\n"
     ]
    },
    {
     "name": "stderr",
     "output_type": "stream",
     "text": [
      "2025-07-30 11:50:30,726 INFO Request ID is daaaa4bb-7953-4b7c-907f-65c0369f5713\n",
      "2025-07-30 11:50:31,107 INFO status has been updated to accepted\n",
      "2025-07-30 11:50:31,107 INFO status has been updated to accepted\n",
      "2025-07-30 11:51:07,332 INFO status has been updated to running\n",
      "2025-07-30 11:51:07,332 INFO status has been updated to running\n",
      "2025-07-30 11:52:29,640 INFO status has been updated to successful\n",
      "2025-07-30 11:52:29,640 INFO status has been updated to successful\n"
     ]
    },
    {
     "data": {
      "application/vnd.jupyter.widget-view+json": {
       "model_id": "41bda6175ecc4d9d839dda51d77e985a",
       "version_major": 2,
       "version_minor": 0
      },
      "text/plain": [
       "bca00ff07362d52e519d04a5caae11dc.grib:   0%|          | 0.00/36.4M [00:00<?, ?B/s]"
      ]
     },
     "metadata": {},
     "output_type": "display_data"
    },
    {
     "name": "stdout",
     "output_type": "stream",
     "text": [
      "Successfully downloaded to: ../data/wind_data_all_levels/wind_data_2021_07_all_levels.grib\n",
      "--- Downloading data for 2021-08 (all pressure levels) ---\n"
     ]
    },
    {
     "name": "stderr",
     "output_type": "stream",
     "text": [
      "2025-07-30 11:53:34,637 INFO Request ID is 953b79c2-8e29-4116-8f0f-e86759798c1c\n",
      "2025-07-30 11:53:35,183 INFO status has been updated to accepted\n",
      "2025-07-30 11:53:35,183 INFO status has been updated to accepted\n",
      "2025-07-30 11:53:58,485 INFO status has been updated to running\n",
      "2025-07-30 11:53:58,485 INFO status has been updated to running\n",
      "2025-07-30 11:55:32,614 INFO status has been updated to successful\n",
      "2025-07-30 11:55:32,614 INFO status has been updated to successful\n"
     ]
    },
    {
     "data": {
      "application/vnd.jupyter.widget-view+json": {
       "model_id": "8bec252605ae490bb802a2ad158857e9",
       "version_major": 2,
       "version_minor": 0
      },
      "text/plain": [
       "8024e1178842ef43cc6cb380305e39dc.grib:   0%|          | 0.00/36.4M [00:00<?, ?B/s]"
      ]
     },
     "metadata": {},
     "output_type": "display_data"
    },
    {
     "name": "stdout",
     "output_type": "stream",
     "text": [
      "Successfully downloaded to: ../data/wind_data_all_levels/wind_data_2021_08_all_levels.grib\n",
      "--- Downloading data for 2021-09 (all pressure levels) ---\n"
     ]
    },
    {
     "name": "stderr",
     "output_type": "stream",
     "text": [
      "2025-07-30 11:57:44,009 INFO Request ID is d6357ede-89c1-4818-9bda-ba3aa16c16a1\n",
      "2025-07-30 11:57:44,352 INFO status has been updated to accepted\n",
      "2025-07-30 11:57:44,352 INFO status has been updated to accepted\n",
      "2025-07-30 11:57:59,581 INFO status has been updated to running\n",
      "2025-07-30 11:57:59,581 INFO status has been updated to running\n",
      "2025-07-30 11:59:41,689 INFO status has been updated to successful\n",
      "2025-07-30 11:59:41,689 INFO status has been updated to successful\n"
     ]
    },
    {
     "data": {
      "application/vnd.jupyter.widget-view+json": {
       "model_id": "3267c8c37fc3434cb74e9e14a8e75cfe",
       "version_major": 2,
       "version_minor": 0
      },
      "text/plain": [
       "5744f148c366218d308a19a872621eb6.grib:   0%|          | 0.00/35.2M [00:00<?, ?B/s]"
      ]
     },
     "metadata": {},
     "output_type": "display_data"
    },
    {
     "name": "stdout",
     "output_type": "stream",
     "text": [
      "!!! FAILED to download data for 2021-09. Error: ('Connection broken: IncompleteRead(15843328 bytes read, 21075392 more expected)', IncompleteRead(15843328 bytes read, 21075392 more expected))\n",
      "--- Downloading data for 2021-10 (all pressure levels) ---\n"
     ]
    },
    {
     "name": "stderr",
     "output_type": "stream",
     "text": [
      "2025-07-30 12:02:50,340 INFO Request ID is fbfd10e8-ff85-43e0-9a45-c0d9ad17f13a\n",
      "2025-07-30 12:02:50,722 INFO status has been updated to accepted\n",
      "2025-07-30 12:02:50,722 INFO status has been updated to accepted\n",
      "2025-07-30 12:03:00,292 INFO status has been updated to running\n",
      "2025-07-30 12:03:00,292 INFO status has been updated to running\n",
      "2025-07-30 12:04:48,703 INFO status has been updated to successful\n",
      "2025-07-30 12:04:48,703 INFO status has been updated to successful\n"
     ]
    },
    {
     "data": {
      "application/vnd.jupyter.widget-view+json": {
       "model_id": "a353e5ad0b9a4188a11fc0e6c9e5bdab",
       "version_major": 2,
       "version_minor": 0
      },
      "text/plain": [
       "c0297ea23ab7bcc9df18093f5d7c92cd.grib:   0%|          | 0.00/36.4M [00:00<?, ?B/s]"
      ]
     },
     "metadata": {},
     "output_type": "display_data"
    },
    {
     "name": "stdout",
     "output_type": "stream",
     "text": [
      "Successfully downloaded to: ../data/wind_data_all_levels/wind_data_2021_10_all_levels.grib\n",
      "--- Downloading data for 2021-11 (all pressure levels) ---\n"
     ]
    },
    {
     "name": "stderr",
     "output_type": "stream",
     "text": [
      "2025-07-30 12:07:34,379 INFO Request ID is 04f7ceb9-b1b6-4850-9c00-29a2ff13a463\n",
      "2025-07-30 12:07:34,869 INFO status has been updated to accepted\n",
      "2025-07-30 12:07:34,869 INFO status has been updated to accepted\n",
      "2025-07-30 12:07:44,525 INFO status has been updated to running\n",
      "2025-07-30 12:07:44,525 INFO status has been updated to running\n",
      "2025-07-30 12:09:32,105 INFO status has been updated to successful\n",
      "2025-07-30 12:09:32,105 INFO status has been updated to successful\n"
     ]
    },
    {
     "data": {
      "application/vnd.jupyter.widget-view+json": {
       "model_id": "8e81d02d7a79472797e201b15b52ef39",
       "version_major": 2,
       "version_minor": 0
      },
      "text/plain": [
       "9baa1d12aa573c4bb8b244310d16abe7.grib:   0%|          | 0.00/35.2M [00:00<?, ?B/s]"
      ]
     },
     "metadata": {},
     "output_type": "display_data"
    },
    {
     "name": "stdout",
     "output_type": "stream",
     "text": [
      "Successfully downloaded to: ../data/wind_data_all_levels/wind_data_2021_11_all_levels.grib\n",
      "--- Downloading data for 2021-12 (all pressure levels) ---\n"
     ]
    },
    {
     "name": "stderr",
     "output_type": "stream",
     "text": [
      "2025-07-30 12:11:17,026 INFO Request ID is 719c54f9-3886-4980-91c0-145726910448\n",
      "2025-07-30 12:11:17,585 INFO status has been updated to accepted\n",
      "2025-07-30 12:11:17,585 INFO status has been updated to accepted\n",
      "2025-07-30 12:11:23,662 INFO status has been updated to running\n",
      "2025-07-30 12:11:23,662 INFO status has been updated to running\n",
      "2025-07-30 12:13:16,072 INFO status has been updated to successful\n",
      "2025-07-30 12:13:16,072 INFO status has been updated to successful\n"
     ]
    },
    {
     "data": {
      "application/vnd.jupyter.widget-view+json": {
       "model_id": "1c72936b473a48868c7be314205477bc",
       "version_major": 2,
       "version_minor": 0
      },
      "text/plain": [
       "9ac6a4097b904bcce7e15761f73b8e87.grib:   0%|          | 0.00/36.4M [00:00<?, ?B/s]"
      ]
     },
     "metadata": {},
     "output_type": "display_data"
    },
    {
     "name": "stdout",
     "output_type": "stream",
     "text": [
      "!!! FAILED to download data for 2021-12. Error: ('Connection broken: IncompleteRead(15499264 bytes read, 22650080 more expected)', IncompleteRead(15499264 bytes read, 22650080 more expected))\n",
      "--- Downloading data for 2022-01 (all pressure levels) ---\n"
     ]
    },
    {
     "name": "stderr",
     "output_type": "stream",
     "text": [
      "2025-07-30 12:18:02,550 INFO Request ID is cfc2b46b-c097-4c09-92fd-f47a198c7ec2\n",
      "2025-07-30 12:18:03,251 INFO status has been updated to accepted\n",
      "2025-07-30 12:18:03,251 INFO status has been updated to accepted\n",
      "2025-07-30 12:18:26,986 INFO status has been updated to running\n",
      "2025-07-30 12:18:26,986 INFO status has been updated to running\n",
      "2025-07-30 12:20:01,277 INFO status has been updated to successful\n",
      "2025-07-30 12:20:01,277 INFO status has been updated to successful\n"
     ]
    },
    {
     "data": {
      "application/vnd.jupyter.widget-view+json": {
       "model_id": "c4eed002fb2e4995ac222624e6f49476",
       "version_major": 2,
       "version_minor": 0
      },
      "text/plain": [
       "a53697eae20d86dd9bf847407bd95273.grib:   0%|          | 0.00/36.4M [00:00<?, ?B/s]"
      ]
     },
     "metadata": {},
     "output_type": "display_data"
    },
    {
     "name": "stdout",
     "output_type": "stream",
     "text": [
      "!!! FAILED to download data for 2022-01. Error: ('Connection broken: IncompleteRead(6848512 bytes read, 31300832 more expected)', IncompleteRead(6848512 bytes read, 31300832 more expected))\n",
      "--- Downloading data for 2022-02 (all pressure levels) ---\n"
     ]
    },
    {
     "name": "stderr",
     "output_type": "stream",
     "text": [
      "2025-07-30 12:23:14,355 INFO Request ID is 93d53398-a165-43fc-a201-63adf554d789\n",
      "2025-07-30 12:23:14,754 INFO status has been updated to accepted\n",
      "2025-07-30 12:23:14,754 INFO status has been updated to accepted\n",
      "2025-07-30 12:23:20,598 INFO status has been updated to running\n",
      "2025-07-30 12:23:20,598 INFO status has been updated to running\n",
      "2025-07-30 12:23:24,339 INFO status has been updated to accepted\n",
      "2025-07-30 12:23:24,339 INFO status has been updated to accepted\n",
      "2025-07-30 12:23:37,793 INFO status has been updated to running\n",
      "2025-07-30 12:23:37,793 INFO status has been updated to running\n",
      "2025-07-30 12:24:33,969 INFO status has been updated to successful\n",
      "2025-07-30 12:24:33,969 INFO status has been updated to successful\n"
     ]
    },
    {
     "data": {
      "application/vnd.jupyter.widget-view+json": {
       "model_id": "66b20983c09f436881f894c8f9a9f74e",
       "version_major": 2,
       "version_minor": 0
      },
      "text/plain": [
       "fbf7a63b5ef78f3a8f276cc2c3dd92ab.grib:   0%|          | 0.00/32.9M [00:00<?, ?B/s]"
      ]
     },
     "metadata": {},
     "output_type": "display_data"
    },
    {
     "name": "stdout",
     "output_type": "stream",
     "text": [
      "!!! FAILED to download data for 2022-02. Error: ('Connection broken: IncompleteRead(6340608 bytes read, 28116864 more expected)', IncompleteRead(6340608 bytes read, 28116864 more expected))\n",
      "--- Downloading data for 2022-03 (all pressure levels) ---\n"
     ]
    },
    {
     "name": "stderr",
     "output_type": "stream",
     "text": [
      "2025-07-30 12:29:41,969 INFO Request ID is f9dbf156-ce01-43b7-8573-390715d672ac\n",
      "2025-07-30 12:29:42,370 INFO status has been updated to accepted\n",
      "2025-07-30 12:29:42,370 INFO status has been updated to accepted\n",
      "2025-07-30 12:29:49,683 INFO status has been updated to running\n",
      "2025-07-30 12:29:49,683 INFO status has been updated to running\n",
      "2025-07-30 12:31:40,965 INFO status has been updated to successful\n",
      "2025-07-30 12:31:40,965 INFO status has been updated to successful\n"
     ]
    },
    {
     "data": {
      "application/vnd.jupyter.widget-view+json": {
       "model_id": "92476367fedf46ca99b281884bef464b",
       "version_major": 2,
       "version_minor": 0
      },
      "text/plain": [
       "464179ac1208580357e98585c283794d.grib:   0%|          | 0.00/36.4M [00:00<?, ?B/s]"
      ]
     },
     "metadata": {},
     "output_type": "display_data"
    },
    {
     "name": "stdout",
     "output_type": "stream",
     "text": [
      "Successfully downloaded to: ../data/wind_data_all_levels/wind_data_2022_03_all_levels.grib\n",
      "--- Downloading data for 2022-04 (all pressure levels) ---\n"
     ]
    },
    {
     "name": "stderr",
     "output_type": "stream",
     "text": [
      "2025-07-30 12:35:26,228 INFO Request ID is c2326559-7d64-4dca-a890-96f24099216f\n",
      "2025-07-30 12:35:26,592 INFO status has been updated to accepted\n",
      "2025-07-30 12:35:26,592 INFO status has been updated to accepted\n",
      "2025-07-30 12:35:36,332 INFO status has been updated to running\n",
      "2025-07-30 12:35:36,332 INFO status has been updated to running\n",
      "2025-07-30 12:37:24,232 INFO status has been updated to successful\n",
      "2025-07-30 12:37:24,232 INFO status has been updated to successful\n"
     ]
    },
    {
     "data": {
      "application/vnd.jupyter.widget-view+json": {
       "model_id": "6ba78f229b334cf89ebcd3717925472b",
       "version_major": 2,
       "version_minor": 0
      },
      "text/plain": [
       "cd24eb1646fe7479abb09fdcf92d4bd2.grib:   0%|          | 0.00/35.2M [00:00<?, ?B/s]"
      ]
     },
     "metadata": {},
     "output_type": "display_data"
    },
    {
     "name": "stdout",
     "output_type": "stream",
     "text": [
      "Successfully downloaded to: ../data/wind_data_all_levels/wind_data_2022_04_all_levels.grib\n",
      "--- Downloading data for 2022-05 (all pressure levels) ---\n"
     ]
    },
    {
     "name": "stderr",
     "output_type": "stream",
     "text": [
      "2025-07-30 12:40:38,164 INFO Request ID is b8bfd334-5da9-4520-973d-0fa4b3f8f70e\n",
      "2025-07-30 12:40:38,551 INFO status has been updated to accepted\n",
      "2025-07-30 12:40:38,551 INFO status has been updated to accepted\n",
      "2025-07-30 12:40:48,288 INFO status has been updated to running\n",
      "2025-07-30 12:40:48,288 INFO status has been updated to running\n",
      "2025-07-30 12:41:56,842 INFO status has been updated to successful\n",
      "2025-07-30 12:41:56,842 INFO status has been updated to successful\n"
     ]
    },
    {
     "data": {
      "application/vnd.jupyter.widget-view+json": {
       "model_id": "e3e69a986f2e4fad8996e4dd5803c6b0",
       "version_major": 2,
       "version_minor": 0
      },
      "text/plain": [
       "3da1acf19b9f06edcde88afb621e4a26.grib:   0%|          | 0.00/36.4M [00:00<?, ?B/s]"
      ]
     },
     "metadata": {},
     "output_type": "display_data"
    },
    {
     "name": "stdout",
     "output_type": "stream",
     "text": [
      "Successfully downloaded to: ../data/wind_data_all_levels/wind_data_2022_05_all_levels.grib\n",
      "--- Downloading data for 2022-06 (all pressure levels) ---\n"
     ]
    },
    {
     "name": "stderr",
     "output_type": "stream",
     "text": [
      "2025-07-30 12:43:38,040 INFO Request ID is d7d834dc-8df4-4136-8a7b-b22b508c8168\n",
      "2025-07-30 12:43:38,407 INFO status has been updated to accepted\n",
      "2025-07-30 12:43:38,407 INFO status has been updated to accepted\n",
      "2025-07-30 12:43:48,172 INFO status has been updated to running\n",
      "2025-07-30 12:43:48,172 INFO status has been updated to running\n",
      "2025-07-30 12:45:36,934 INFO status has been updated to successful\n",
      "2025-07-30 12:45:36,934 INFO status has been updated to successful\n"
     ]
    },
    {
     "data": {
      "application/vnd.jupyter.widget-view+json": {
       "model_id": "cd917fd7583b485b91458dbdece36dfa",
       "version_major": 2,
       "version_minor": 0
      },
      "text/plain": [
       "b28d5a486daab846f22300b705070912.grib:   0%|          | 0.00/35.2M [00:00<?, ?B/s]"
      ]
     },
     "metadata": {},
     "output_type": "display_data"
    },
    {
     "name": "stdout",
     "output_type": "stream",
     "text": [
      "Successfully downloaded to: ../data/wind_data_all_levels/wind_data_2022_06_all_levels.grib\n",
      "--- Downloading data for 2022-07 (all pressure levels) ---\n"
     ]
    },
    {
     "name": "stderr",
     "output_type": "stream",
     "text": [
      "2025-07-30 12:46:48,603 INFO Request ID is 6f8d6858-3e60-44cf-8a5c-098604d9ae2d\n",
      "2025-07-30 12:46:48,972 INFO status has been updated to accepted\n",
      "2025-07-30 12:46:48,972 INFO status has been updated to accepted\n",
      "2025-07-30 12:46:54,811 INFO status has been updated to running\n",
      "2025-07-30 12:46:54,811 INFO status has been updated to running\n",
      "2025-07-30 12:48:46,954 INFO status has been updated to successful\n",
      "2025-07-30 12:48:46,954 INFO status has been updated to successful\n"
     ]
    },
    {
     "data": {
      "application/vnd.jupyter.widget-view+json": {
       "model_id": "22088a1aa77546c5bbe27839e8ee007e",
       "version_major": 2,
       "version_minor": 0
      },
      "text/plain": [
       "ed5a859247e82323b4f9172c1dbcdb3.grib:   0%|          | 0.00/36.4M [00:00<?, ?B/s]"
      ]
     },
     "metadata": {},
     "output_type": "display_data"
    },
    {
     "name": "stdout",
     "output_type": "stream",
     "text": [
      "Successfully downloaded to: ../data/wind_data_all_levels/wind_data_2022_07_all_levels.grib\n",
      "--- Downloading data for 2022-08 (all pressure levels) ---\n"
     ]
    },
    {
     "name": "stderr",
     "output_type": "stream",
     "text": [
      "2025-07-30 12:53:01,243 INFO Request ID is 3f3ddac7-1b8d-491d-9dda-98e9d44b4ea7\n",
      "2025-07-30 12:53:01,622 INFO status has been updated to accepted\n",
      "2025-07-30 12:53:01,622 INFO status has been updated to accepted\n",
      "2025-07-30 12:53:07,864 INFO status has been updated to running\n",
      "2025-07-30 12:53:07,864 INFO status has been updated to running\n",
      "2025-07-30 12:54:59,093 INFO status has been updated to successful\n",
      "2025-07-30 12:54:59,093 INFO status has been updated to successful\n"
     ]
    },
    {
     "data": {
      "application/vnd.jupyter.widget-view+json": {
       "model_id": "1cfb3bc1f3a34ec8845a0c592772ecd8",
       "version_major": 2,
       "version_minor": 0
      },
      "text/plain": [
       "57ed8c09fc136b478553f2c448d81775.grib:   0%|          | 0.00/36.4M [00:00<?, ?B/s]"
      ]
     },
     "metadata": {},
     "output_type": "display_data"
    },
    {
     "name": "stdout",
     "output_type": "stream",
     "text": [
      "Successfully downloaded to: ../data/wind_data_all_levels/wind_data_2022_08_all_levels.grib\n",
      "--- Downloading data for 2022-09 (all pressure levels) ---\n"
     ]
    },
    {
     "name": "stderr",
     "output_type": "stream",
     "text": [
      "2025-07-30 12:56:56,327 INFO Request ID is 911217d3-858e-4def-bc49-49ba04697fab\n",
      "2025-07-30 12:56:56,700 INFO status has been updated to accepted\n",
      "2025-07-30 12:56:56,700 INFO status has been updated to accepted\n",
      "2025-07-30 12:57:07,667 INFO status has been updated to running\n",
      "2025-07-30 12:57:07,667 INFO status has been updated to running\n",
      "2025-07-30 12:58:55,020 INFO status has been updated to successful\n",
      "2025-07-30 12:58:55,020 INFO status has been updated to successful\n"
     ]
    },
    {
     "data": {
      "application/vnd.jupyter.widget-view+json": {
       "model_id": "1aec12f46ea947f5a60d7515f6ebc215",
       "version_major": 2,
       "version_minor": 0
      },
      "text/plain": [
       "94083b5e3c9e662dac28c56591fdf516.grib:   0%|          | 0.00/35.2M [00:00<?, ?B/s]"
      ]
     },
     "metadata": {},
     "output_type": "display_data"
    },
    {
     "name": "stdout",
     "output_type": "stream",
     "text": [
      "Successfully downloaded to: ../data/wind_data_all_levels/wind_data_2022_09_all_levels.grib\n",
      "--- Downloading data for 2022-10 (all pressure levels) ---\n"
     ]
    },
    {
     "name": "stderr",
     "output_type": "stream",
     "text": [
      "2025-07-30 13:00:11,204 INFO Request ID is f7923b19-50af-40d6-94a1-5d4cf2cc8904\n",
      "2025-07-30 13:00:11,721 INFO status has been updated to accepted\n",
      "2025-07-30 13:00:11,721 INFO status has been updated to accepted\n",
      "2025-07-30 13:00:27,138 INFO status has been updated to running\n",
      "2025-07-30 13:00:27,138 INFO status has been updated to running\n",
      "2025-07-30 13:02:09,416 INFO status has been updated to successful\n",
      "2025-07-30 13:02:09,416 INFO status has been updated to successful\n"
     ]
    },
    {
     "data": {
      "application/vnd.jupyter.widget-view+json": {
       "model_id": "4e2b2e3809744094a8cda86beed7ebcd",
       "version_major": 2,
       "version_minor": 0
      },
      "text/plain": [
       "27dcd0fbc89df32cdd4ca85deabb95ea.grib:   0%|          | 0.00/36.4M [00:00<?, ?B/s]"
      ]
     },
     "metadata": {},
     "output_type": "display_data"
    },
    {
     "name": "stdout",
     "output_type": "stream",
     "text": [
      "Successfully downloaded to: ../data/wind_data_all_levels/wind_data_2022_10_all_levels.grib\n",
      "--- Downloading data for 2022-11 (all pressure levels) ---\n"
     ]
    },
    {
     "name": "stderr",
     "output_type": "stream",
     "text": [
      "2025-07-30 13:03:39,083 INFO Request ID is af330099-a153-4a30-8bcb-7ec858c1140b\n",
      "2025-07-30 13:03:39,417 INFO status has been updated to accepted\n",
      "2025-07-30 13:03:39,417 INFO status has been updated to accepted\n",
      "2025-07-30 13:03:49,089 INFO status has been updated to running\n",
      "2025-07-30 13:03:49,089 INFO status has been updated to running\n",
      "2025-07-30 13:05:36,846 INFO status has been updated to successful\n",
      "2025-07-30 13:05:36,846 INFO status has been updated to successful\n"
     ]
    },
    {
     "data": {
      "application/vnd.jupyter.widget-view+json": {
       "model_id": "e680c4f1cb7b4b908968cf0dcd3caa43",
       "version_major": 2,
       "version_minor": 0
      },
      "text/plain": [
       "a373c4c1aac2ff6304556ba3575d30ae.grib:   0%|          | 0.00/35.2M [00:00<?, ?B/s]"
      ]
     },
     "metadata": {},
     "output_type": "display_data"
    },
    {
     "name": "stdout",
     "output_type": "stream",
     "text": [
      "!!! FAILED to download data for 2022-11. Error: ('Connection broken: IncompleteRead(24870912 bytes read, 12047808 more expected)', IncompleteRead(24870912 bytes read, 12047808 more expected))\n",
      "--- Downloading data for 2022-12 (all pressure levels) ---\n"
     ]
    },
    {
     "name": "stderr",
     "output_type": "stream",
     "text": [
      "2025-07-30 13:09:49,143 INFO Request ID is 9a4153bd-0cc9-4379-bc19-1de43eff20c4\n",
      "2025-07-30 13:09:49,553 INFO status has been updated to accepted\n",
      "2025-07-30 13:09:49,553 INFO status has been updated to accepted\n",
      "2025-07-30 13:09:59,439 INFO status has been updated to running\n",
      "2025-07-30 13:09:59,439 INFO status has been updated to running\n",
      "2025-07-30 13:11:46,927 INFO status has been updated to successful\n",
      "2025-07-30 13:11:46,927 INFO status has been updated to successful\n"
     ]
    },
    {
     "data": {
      "application/vnd.jupyter.widget-view+json": {
       "model_id": "4167ab7dc7884eff92a414258e2fc9f0",
       "version_major": 2,
       "version_minor": 0
      },
      "text/plain": [
       "c823626092139315b9018b69b616356e.grib:   0%|          | 0.00/36.4M [00:00<?, ?B/s]"
      ]
     },
     "metadata": {},
     "output_type": "display_data"
    },
    {
     "name": "stdout",
     "output_type": "stream",
     "text": [
      "Successfully downloaded to: ../data/wind_data_all_levels/wind_data_2022_12_all_levels.grib\n",
      "--- Downloading data for 2023-01 (all pressure levels) ---\n"
     ]
    },
    {
     "name": "stderr",
     "output_type": "stream",
     "text": [
      "2025-07-30 13:14:30,430 INFO Request ID is c37cdc53-ac01-46f2-8b70-7722adcaea06\n",
      "2025-07-30 13:14:30,805 INFO status has been updated to accepted\n",
      "2025-07-30 13:14:30,805 INFO status has been updated to accepted\n",
      "2025-07-30 13:14:46,040 INFO status has been updated to running\n",
      "2025-07-30 13:14:46,040 INFO status has been updated to running\n",
      "2025-07-30 13:16:28,145 INFO status has been updated to successful\n",
      "2025-07-30 13:16:28,145 INFO status has been updated to successful\n"
     ]
    },
    {
     "data": {
      "application/vnd.jupyter.widget-view+json": {
       "model_id": "23a9cd4d73a5496fbccd3782f80501c8",
       "version_major": 2,
       "version_minor": 0
      },
      "text/plain": [
       "3489303a17bfca80ebdeb13d7bd464c6.grib:   0%|          | 0.00/36.4M [00:00<?, ?B/s]"
      ]
     },
     "metadata": {},
     "output_type": "display_data"
    },
    {
     "name": "stdout",
     "output_type": "stream",
     "text": [
      "Successfully downloaded to: ../data/wind_data_all_levels/wind_data_2023_01_all_levels.grib\n",
      "--- Downloading data for 2023-02 (all pressure levels) ---\n"
     ]
    },
    {
     "name": "stderr",
     "output_type": "stream",
     "text": [
      "2025-07-30 13:18:59,255 INFO Request ID is 301b70ac-e066-4f71-baf4-36d57188eca2\n",
      "2025-07-30 13:18:59,738 INFO status has been updated to accepted\n",
      "2025-07-30 13:18:59,738 INFO status has been updated to accepted\n",
      "2025-07-30 13:19:09,554 INFO status has been updated to running\n",
      "2025-07-30 13:19:09,554 INFO status has been updated to running\n",
      "2025-07-30 13:19:14,989 INFO status has been updated to accepted\n",
      "2025-07-30 13:19:14,989 INFO status has been updated to accepted\n",
      "2025-07-30 13:19:34,759 INFO status has been updated to running\n",
      "2025-07-30 13:19:34,759 INFO status has been updated to running\n",
      "2025-07-30 13:20:18,210 INFO status has been updated to successful\n",
      "2025-07-30 13:20:18,210 INFO status has been updated to successful\n"
     ]
    },
    {
     "data": {
      "application/vnd.jupyter.widget-view+json": {
       "model_id": "293197954e9c41b88dbf1255a1ce0e43",
       "version_major": 2,
       "version_minor": 0
      },
      "text/plain": [
       "cc54775a86e2cc195d17422ba5ebcefe.grib:   0%|          | 0.00/32.9M [00:00<?, ?B/s]"
      ]
     },
     "metadata": {},
     "output_type": "display_data"
    },
    {
     "name": "stdout",
     "output_type": "stream",
     "text": [
      "Successfully downloaded to: ../data/wind_data_all_levels/wind_data_2023_02_all_levels.grib\n",
      "--- Downloading data for 2023-03 (all pressure levels) ---\n"
     ]
    },
    {
     "name": "stderr",
     "output_type": "stream",
     "text": [
      "2025-07-30 13:22:12,765 INFO Request ID is 0a3d1eb4-eeaf-4492-b1b1-638a40581a80\n",
      "2025-07-30 13:22:13,139 INFO status has been updated to accepted\n",
      "2025-07-30 13:22:13,139 INFO status has been updated to accepted\n",
      "2025-07-30 13:22:48,219 INFO status has been updated to running\n",
      "2025-07-30 13:22:48,219 INFO status has been updated to running\n",
      "2025-07-30 13:24:10,485 INFO status has been updated to successful\n",
      "2025-07-30 13:24:10,485 INFO status has been updated to successful\n"
     ]
    },
    {
     "data": {
      "application/vnd.jupyter.widget-view+json": {
       "model_id": "d790c6c67c0e40048e87f5578ad5b76a",
       "version_major": 2,
       "version_minor": 0
      },
      "text/plain": [
       "16e2f776229f45165da0fc5bf499ce59.grib:   0%|          | 0.00/36.4M [00:00<?, ?B/s]"
      ]
     },
     "metadata": {},
     "output_type": "display_data"
    },
    {
     "name": "stdout",
     "output_type": "stream",
     "text": [
      "Successfully downloaded to: ../data/wind_data_all_levels/wind_data_2023_03_all_levels.grib\n",
      "--- Downloading data for 2023-04 (all pressure levels) ---\n"
     ]
    },
    {
     "name": "stderr",
     "output_type": "stream",
     "text": [
      "2025-07-30 13:26:20,345 INFO Request ID is a2e7b304-7023-4dc2-9fa2-ca9622b34769\n",
      "2025-07-30 13:26:20,763 INFO status has been updated to accepted\n",
      "2025-07-30 13:26:20,763 INFO status has been updated to accepted\n",
      "2025-07-30 13:26:43,733 INFO status has been updated to running\n",
      "2025-07-30 13:26:43,733 INFO status has been updated to running\n",
      "2025-07-30 13:28:17,644 INFO status has been updated to successful\n",
      "2025-07-30 13:28:17,644 INFO status has been updated to successful\n"
     ]
    },
    {
     "data": {
      "application/vnd.jupyter.widget-view+json": {
       "model_id": "a25e63906b8b40c994f4367b4cff5e4c",
       "version_major": 2,
       "version_minor": 0
      },
      "text/plain": [
       "89dfb041cb20e2b64181c936fd1ee564.grib:   0%|          | 0.00/35.2M [00:00<?, ?B/s]"
      ]
     },
     "metadata": {},
     "output_type": "display_data"
    },
    {
     "name": "stdout",
     "output_type": "stream",
     "text": [
      "Successfully downloaded to: ../data/wind_data_all_levels/wind_data_2023_04_all_levels.grib\n",
      "--- Downloading data for 2023-05 (all pressure levels) ---\n"
     ]
    },
    {
     "name": "stderr",
     "output_type": "stream",
     "text": [
      "2025-07-30 13:29:08,728 INFO Request ID is 9bb9d237-eaa9-451c-9a9b-c67f90f06639\n",
      "2025-07-30 13:29:09,086 INFO status has been updated to accepted\n",
      "2025-07-30 13:29:09,086 INFO status has been updated to accepted\n",
      "2025-07-30 13:29:18,741 INFO status has been updated to running\n",
      "2025-07-30 13:29:18,741 INFO status has been updated to running\n",
      "2025-07-30 13:31:06,120 INFO status has been updated to successful\n",
      "2025-07-30 13:31:06,120 INFO status has been updated to successful\n"
     ]
    },
    {
     "data": {
      "application/vnd.jupyter.widget-view+json": {
       "model_id": "86f73c9f57cb44518cbc88f5722e8edd",
       "version_major": 2,
       "version_minor": 0
      },
      "text/plain": [
       "55150cf427cbcff278b8d5d734d96e46.grib:   0%|          | 0.00/36.4M [00:00<?, ?B/s]"
      ]
     },
     "metadata": {},
     "output_type": "display_data"
    },
    {
     "name": "stdout",
     "output_type": "stream",
     "text": [
      "Successfully downloaded to: ../data/wind_data_all_levels/wind_data_2023_05_all_levels.grib\n",
      "--- Downloading data for 2023-06 (all pressure levels) ---\n"
     ]
    },
    {
     "name": "stderr",
     "output_type": "stream",
     "text": [
      "2025-07-30 13:33:11,691 INFO Request ID is e566f3ae-5f5b-4b2c-bc18-942a13d7be28\n",
      "2025-07-30 13:33:12,064 INFO status has been updated to accepted\n",
      "2025-07-30 13:33:12,064 INFO status has been updated to accepted\n",
      "2025-07-30 13:33:27,253 INFO status has been updated to running\n",
      "2025-07-30 13:33:27,253 INFO status has been updated to running\n",
      "2025-07-30 13:35:09,771 INFO status has been updated to successful\n",
      "2025-07-30 13:35:09,771 INFO status has been updated to successful\n"
     ]
    },
    {
     "data": {
      "application/vnd.jupyter.widget-view+json": {
       "model_id": "995010aba20a4bc8859b32b099f1ccef",
       "version_major": 2,
       "version_minor": 0
      },
      "text/plain": [
       "37dff06ee7ed739a82ca3a03c6a95e81.grib:   0%|          | 0.00/35.2M [00:00<?, ?B/s]"
      ]
     },
     "metadata": {},
     "output_type": "display_data"
    },
    {
     "name": "stdout",
     "output_type": "stream",
     "text": [
      "Successfully downloaded to: ../data/wind_data_all_levels/wind_data_2023_06_all_levels.grib\n",
      "--- Downloading data for 2023-07 (all pressure levels) ---\n"
     ]
    },
    {
     "name": "stderr",
     "output_type": "stream",
     "text": [
      "2025-07-30 13:37:46,041 INFO Request ID is 4988d781-7559-4763-ba31-7332bb4bc0f5\n",
      "2025-07-30 13:37:46,442 INFO status has been updated to accepted\n",
      "2025-07-30 13:37:46,442 INFO status has been updated to accepted\n",
      "2025-07-30 13:38:21,113 INFO status has been updated to running\n",
      "2025-07-30 13:38:21,113 INFO status has been updated to running\n",
      "2025-07-30 13:39:43,330 INFO status has been updated to successful\n",
      "2025-07-30 13:39:43,330 INFO status has been updated to successful\n"
     ]
    },
    {
     "data": {
      "application/vnd.jupyter.widget-view+json": {
       "model_id": "b4497957b25343968842c290a418b0e3",
       "version_major": 2,
       "version_minor": 0
      },
      "text/plain": [
       "93d03dd9a60f4f36d2e3be989978b896.grib:   0%|          | 0.00/36.4M [00:00<?, ?B/s]"
      ]
     },
     "metadata": {},
     "output_type": "display_data"
    },
    {
     "name": "stdout",
     "output_type": "stream",
     "text": [
      "Successfully downloaded to: ../data/wind_data_all_levels/wind_data_2023_07_all_levels.grib\n",
      "--- Downloading data for 2023-08 (all pressure levels) ---\n"
     ]
    },
    {
     "name": "stderr",
     "output_type": "stream",
     "text": [
      "2025-07-30 13:42:13,572 INFO Request ID is 2d62b342-8646-4129-89dd-04003ed7e5ac\n",
      "2025-07-30 13:42:13,927 INFO status has been updated to accepted\n",
      "2025-07-30 13:42:13,927 INFO status has been updated to accepted\n",
      "2025-07-30 13:42:23,615 INFO status has been updated to running\n",
      "2025-07-30 13:42:23,615 INFO status has been updated to running\n",
      "2025-07-30 13:44:11,163 INFO status has been updated to successful\n",
      "2025-07-30 13:44:11,163 INFO status has been updated to successful\n"
     ]
    },
    {
     "data": {
      "application/vnd.jupyter.widget-view+json": {
       "model_id": "2b2bb555bdf34d37b929d353d93383b2",
       "version_major": 2,
       "version_minor": 0
      },
      "text/plain": [
       "3fd6a02022021e0cf9fd2cc2d1a52924.grib:   0%|          | 0.00/36.4M [00:00<?, ?B/s]"
      ]
     },
     "metadata": {},
     "output_type": "display_data"
    },
    {
     "name": "stdout",
     "output_type": "stream",
     "text": [
      "Successfully downloaded to: ../data/wind_data_all_levels/wind_data_2023_08_all_levels.grib\n",
      "--- Downloading data for 2023-09 (all pressure levels) ---\n"
     ]
    },
    {
     "name": "stderr",
     "output_type": "stream",
     "text": [
      "2025-07-30 13:47:13,366 INFO Request ID is 204be26e-7eb5-4cf9-9523-cb03ebf41531\n",
      "2025-07-30 13:47:13,709 INFO status has been updated to accepted\n",
      "2025-07-30 13:47:13,709 INFO status has been updated to accepted\n",
      "2025-07-30 13:47:23,276 INFO status has been updated to running\n",
      "2025-07-30 13:47:23,276 INFO status has been updated to running\n",
      "2025-07-30 13:50:09,332 INFO status has been updated to successful\n",
      "2025-07-30 13:50:09,332 INFO status has been updated to successful\n"
     ]
    },
    {
     "data": {
      "application/vnd.jupyter.widget-view+json": {
       "model_id": "2c863f0232a746aab9abce9ef206ae2a",
       "version_major": 2,
       "version_minor": 0
      },
      "text/plain": [
       "9edb1706511c31b912535fb865ec0c4b.grib:   0%|          | 0.00/35.2M [00:00<?, ?B/s]"
      ]
     },
     "metadata": {},
     "output_type": "display_data"
    },
    {
     "name": "stdout",
     "output_type": "stream",
     "text": [
      "Successfully downloaded to: ../data/wind_data_all_levels/wind_data_2023_09_all_levels.grib\n",
      "--- Downloading data for 2023-10 (all pressure levels) ---\n"
     ]
    },
    {
     "name": "stderr",
     "output_type": "stream",
     "text": [
      "2025-07-30 13:52:45,705 INFO Request ID is 4474365c-f835-471d-aa3c-b3eb146deb05\n",
      "2025-07-30 13:52:46,090 INFO status has been updated to accepted\n",
      "2025-07-30 13:52:46,090 INFO status has been updated to accepted\n",
      "2025-07-30 13:52:55,666 INFO status has been updated to running\n",
      "2025-07-30 13:52:55,666 INFO status has been updated to running\n",
      "2025-07-30 13:54:43,129 INFO status has been updated to successful\n",
      "2025-07-30 13:54:43,129 INFO status has been updated to successful\n"
     ]
    },
    {
     "data": {
      "application/vnd.jupyter.widget-view+json": {
       "model_id": "b1e57a6df15c4507bddcfad323c9cfc2",
       "version_major": 2,
       "version_minor": 0
      },
      "text/plain": [
       "b110b4a18de397c541e4ba54ef37aed7.grib:   0%|          | 0.00/36.4M [00:00<?, ?B/s]"
      ]
     },
     "metadata": {},
     "output_type": "display_data"
    },
    {
     "name": "stdout",
     "output_type": "stream",
     "text": [
      "Successfully downloaded to: ../data/wind_data_all_levels/wind_data_2023_10_all_levels.grib\n",
      "--- Downloading data for 2023-11 (all pressure levels) ---\n"
     ]
    },
    {
     "name": "stderr",
     "output_type": "stream",
     "text": [
      "2025-07-30 13:58:21,150 INFO Request ID is 93dc9340-efe7-4170-a46a-6b2d612f9dc7\n",
      "2025-07-30 13:58:21,536 INFO status has been updated to accepted\n",
      "2025-07-30 13:58:21,536 INFO status has been updated to accepted\n",
      "2025-07-30 13:58:36,868 INFO status has been updated to running\n",
      "2025-07-30 13:58:36,868 INFO status has been updated to running\n",
      "2025-07-30 14:00:18,896 INFO status has been updated to successful\n",
      "2025-07-30 14:00:18,896 INFO status has been updated to successful\n"
     ]
    },
    {
     "data": {
      "application/vnd.jupyter.widget-view+json": {
       "model_id": "83bfe2edb60f43f0ab5af5c339a6c145",
       "version_major": 2,
       "version_minor": 0
      },
      "text/plain": [
       "25c3ef8802e059ab380e92d2ab2c3dae.grib:   0%|          | 0.00/35.2M [00:00<?, ?B/s]"
      ]
     },
     "metadata": {},
     "output_type": "display_data"
    },
    {
     "name": "stdout",
     "output_type": "stream",
     "text": [
      "Successfully downloaded to: ../data/wind_data_all_levels/wind_data_2023_11_all_levels.grib\n",
      "--- Downloading data for 2023-12 (all pressure levels) ---\n"
     ]
    },
    {
     "name": "stderr",
     "output_type": "stream",
     "text": [
      "2025-07-30 14:02:29,989 INFO Request ID is 196ce048-e8dc-471d-9cb3-30e902d57dd7\n",
      "2025-07-30 14:02:30,395 INFO status has been updated to accepted\n",
      "2025-07-30 14:02:30,395 INFO status has been updated to accepted\n",
      "2025-07-30 14:02:39,964 INFO status has been updated to running\n",
      "2025-07-30 14:02:39,964 INFO status has been updated to running\n",
      "2025-07-30 14:04:27,488 INFO status has been updated to successful\n",
      "2025-07-30 14:04:27,488 INFO status has been updated to successful\n"
     ]
    },
    {
     "data": {
      "application/vnd.jupyter.widget-view+json": {
       "model_id": "c180d8fdce1b4a018983a2d313d79962",
       "version_major": 2,
       "version_minor": 0
      },
      "text/plain": [
       "127b8837f41f190776dc60adcf72fca6.grib:   0%|          | 0.00/36.4M [00:00<?, ?B/s]"
      ]
     },
     "metadata": {},
     "output_type": "display_data"
    },
    {
     "name": "stdout",
     "output_type": "stream",
     "text": [
      "Successfully downloaded to: ../data/wind_data_all_levels/wind_data_2023_12_all_levels.grib\n",
      "--- Downloading data for 2024-01 (all pressure levels) ---\n"
     ]
    },
    {
     "name": "stderr",
     "output_type": "stream",
     "text": [
      "2025-07-30 14:06:35,875 INFO Request ID is 0714ac2e-022c-4b9a-a782-a1856e632226\n",
      "2025-07-30 14:06:36,247 INFO status has been updated to accepted\n",
      "2025-07-30 14:06:36,247 INFO status has been updated to accepted\n",
      "2025-07-30 14:06:51,389 INFO status has been updated to running\n",
      "2025-07-30 14:06:51,389 INFO status has been updated to running\n",
      "2025-07-30 14:08:33,652 INFO status has been updated to successful\n",
      "2025-07-30 14:08:33,652 INFO status has been updated to successful\n"
     ]
    },
    {
     "data": {
      "application/vnd.jupyter.widget-view+json": {
       "model_id": "cc8188e011294b0cab34f02fc4901142",
       "version_major": 2,
       "version_minor": 0
      },
      "text/plain": [
       "2083d8b414e807804ad2390642d9a79f.grib:   0%|          | 0.00/36.4M [00:00<?, ?B/s]"
      ]
     },
     "metadata": {},
     "output_type": "display_data"
    },
    {
     "name": "stdout",
     "output_type": "stream",
     "text": [
      "Successfully downloaded to: ../data/wind_data_all_levels/wind_data_2024_01_all_levels.grib\n",
      "--- Downloading data for 2024-02 (all pressure levels) ---\n"
     ]
    },
    {
     "name": "stderr",
     "output_type": "stream",
     "text": [
      "2025-07-30 14:09:47,902 INFO Request ID is 735b31b1-ebc7-4afa-aa0f-59d8122c4509\n",
      "2025-07-30 14:09:48,438 INFO status has been updated to accepted\n",
      "2025-07-30 14:09:48,438 INFO status has been updated to accepted\n",
      "2025-07-30 14:09:58,137 INFO status has been updated to running\n",
      "2025-07-30 14:09:58,137 INFO status has been updated to running\n",
      "2025-07-30 14:11:45,553 INFO status has been updated to successful\n",
      "2025-07-30 14:11:45,553 INFO status has been updated to successful\n"
     ]
    },
    {
     "data": {
      "application/vnd.jupyter.widget-view+json": {
       "model_id": "3a3e6db624ea467aabb8f7195427cc30",
       "version_major": 2,
       "version_minor": 0
      },
      "text/plain": [
       "f14c877eca086933d42b3332bc0b61df.grib:   0%|          | 0.00/34.0M [00:00<?, ?B/s]"
      ]
     },
     "metadata": {},
     "output_type": "display_data"
    },
    {
     "name": "stdout",
     "output_type": "stream",
     "text": [
      "Successfully downloaded to: ../data/wind_data_all_levels/wind_data_2024_02_all_levels.grib\n",
      "--- Downloading data for 2024-03 (all pressure levels) ---\n"
     ]
    },
    {
     "name": "stderr",
     "output_type": "stream",
     "text": [
      "2025-07-30 14:13:04,978 INFO Request ID is d86e82b3-c0d0-4b4b-8cbe-71e4010fe984\n",
      "2025-07-30 14:13:05,499 INFO status has been updated to accepted\n",
      "2025-07-30 14:13:05,499 INFO status has been updated to accepted\n",
      "2025-07-30 14:13:15,493 INFO status has been updated to running\n",
      "2025-07-30 14:13:15,493 INFO status has been updated to running\n",
      "2025-07-30 14:15:02,938 INFO status has been updated to successful\n",
      "2025-07-30 14:15:02,938 INFO status has been updated to successful\n"
     ]
    },
    {
     "data": {
      "application/vnd.jupyter.widget-view+json": {
       "model_id": "784c21c04f5e4770aa8ce4d7ef2ef901",
       "version_major": 2,
       "version_minor": 0
      },
      "text/plain": [
       "314f218f6dac535068d52b0925c38d20.grib:   0%|          | 0.00/36.4M [00:00<?, ?B/s]"
      ]
     },
     "metadata": {},
     "output_type": "display_data"
    },
    {
     "name": "stdout",
     "output_type": "stream",
     "text": [
      "Successfully downloaded to: ../data/wind_data_all_levels/wind_data_2024_03_all_levels.grib\n",
      "--- Downloading data for 2024-04 (all pressure levels) ---\n"
     ]
    },
    {
     "name": "stderr",
     "output_type": "stream",
     "text": [
      "2025-07-30 14:18:12,910 INFO Request ID is fcf9a6b2-0f47-4a2d-be56-6d7e722fb832\n",
      "2025-07-30 14:18:13,266 INFO status has been updated to accepted\n",
      "2025-07-30 14:18:13,266 INFO status has been updated to accepted\n",
      "2025-07-30 14:18:23,085 INFO status has been updated to running\n",
      "2025-07-30 14:18:23,085 INFO status has been updated to running\n",
      "2025-07-30 14:20:10,605 INFO status has been updated to successful\n",
      "2025-07-30 14:20:10,605 INFO status has been updated to successful\n"
     ]
    },
    {
     "data": {
      "application/vnd.jupyter.widget-view+json": {
       "model_id": "2a71e2f1235447ccbd58602d66525369",
       "version_major": 2,
       "version_minor": 0
      },
      "text/plain": [
       "d9dfe2ac2bba067d2ebb39e62645044b.grib:   0%|          | 0.00/35.2M [00:00<?, ?B/s]"
      ]
     },
     "metadata": {},
     "output_type": "display_data"
    },
    {
     "name": "stdout",
     "output_type": "stream",
     "text": [
      "Successfully downloaded to: ../data/wind_data_all_levels/wind_data_2024_04_all_levels.grib\n",
      "--- Downloading data for 2024-05 (all pressure levels) ---\n"
     ]
    },
    {
     "name": "stderr",
     "output_type": "stream",
     "text": [
      "2025-07-30 14:22:30,150 INFO Request ID is 737281b4-3040-4725-b6f1-2bae45e27de2\n",
      "2025-07-30 14:22:30,487 INFO status has been updated to accepted\n",
      "2025-07-30 14:22:30,487 INFO status has been updated to accepted\n",
      "2025-07-30 14:22:40,245 INFO status has been updated to running\n",
      "2025-07-30 14:22:40,245 INFO status has been updated to running\n",
      "2025-07-30 14:24:27,591 INFO status has been updated to successful\n",
      "2025-07-30 14:24:27,591 INFO status has been updated to successful\n"
     ]
    },
    {
     "data": {
      "application/vnd.jupyter.widget-view+json": {
       "model_id": "75ad2d0975404c5799e4e3e042bd85bf",
       "version_major": 2,
       "version_minor": 0
      },
      "text/plain": [
       "1b252c95ff9fdaefc6a80a18d9cea874.grib:   0%|          | 0.00/36.4M [00:00<?, ?B/s]"
      ]
     },
     "metadata": {},
     "output_type": "display_data"
    },
    {
     "name": "stdout",
     "output_type": "stream",
     "text": [
      "Successfully downloaded to: ../data/wind_data_all_levels/wind_data_2024_05_all_levels.grib\n",
      "--- Downloading data for 2024-06 (all pressure levels) ---\n"
     ]
    },
    {
     "name": "stderr",
     "output_type": "stream",
     "text": [
      "2025-07-30 14:26:06,046 INFO Request ID is 69f6a2b5-f94c-43a3-a67b-43aed6ce9db1\n",
      "2025-07-30 14:26:06,406 INFO status has been updated to accepted\n",
      "2025-07-30 14:26:06,406 INFO status has been updated to accepted\n",
      "2025-07-30 14:26:16,008 INFO status has been updated to running\n",
      "2025-07-30 14:26:16,008 INFO status has been updated to running\n",
      "2025-07-30 14:28:04,058 INFO status has been updated to successful\n",
      "2025-07-30 14:28:04,058 INFO status has been updated to successful\n"
     ]
    },
    {
     "data": {
      "application/vnd.jupyter.widget-view+json": {
       "model_id": "74664a563b684e8897fe46a418a5fffa",
       "version_major": 2,
       "version_minor": 0
      },
      "text/plain": [
       "cb23ff3f9dbf3a69271a5d8ba9b207a7.grib:   0%|          | 0.00/35.2M [00:00<?, ?B/s]"
      ]
     },
     "metadata": {},
     "output_type": "display_data"
    },
    {
     "name": "stdout",
     "output_type": "stream",
     "text": [
      "Successfully downloaded to: ../data/wind_data_all_levels/wind_data_2024_06_all_levels.grib\n",
      "--- Downloading data for 2024-07 (all pressure levels) ---\n"
     ]
    },
    {
     "name": "stderr",
     "output_type": "stream",
     "text": [
      "2025-07-30 14:30:07,589 INFO Request ID is e6959f33-f19e-44a0-930f-774a5317c361\n",
      "2025-07-30 14:30:07,951 INFO status has been updated to accepted\n",
      "2025-07-30 14:30:07,951 INFO status has been updated to accepted\n",
      "2025-07-30 14:30:19,849 INFO status has been updated to running\n",
      "2025-07-30 14:30:19,849 INFO status has been updated to running\n",
      "2025-07-30 14:32:07,884 INFO status has been updated to successful\n",
      "2025-07-30 14:32:07,884 INFO status has been updated to successful\n"
     ]
    },
    {
     "data": {
      "application/vnd.jupyter.widget-view+json": {
       "model_id": "29ccdeb72e804a089aad028d50c4982c",
       "version_major": 2,
       "version_minor": 0
      },
      "text/plain": [
       "2c5f763112817ff18ac2e2e3c69c6c5e.grib:   0%|          | 0.00/36.4M [00:00<?, ?B/s]"
      ]
     },
     "metadata": {},
     "output_type": "display_data"
    },
    {
     "name": "stdout",
     "output_type": "stream",
     "text": [
      "Successfully downloaded to: ../data/wind_data_all_levels/wind_data_2024_07_all_levels.grib\n",
      "--- Downloading data for 2024-08 (all pressure levels) ---\n"
     ]
    },
    {
     "name": "stderr",
     "output_type": "stream",
     "text": [
      "2025-07-30 14:35:02,468 INFO Request ID is 9a9dcba6-98f1-429b-8ec7-dc6c2eeb1bcc\n",
      "2025-07-30 14:35:02,996 INFO status has been updated to accepted\n",
      "2025-07-30 14:35:02,996 INFO status has been updated to accepted\n",
      "2025-07-30 14:35:12,659 INFO status has been updated to running\n",
      "2025-07-30 14:35:12,659 INFO status has been updated to running\n",
      "2025-07-30 14:37:00,153 INFO status has been updated to successful\n",
      "2025-07-30 14:37:00,153 INFO status has been updated to successful\n"
     ]
    },
    {
     "data": {
      "application/vnd.jupyter.widget-view+json": {
       "model_id": "f5b6146fe03c47c68da3e449ad7e664d",
       "version_major": 2,
       "version_minor": 0
      },
      "text/plain": [
       "593636a84a82d8f5a16d76d26276f705.grib:   0%|          | 0.00/36.4M [00:00<?, ?B/s]"
      ]
     },
     "metadata": {},
     "output_type": "display_data"
    },
    {
     "name": "stderr",
     "output_type": "stream",
     "text": [
      "Recovering from connection error [HTTPSConnectionPool(host='object-store.os-api.cci2.ecmwf.int', port=443): Read timed out.], attempt 1 of 500\n",
      "Retrying in 120 seconds\n",
      "Retrying in 120 seconds\n"
     ]
    },
    {
     "data": {
      "application/vnd.jupyter.widget-view+json": {
       "model_id": "11fa1bf5d7914e7ba5e310fd750ad8e6",
       "version_major": 2,
       "version_minor": 0
      },
      "text/plain": [
       "593636a84a82d8f5a16d76d26276f705.grib:  88%|########7 | 32.0M/36.4M [00:00<?, ?B/s]"
      ]
     },
     "metadata": {},
     "output_type": "display_data"
    },
    {
     "name": "stdout",
     "output_type": "stream",
     "text": [
      "Successfully downloaded to: ../data/wind_data_all_levels/wind_data_2024_08_all_levels.grib\n",
      "--- Downloading data for 2024-09 (all pressure levels) ---\n"
     ]
    },
    {
     "name": "stderr",
     "output_type": "stream",
     "text": [
      "2025-07-30 14:43:38,505 INFO Request ID is b833690e-6708-4ae1-ba9a-00d986ddb55f\n",
      "2025-07-30 14:43:38,854 INFO status has been updated to accepted\n",
      "2025-07-30 14:43:38,854 INFO status has been updated to accepted\n",
      "2025-07-30 14:43:48,789 INFO status has been updated to running\n",
      "2025-07-30 14:43:48,789 INFO status has been updated to running\n",
      "2025-07-30 14:45:36,122 INFO status has been updated to successful\n",
      "2025-07-30 14:45:36,122 INFO status has been updated to successful\n"
     ]
    },
    {
     "data": {
      "application/vnd.jupyter.widget-view+json": {
       "model_id": "b54e93518bd34460b88f8cf1471171cf",
       "version_major": 2,
       "version_minor": 0
      },
      "text/plain": [
       "85febfb67050757f09cc50318a43ca7c.grib:   0%|          | 0.00/35.2M [00:00<?, ?B/s]"
      ]
     },
     "metadata": {},
     "output_type": "display_data"
    },
    {
     "name": "stdout",
     "output_type": "stream",
     "text": [
      "Successfully downloaded to: ../data/wind_data_all_levels/wind_data_2024_09_all_levels.grib\n",
      "--- Downloading data for 2024-10 (all pressure levels) ---\n"
     ]
    },
    {
     "name": "stderr",
     "output_type": "stream",
     "text": [
      "2025-07-30 14:48:01,429 INFO Request ID is db4bfd9e-e5de-41fc-80a2-c1d0a0f4883a\n",
      "2025-07-30 14:48:01,756 INFO status has been updated to accepted\n",
      "2025-07-30 14:48:01,756 INFO status has been updated to accepted\n",
      "2025-07-30 14:48:11,330 INFO status has been updated to running\n",
      "2025-07-30 14:48:11,330 INFO status has been updated to running\n",
      "2025-07-30 14:49:59,938 INFO status has been updated to successful\n",
      "2025-07-30 14:49:59,938 INFO status has been updated to successful\n"
     ]
    },
    {
     "data": {
      "application/vnd.jupyter.widget-view+json": {
       "model_id": "9a57c8c5b7e54dedb28e0c5fb0e68dbb",
       "version_major": 2,
       "version_minor": 0
      },
      "text/plain": [
       "d7000a2e35047b9d6ed18940ace4a3bf.grib:   0%|          | 0.00/36.4M [00:00<?, ?B/s]"
      ]
     },
     "metadata": {},
     "output_type": "display_data"
    },
    {
     "name": "stdout",
     "output_type": "stream",
     "text": [
      "Successfully downloaded to: ../data/wind_data_all_levels/wind_data_2024_10_all_levels.grib\n",
      "--- Downloading data for 2024-11 (all pressure levels) ---\n"
     ]
    },
    {
     "name": "stderr",
     "output_type": "stream",
     "text": [
      "2025-07-30 14:52:17,461 INFO Request ID is 4b4959f5-d5a7-485d-95fb-d8771161ea5c\n",
      "2025-07-30 14:52:17,862 INFO status has been updated to accepted\n",
      "2025-07-30 14:52:17,862 INFO status has been updated to accepted\n",
      "2025-07-30 14:52:41,035 INFO status has been updated to running\n",
      "2025-07-30 14:52:41,035 INFO status has been updated to running\n",
      "2025-07-30 14:54:15,291 INFO status has been updated to successful\n",
      "2025-07-30 14:54:15,291 INFO status has been updated to successful\n"
     ]
    },
    {
     "data": {
      "application/vnd.jupyter.widget-view+json": {
       "model_id": "f0305529945c4d71b178ed7386aed098",
       "version_major": 2,
       "version_minor": 0
      },
      "text/plain": [
       "30dc99567f2aa85ad2207585687a6938.grib:   0%|          | 0.00/35.2M [00:00<?, ?B/s]"
      ]
     },
     "metadata": {},
     "output_type": "display_data"
    },
    {
     "name": "stdout",
     "output_type": "stream",
     "text": [
      "Successfully downloaded to: ../data/wind_data_all_levels/wind_data_2024_11_all_levels.grib\n",
      "--- Downloading data for 2024-12 (all pressure levels) ---\n"
     ]
    },
    {
     "name": "stderr",
     "output_type": "stream",
     "text": [
      "2025-07-30 14:56:29,349 INFO Request ID is 0f4beeac-10ef-4916-8139-cbf877a9fc7b\n",
      "2025-07-30 14:56:29,686 INFO status has been updated to accepted\n",
      "2025-07-30 14:56:29,686 INFO status has been updated to accepted\n",
      "2025-07-30 14:56:35,565 INFO status has been updated to running\n",
      "2025-07-30 14:56:35,565 INFO status has been updated to running\n",
      "2025-07-30 14:58:26,873 INFO status has been updated to successful\n",
      "2025-07-30 14:58:26,873 INFO status has been updated to successful\n"
     ]
    },
    {
     "data": {
      "application/vnd.jupyter.widget-view+json": {
       "model_id": "dcc59768cef347a9b8c73f3be60574da",
       "version_major": 2,
       "version_minor": 0
      },
      "text/plain": [
       "185422f69cf34d0b54d4bcdf6110d10c.grib:   0%|          | 0.00/36.4M [00:00<?, ?B/s]"
      ]
     },
     "metadata": {},
     "output_type": "display_data"
    },
    {
     "name": "stdout",
     "output_type": "stream",
     "text": [
      "Successfully downloaded to: ../data/wind_data_all_levels/wind_data_2024_12_all_levels.grib\n",
      "\n",
      "--- Automation complete. ---\n"
     ]
    }
   ],
   "source": [
    "#Fetch data from cds\n",
    "\n",
    "# Ensure the output directory exists\n",
    "os.makedirs(OUTPUT_FOLDER, exist_ok=True)\n",
    "\n",
    "# Initialize the API client\n",
    "client = cdsapi.Client()\n",
    "\n",
    "# Generate a list of the first day of each month for the specified year range\n",
    "date_range = pd.date_range(start=f'{START_YEAR}-01-01', end=f'{END_YEAR}-12-31', freq='MS')  # Monthly start\n",
    "\n",
    "# Loop through each month\n",
    "for date in date_range:\n",
    "    year = date.strftime(\"%Y\")\n",
    "    month = date.strftime(\"%m\")\n",
    "    \n",
    "    output_filename = f\"wind_data_{year}_{month}_all_levels.grib\"\n",
    "    output_file_path = os.path.join(OUTPUT_FOLDER, output_filename)\n",
    "    \n",
    "    if os.path.exists(output_file_path):\n",
    "        print(f\"Skipping {output_filename}, file already exists.\")\n",
    "        continue\n",
    "\n",
    "    print(f\"--- Downloading data for {year}-{month} (all pressure levels) ---\")\n",
    "\n",
    "    try:\n",
    "        request = {\n",
    "            \"product_type\": \"reanalysis\",\n",
    "            \"format\": \"grib\",\n",
    "            \"variable\": [\n",
    "                \"u_component_of_wind\",\n",
    "                \"v_component_of_wind\"\n",
    "            ],\n",
    "            'pressure_level': PRESSURE_LEVELS,  # Use all pressure levels\n",
    "            \"year\": year,\n",
    "            \"month\": month,\n",
    "            \"day\": [str(d).zfill(2) for d in range(1, 32)], # API handles non-existent days\n",
    "            'time': [f'{h:02d}:00' for h in range(0, 24, 6)], # Every 6 hours to reduce data size\n",
    "            \"area\": [6, 95, -11, 141], # North, West, South, East (Indonesia region)\n",
    "        }\n",
    "\n",
    "        # Retrieve and download the data\n",
    "        client.retrieve(DATASET, request, output_file_path)\n",
    "        \n",
    "        print(f\"Successfully downloaded to: {output_file_path}\")\n",
    "\n",
    "    except Exception as e:\n",
    "        print(f\"!!! FAILED to download data for {year}-{month}. Error: {e}\")\n",
    "      \n",
    "print(\"\\n--- Automation complete. ---\")"
   ]
  },
  {
   "cell_type": "code",
   "execution_count": 6,
   "id": "6300dde3",
   "metadata": {},
   "outputs": [
    {
     "name": "stdout",
     "output_type": "stream",
     "text": [
      "Found 72 GRIB files to process.\n",
      "Processing and coarsening wind_data_2019_01_all_levels.grib...\n",
      "Processing and coarsening wind_data_2019_02_all_levels.grib...\n",
      "Processing and coarsening wind_data_2019_02_all_levels.grib...\n",
      "Processing and coarsening wind_data_2019_03_all_levels.grib...\n",
      "Processing and coarsening wind_data_2019_03_all_levels.grib...\n",
      "Processing and coarsening wind_data_2019_04_all_levels.grib...\n",
      "Processing and coarsening wind_data_2019_04_all_levels.grib...\n",
      "Processing and coarsening wind_data_2019_05_all_levels.grib...\n",
      "Processing and coarsening wind_data_2019_05_all_levels.grib...\n",
      "Processing and coarsening wind_data_2019_06_all_levels.grib...\n",
      "Processing and coarsening wind_data_2019_06_all_levels.grib...\n",
      "Processing and coarsening wind_data_2019_07_all_levels.grib...\n",
      "Processing and coarsening wind_data_2019_07_all_levels.grib...\n",
      "Processing and coarsening wind_data_2019_08_all_levels.grib...\n",
      "Processing and coarsening wind_data_2019_08_all_levels.grib...\n",
      "Processing and coarsening wind_data_2019_09_all_levels.grib...\n",
      "Processing and coarsening wind_data_2019_09_all_levels.grib...\n",
      "Processing and coarsening wind_data_2019_10_all_levels.grib...\n",
      "Processing and coarsening wind_data_2019_10_all_levels.grib...\n",
      "Processing and coarsening wind_data_2019_11_all_levels.grib...\n",
      "Processing and coarsening wind_data_2019_11_all_levels.grib...\n",
      "Processing and coarsening wind_data_2019_12_all_levels.grib...\n",
      "Processing and coarsening wind_data_2019_12_all_levels.grib...\n",
      "Processing and coarsening wind_data_2020_01_all_levels.grib...\n",
      "Processing and coarsening wind_data_2020_01_all_levels.grib...\n",
      "Processing and coarsening wind_data_2020_02_all_levels.grib...\n",
      "Processing and coarsening wind_data_2020_02_all_levels.grib...\n",
      "Processing and coarsening wind_data_2020_03_all_levels.grib...\n",
      "Processing and coarsening wind_data_2020_03_all_levels.grib...\n",
      "Processing and coarsening wind_data_2020_04_all_levels.grib...\n",
      "Processing and coarsening wind_data_2020_04_all_levels.grib...\n",
      "Processing and coarsening wind_data_2020_05_all_levels.grib...\n",
      "Processing and coarsening wind_data_2020_05_all_levels.grib...\n",
      "Processing and coarsening wind_data_2020_06_all_levels.grib...\n",
      "Processing and coarsening wind_data_2020_06_all_levels.grib...\n",
      "Processing and coarsening wind_data_2020_07_all_levels.grib...\n",
      "Processing and coarsening wind_data_2020_07_all_levels.grib...\n",
      "Processing and coarsening wind_data_2020_08_all_levels.grib...\n",
      "Processing and coarsening wind_data_2020_08_all_levels.grib...\n",
      "Processing and coarsening wind_data_2020_09_all_levels.grib...\n",
      "Processing and coarsening wind_data_2020_09_all_levels.grib...\n",
      "Processing and coarsening wind_data_2020_10_all_levels.grib...\n",
      "Processing and coarsening wind_data_2020_10_all_levels.grib...\n",
      "Processing and coarsening wind_data_2020_11_all_levels.grib...\n",
      "Processing and coarsening wind_data_2020_11_all_levels.grib...\n",
      "Processing and coarsening wind_data_2020_12_all_levels.grib...\n",
      "Processing and coarsening wind_data_2020_12_all_levels.grib...\n",
      "Processing and coarsening wind_data_2021_01_all_levels.grib...\n",
      "Processing and coarsening wind_data_2021_01_all_levels.grib...\n",
      "Processing and coarsening wind_data_2021_02_all_levels.grib...\n",
      "Processing and coarsening wind_data_2021_02_all_levels.grib...\n",
      "Processing and coarsening wind_data_2021_03_all_levels.grib...\n",
      "Processing and coarsening wind_data_2021_03_all_levels.grib...\n",
      "Processing and coarsening wind_data_2021_04_all_levels.grib...\n",
      "Processing and coarsening wind_data_2021_04_all_levels.grib...\n",
      "Processing and coarsening wind_data_2021_05_all_levels.grib...\n",
      "Processing and coarsening wind_data_2021_05_all_levels.grib...\n",
      "Processing and coarsening wind_data_2021_06_all_levels.grib...\n",
      "Processing and coarsening wind_data_2021_06_all_levels.grib...\n",
      "Processing and coarsening wind_data_2021_07_all_levels.grib...\n",
      "Processing and coarsening wind_data_2021_07_all_levels.grib...\n",
      "Processing and coarsening wind_data_2021_08_all_levels.grib...\n",
      "Processing and coarsening wind_data_2021_08_all_levels.grib...\n",
      "Processing and coarsening wind_data_2021_09_all_levels.grib...\n",
      "Processing and coarsening wind_data_2021_09_all_levels.grib...\n"
     ]
    },
    {
     "name": "stderr",
     "output_type": "stream",
     "text": [
      "skipping corrupted Message\n",
      "Traceback (most recent call last):\n",
      "  File \"d:\\anaconda3\\Lib\\site-packages\\cfgrib\\messages.py\", line 274, in itervalues\n",
      "    yield self.filestream.message_from_file(file, errors=errors)\n",
      "          ^^^^^^^^^^^^^^^^^^^^^^^^^^^^^^^^^^^^^^^^^^^^^^^^^^^^^^\n",
      "  File \"d:\\anaconda3\\Lib\\site-packages\\cfgrib\\messages.py\", line 341, in message_from_file\n",
      "    return Message.from_file(file, offset, **kwargs)\n",
      "           ^^^^^^^^^^^^^^^^^^^^^^^^^^^^^^^^^^^^^^^^^\n",
      "  File \"d:\\anaconda3\\Lib\\site-packages\\cfgrib\\messages.py\", line 97, in from_file\n",
      "    codes_id = eccodes.codes_grib_new_from_file(file)\n",
      "               ^^^^^^^^^^^^^^^^^^^^^^^^^^^^^^^^^^^^^^\n",
      "  File \"d:\\anaconda3\\Lib\\site-packages\\gribapi\\gribapi.py\", line 415, in grib_new_from_file\n",
      "    GRIB_CHECK(err)\n",
      "  File \"d:\\anaconda3\\Lib\\site-packages\\gribapi\\gribapi.py\", line 232, in GRIB_CHECK\n",
      "    errors.raise_grib_error(errid)\n",
      "  File \"d:\\anaconda3\\Lib\\site-packages\\gribapi\\errors.py\", line 381, in raise_grib_error\n",
      "    raise ERROR_MAP[errid](errid)\n",
      "gribapi.errors.PrematureEndOfFileError: End of resource reached when reading message\n",
      "skipping variable: paramId==132 shortName='v'\n",
      "Traceback (most recent call last):\n",
      "  File \"d:\\anaconda3\\Lib\\site-packages\\cfgrib\\dataset.py\", line 725, in build_dataset_components\n",
      "    dict_merge(variables, coord_vars)\n",
      "  File \"d:\\anaconda3\\Lib\\site-packages\\cfgrib\\dataset.py\", line 641, in dict_merge\n",
      "    raise DatasetBuildError(\n",
      "cfgrib.dataset.DatasetBuildError: key present and new value is different: key='time' value=Variable(dimensions=('time',), data=array([1630454400, 1630476000, 1630497600, 1630519200, 1630540800,\n",
      "       1630562400, 1630584000, 1630605600, 1630627200, 1630648800,\n",
      "       1630670400, 1630692000, 1630713600, 1630735200, 1630756800,\n",
      "       1630778400, 1630800000, 1630821600, 1630843200, 1630864800,\n",
      "       1630886400, 1630908000, 1630929600, 1630951200, 1630972800,\n",
      "       1630994400, 1631016000, 1631037600, 1631059200, 1631080800,\n",
      "       1631102400, 1631124000, 1631145600, 1631167200, 1631188800,\n",
      "       1631210400, 1631232000, 1631253600, 1631275200, 1631296800,\n",
      "       1631318400, 1631340000, 1631361600, 1631383200, 1631404800,\n",
      "       1631426400, 1631448000, 1631469600, 1631491200, 1631512800,\n",
      "       1631534400, 1631556000])) new_value=Variable(dimensions=('time',), data=array([1630454400, 1630476000, 1630497600, 1630519200, 1630540800,\n",
      "       1630562400, 1630584000, 1630605600, 1630627200, 1630648800,\n",
      "       1630670400, 1630692000, 1630713600, 1630735200, 1630756800,\n",
      "       1630778400, 1630800000, 1630821600, 1630843200, 1630864800,\n",
      "       1630886400, 1630908000, 1630929600, 1630951200, 1630972800,\n",
      "       1630994400, 1631016000, 1631037600, 1631059200, 1631080800,\n",
      "       1631102400, 1631124000, 1631145600, 1631167200, 1631188800,\n",
      "       1631210400, 1631232000, 1631253600, 1631275200, 1631296800,\n",
      "       1631318400, 1631340000, 1631361600, 1631383200, 1631404800,\n",
      "       1631426400, 1631448000, 1631469600, 1631491200, 1631512800,\n",
      "       1631534400]))\n",
      "skipping variable: paramId==132 shortName='v'\n",
      "Traceback (most recent call last):\n",
      "  File \"d:\\anaconda3\\Lib\\site-packages\\cfgrib\\dataset.py\", line 725, in build_dataset_components\n",
      "    dict_merge(variables, coord_vars)\n",
      "  File \"d:\\anaconda3\\Lib\\site-packages\\cfgrib\\dataset.py\", line 641, in dict_merge\n",
      "    raise DatasetBuildError(\n",
      "cfgrib.dataset.DatasetBuildError: key present and new value is different: key='time' value=Variable(dimensions=('time',), data=array([1630454400, 1630476000, 1630497600, 1630519200, 1630540800,\n",
      "       1630562400, 1630584000, 1630605600, 1630627200, 1630648800,\n",
      "       1630670400, 1630692000, 1630713600, 1630735200, 1630756800,\n",
      "       1630778400, 1630800000, 1630821600, 1630843200, 1630864800,\n",
      "       1630886400, 1630908000, 1630929600, 1630951200, 1630972800,\n",
      "       1630994400, 1631016000, 1631037600, 1631059200, 1631080800,\n",
      "       1631102400, 1631124000, 1631145600, 1631167200, 1631188800,\n",
      "       1631210400, 1631232000, 1631253600, 1631275200, 1631296800,\n",
      "       1631318400, 1631340000, 1631361600, 1631383200, 1631404800,\n",
      "       1631426400, 1631448000, 1631469600, 1631491200, 1631512800,\n",
      "       1631534400, 1631556000])) new_value=Variable(dimensions=('time',), data=array([1630454400, 1630476000, 1630497600, 1630519200, 1630540800,\n",
      "       1630562400, 1630584000, 1630605600, 1630627200, 1630648800,\n",
      "       1630670400, 1630692000, 1630713600, 1630735200, 1630756800,\n",
      "       1630778400, 1630800000, 1630821600, 1630843200, 1630864800,\n",
      "       1630886400, 1630908000, 1630929600, 1630951200, 1630972800,\n",
      "       1630994400, 1631016000, 1631037600, 1631059200, 1631080800,\n",
      "       1631102400, 1631124000, 1631145600, 1631167200, 1631188800,\n",
      "       1631210400, 1631232000, 1631253600, 1631275200, 1631296800,\n",
      "       1631318400, 1631340000, 1631361600, 1631383200, 1631404800,\n",
      "       1631426400, 1631448000, 1631469600, 1631491200, 1631512800,\n",
      "       1631534400]))\n"
     ]
    },
    {
     "name": "stdout",
     "output_type": "stream",
     "text": [
      "Processing and coarsening wind_data_2021_10_all_levels.grib...\n",
      "Processing and coarsening wind_data_2021_11_all_levels.grib...\n",
      "Processing and coarsening wind_data_2021_11_all_levels.grib...\n",
      "Processing and coarsening wind_data_2021_12_all_levels.grib...\n",
      "Processing and coarsening wind_data_2021_12_all_levels.grib...\n"
     ]
    },
    {
     "name": "stderr",
     "output_type": "stream",
     "text": [
      "skipping corrupted Message\n",
      "Traceback (most recent call last):\n",
      "  File \"d:\\anaconda3\\Lib\\site-packages\\cfgrib\\messages.py\", line 274, in itervalues\n",
      "    yield self.filestream.message_from_file(file, errors=errors)\n",
      "          ^^^^^^^^^^^^^^^^^^^^^^^^^^^^^^^^^^^^^^^^^^^^^^^^^^^^^^\n",
      "  File \"d:\\anaconda3\\Lib\\site-packages\\cfgrib\\messages.py\", line 341, in message_from_file\n",
      "    return Message.from_file(file, offset, **kwargs)\n",
      "           ^^^^^^^^^^^^^^^^^^^^^^^^^^^^^^^^^^^^^^^^^\n",
      "  File \"d:\\anaconda3\\Lib\\site-packages\\cfgrib\\messages.py\", line 97, in from_file\n",
      "    codes_id = eccodes.codes_grib_new_from_file(file)\n",
      "               ^^^^^^^^^^^^^^^^^^^^^^^^^^^^^^^^^^^^^^\n",
      "  File \"d:\\anaconda3\\Lib\\site-packages\\gribapi\\gribapi.py\", line 415, in grib_new_from_file\n",
      "    GRIB_CHECK(err)\n",
      "  File \"d:\\anaconda3\\Lib\\site-packages\\gribapi\\gribapi.py\", line 232, in GRIB_CHECK\n",
      "    errors.raise_grib_error(errid)\n",
      "  File \"d:\\anaconda3\\Lib\\site-packages\\gribapi\\errors.py\", line 381, in raise_grib_error\n",
      "    raise ERROR_MAP[errid](errid)\n",
      "gribapi.errors.PrematureEndOfFileError: End of resource reached when reading message\n"
     ]
    },
    {
     "name": "stdout",
     "output_type": "stream",
     "text": [
      "Processing and coarsening wind_data_2022_01_all_levels.grib...\n"
     ]
    },
    {
     "name": "stderr",
     "output_type": "stream",
     "text": [
      "skipping corrupted Message\n",
      "Traceback (most recent call last):\n",
      "  File \"d:\\anaconda3\\Lib\\site-packages\\cfgrib\\messages.py\", line 274, in itervalues\n",
      "    yield self.filestream.message_from_file(file, errors=errors)\n",
      "          ^^^^^^^^^^^^^^^^^^^^^^^^^^^^^^^^^^^^^^^^^^^^^^^^^^^^^^\n",
      "  File \"d:\\anaconda3\\Lib\\site-packages\\cfgrib\\messages.py\", line 341, in message_from_file\n",
      "    return Message.from_file(file, offset, **kwargs)\n",
      "           ^^^^^^^^^^^^^^^^^^^^^^^^^^^^^^^^^^^^^^^^^\n",
      "  File \"d:\\anaconda3\\Lib\\site-packages\\cfgrib\\messages.py\", line 97, in from_file\n",
      "    codes_id = eccodes.codes_grib_new_from_file(file)\n",
      "               ^^^^^^^^^^^^^^^^^^^^^^^^^^^^^^^^^^^^^^\n",
      "  File \"d:\\anaconda3\\Lib\\site-packages\\gribapi\\gribapi.py\", line 415, in grib_new_from_file\n",
      "    GRIB_CHECK(err)\n",
      "  File \"d:\\anaconda3\\Lib\\site-packages\\gribapi\\gribapi.py\", line 232, in GRIB_CHECK\n",
      "    errors.raise_grib_error(errid)\n",
      "  File \"d:\\anaconda3\\Lib\\site-packages\\gribapi\\errors.py\", line 381, in raise_grib_error\n",
      "    raise ERROR_MAP[errid](errid)\n",
      "gribapi.errors.PrematureEndOfFileError: End of resource reached when reading message\n"
     ]
    },
    {
     "name": "stdout",
     "output_type": "stream",
     "text": [
      "Processing and coarsening wind_data_2022_02_all_levels.grib...\n"
     ]
    },
    {
     "name": "stderr",
     "output_type": "stream",
     "text": [
      "skipping corrupted Message\n",
      "Traceback (most recent call last):\n",
      "  File \"d:\\anaconda3\\Lib\\site-packages\\cfgrib\\messages.py\", line 274, in itervalues\n",
      "    yield self.filestream.message_from_file(file, errors=errors)\n",
      "          ^^^^^^^^^^^^^^^^^^^^^^^^^^^^^^^^^^^^^^^^^^^^^^^^^^^^^^\n",
      "  File \"d:\\anaconda3\\Lib\\site-packages\\cfgrib\\messages.py\", line 341, in message_from_file\n",
      "    return Message.from_file(file, offset, **kwargs)\n",
      "           ^^^^^^^^^^^^^^^^^^^^^^^^^^^^^^^^^^^^^^^^^\n",
      "  File \"d:\\anaconda3\\Lib\\site-packages\\cfgrib\\messages.py\", line 97, in from_file\n",
      "    codes_id = eccodes.codes_grib_new_from_file(file)\n",
      "               ^^^^^^^^^^^^^^^^^^^^^^^^^^^^^^^^^^^^^^\n",
      "  File \"d:\\anaconda3\\Lib\\site-packages\\gribapi\\gribapi.py\", line 415, in grib_new_from_file\n",
      "    GRIB_CHECK(err)\n",
      "  File \"d:\\anaconda3\\Lib\\site-packages\\gribapi\\gribapi.py\", line 232, in GRIB_CHECK\n",
      "    errors.raise_grib_error(errid)\n",
      "  File \"d:\\anaconda3\\Lib\\site-packages\\gribapi\\errors.py\", line 381, in raise_grib_error\n",
      "    raise ERROR_MAP[errid](errid)\n",
      "gribapi.errors.PrematureEndOfFileError: End of resource reached when reading message\n"
     ]
    },
    {
     "name": "stdout",
     "output_type": "stream",
     "text": [
      "Processing and coarsening wind_data_2022_03_all_levels.grib...\n",
      "Processing and coarsening wind_data_2022_04_all_levels.grib...\n",
      "Processing and coarsening wind_data_2022_04_all_levels.grib...\n",
      "Processing and coarsening wind_data_2022_05_all_levels.grib...\n",
      "Processing and coarsening wind_data_2022_05_all_levels.grib...\n",
      "Processing and coarsening wind_data_2022_06_all_levels.grib...\n",
      "Processing and coarsening wind_data_2022_06_all_levels.grib...\n",
      "Processing and coarsening wind_data_2022_07_all_levels.grib...\n",
      "Processing and coarsening wind_data_2022_07_all_levels.grib...\n",
      "Processing and coarsening wind_data_2022_08_all_levels.grib...\n",
      "Processing and coarsening wind_data_2022_08_all_levels.grib...\n",
      "Processing and coarsening wind_data_2022_09_all_levels.grib...\n",
      "Processing and coarsening wind_data_2022_09_all_levels.grib...\n",
      "Processing and coarsening wind_data_2022_10_all_levels.grib...\n",
      "Processing and coarsening wind_data_2022_10_all_levels.grib...\n",
      "Processing and coarsening wind_data_2022_11_all_levels.grib...\n",
      "Processing and coarsening wind_data_2022_11_all_levels.grib...\n"
     ]
    },
    {
     "name": "stderr",
     "output_type": "stream",
     "text": [
      "skipping corrupted Message\n",
      "Traceback (most recent call last):\n",
      "  File \"d:\\anaconda3\\Lib\\site-packages\\cfgrib\\messages.py\", line 274, in itervalues\n",
      "    yield self.filestream.message_from_file(file, errors=errors)\n",
      "          ^^^^^^^^^^^^^^^^^^^^^^^^^^^^^^^^^^^^^^^^^^^^^^^^^^^^^^\n",
      "  File \"d:\\anaconda3\\Lib\\site-packages\\cfgrib\\messages.py\", line 341, in message_from_file\n",
      "    return Message.from_file(file, offset, **kwargs)\n",
      "           ^^^^^^^^^^^^^^^^^^^^^^^^^^^^^^^^^^^^^^^^^\n",
      "  File \"d:\\anaconda3\\Lib\\site-packages\\cfgrib\\messages.py\", line 97, in from_file\n",
      "    codes_id = eccodes.codes_grib_new_from_file(file)\n",
      "               ^^^^^^^^^^^^^^^^^^^^^^^^^^^^^^^^^^^^^^\n",
      "  File \"d:\\anaconda3\\Lib\\site-packages\\gribapi\\gribapi.py\", line 415, in grib_new_from_file\n",
      "    GRIB_CHECK(err)\n",
      "  File \"d:\\anaconda3\\Lib\\site-packages\\gribapi\\gribapi.py\", line 232, in GRIB_CHECK\n",
      "    errors.raise_grib_error(errid)\n",
      "  File \"d:\\anaconda3\\Lib\\site-packages\\gribapi\\errors.py\", line 381, in raise_grib_error\n",
      "    raise ERROR_MAP[errid](errid)\n",
      "gribapi.errors.PrematureEndOfFileError: End of resource reached when reading message\n"
     ]
    },
    {
     "name": "stdout",
     "output_type": "stream",
     "text": [
      "Processing and coarsening wind_data_2022_12_all_levels.grib...\n",
      "Processing and coarsening wind_data_2023_01_all_levels.grib...\n",
      "Processing and coarsening wind_data_2023_01_all_levels.grib...\n",
      "Processing and coarsening wind_data_2023_02_all_levels.grib...\n",
      "Processing and coarsening wind_data_2023_02_all_levels.grib...\n",
      "Processing and coarsening wind_data_2023_03_all_levels.grib...\n",
      "Processing and coarsening wind_data_2023_03_all_levels.grib...\n",
      "Processing and coarsening wind_data_2023_04_all_levels.grib...\n",
      "Processing and coarsening wind_data_2023_04_all_levels.grib...\n",
      "Processing and coarsening wind_data_2023_05_all_levels.grib...\n",
      "Processing and coarsening wind_data_2023_05_all_levels.grib...\n",
      "Processing and coarsening wind_data_2023_06_all_levels.grib...\n",
      "Processing and coarsening wind_data_2023_06_all_levels.grib...\n",
      "Processing and coarsening wind_data_2023_07_all_levels.grib...\n",
      "Processing and coarsening wind_data_2023_07_all_levels.grib...\n",
      "Processing and coarsening wind_data_2023_08_all_levels.grib...\n",
      "Processing and coarsening wind_data_2023_08_all_levels.grib...\n",
      "Processing and coarsening wind_data_2023_09_all_levels.grib...\n",
      "Processing and coarsening wind_data_2023_09_all_levels.grib...\n",
      "Processing and coarsening wind_data_2023_10_all_levels.grib...\n",
      "Processing and coarsening wind_data_2023_10_all_levels.grib...\n",
      "Processing and coarsening wind_data_2023_11_all_levels.grib...\n",
      "Processing and coarsening wind_data_2023_11_all_levels.grib...\n",
      "Processing and coarsening wind_data_2023_12_all_levels.grib...\n",
      "Processing and coarsening wind_data_2023_12_all_levels.grib...\n",
      "Processing and coarsening wind_data_2024_01_all_levels.grib...\n",
      "Processing and coarsening wind_data_2024_01_all_levels.grib...\n",
      "Processing and coarsening wind_data_2024_02_all_levels.grib...\n",
      "Processing and coarsening wind_data_2024_02_all_levels.grib...\n",
      "Processing and coarsening wind_data_2024_03_all_levels.grib...\n",
      "Processing and coarsening wind_data_2024_03_all_levels.grib...\n",
      "Processing and coarsening wind_data_2024_04_all_levels.grib...\n",
      "Processing and coarsening wind_data_2024_04_all_levels.grib...\n",
      "Processing and coarsening wind_data_2024_05_all_levels.grib...\n",
      "Processing and coarsening wind_data_2024_05_all_levels.grib...\n",
      "Processing and coarsening wind_data_2024_06_all_levels.grib...\n",
      "Processing and coarsening wind_data_2024_06_all_levels.grib...\n",
      "Processing and coarsening wind_data_2024_07_all_levels.grib...\n",
      "Processing and coarsening wind_data_2024_07_all_levels.grib...\n",
      "Processing and coarsening wind_data_2024_08_all_levels.grib...\n",
      "Processing and coarsening wind_data_2024_08_all_levels.grib...\n",
      "Processing and coarsening wind_data_2024_09_all_levels.grib...\n",
      "Processing and coarsening wind_data_2024_09_all_levels.grib...\n",
      "Processing and coarsening wind_data_2024_10_all_levels.grib...\n",
      "Processing and coarsening wind_data_2024_10_all_levels.grib...\n",
      "Processing and coarsening wind_data_2024_11_all_levels.grib...\n",
      "Processing and coarsening wind_data_2024_11_all_levels.grib...\n",
      "Processing and coarsening wind_data_2024_12_all_levels.grib...\n",
      "Processing and coarsening wind_data_2024_12_all_levels.grib...\n",
      "\n",
      "--- Processing Complete --- ✅\n",
      "Final Coarse DataFrame Info:\n",
      "Shape: (157444752, 12)\n",
      "\n",
      "--- Processing Complete --- ✅\n",
      "Final Coarse DataFrame Info:\n",
      "Shape: (157444752, 12)\n",
      "Pressure levels: [875.0, 900.0, 925.0, 950.0, 975.0, 1000.0]\n",
      "Pressure levels: [875.0, 900.0, 925.0, 950.0, 975.0, 1000.0]\n",
      "Time range: 2019-01-01 00:00:00 to 2024-12-31 18:00:00\n",
      "\n",
      "DataFrame Head:\n",
      "        time  isobaricInhPa  latitude  longitude         u         v  number  \\\n",
      "0 2019-01-01         1000.0     5.875     95.125 -3.999832 -1.854233       0   \n",
      "1 2019-01-01         1000.0     5.875     95.625 -2.395096  0.192642       0   \n",
      "2 2019-01-01         1000.0     5.875     96.125 -2.034012 -0.159164       0   \n",
      "3 2019-01-01         1000.0     5.875     96.625 -2.851151 -0.957504       0   \n",
      "4 2019-01-01         1000.0     5.875     97.125 -1.976639 -0.728989       0   \n",
      "\n",
      "    step valid_time                        source_file  wind_speed  \\\n",
      "0 0 days 2019-01-01  wind_data_2019_01_all_levels.grib    4.408723   \n",
      "1 0 days 2019-01-01  wind_data_2019_01_all_levels.grib    2.402831   \n",
      "2 0 days 2019-01-01  wind_data_2019_01_all_levels.grib    2.040230   \n",
      "3 0 days 2019-01-01  wind_data_2019_01_all_levels.grib    3.007636   \n",
      "4 0 days 2019-01-01  wind_data_2019_01_all_levels.grib    2.106781   \n",
      "\n",
      "   wind_direction  \n",
      "0      245.128618  \n",
      "1      274.598511  \n",
      "2      265.525639  \n",
      "3      251.436366  \n",
      "4      249.755914  \n",
      "Time range: 2019-01-01 00:00:00 to 2024-12-31 18:00:00\n",
      "\n",
      "DataFrame Head:\n",
      "        time  isobaricInhPa  latitude  longitude         u         v  number  \\\n",
      "0 2019-01-01         1000.0     5.875     95.125 -3.999832 -1.854233       0   \n",
      "1 2019-01-01         1000.0     5.875     95.625 -2.395096  0.192642       0   \n",
      "2 2019-01-01         1000.0     5.875     96.125 -2.034012 -0.159164       0   \n",
      "3 2019-01-01         1000.0     5.875     96.625 -2.851151 -0.957504       0   \n",
      "4 2019-01-01         1000.0     5.875     97.125 -1.976639 -0.728989       0   \n",
      "\n",
      "    step valid_time                        source_file  wind_speed  \\\n",
      "0 0 days 2019-01-01  wind_data_2019_01_all_levels.grib    4.408723   \n",
      "1 0 days 2019-01-01  wind_data_2019_01_all_levels.grib    2.402831   \n",
      "2 0 days 2019-01-01  wind_data_2019_01_all_levels.grib    2.040230   \n",
      "3 0 days 2019-01-01  wind_data_2019_01_all_levels.grib    3.007636   \n",
      "4 0 days 2019-01-01  wind_data_2019_01_all_levels.grib    2.106781   \n",
      "\n",
      "   wind_direction  \n",
      "0      245.128618  \n",
      "1      274.598511  \n",
      "2      265.525639  \n",
      "3      251.436366  \n",
      "4      249.755914  \n"
     ]
    }
   ],
   "source": [
    "# Convert to df and coarse. \n",
    "\n",
    "#Note: Data increment in 0.25 Coarsen factor for now is 2 / increment per 0.5\n",
    "\n",
    "\n",
    "# Find all .grib files\n",
    "grib_files = sorted(glob.glob(os.path.join(INPUT_FOLDER, '*.grib')))\n",
    "\n",
    "if not grib_files:\n",
    "    print(f\"Error: No .grib files found in '{INPUT_FOLDER}'\")\n",
    "else:\n",
    "    print(f\"Found {len(grib_files)} GRIB files to process.\")\n",
    "    \n",
    "    all_coarse_dataframes = []\n",
    "    for file_path in grib_files:\n",
    "        print(f\"Processing and coarsening {os.path.basename(file_path)}...\")\n",
    "        try:\n",
    "            with xr.open_dataset(file_path, engine='cfgrib') as ds:\n",
    "                # Coarsen the dataset (reduce spatial resolution)\n",
    "                coarse_ds = ds.coarsen(latitude=2, longitude=2, boundary='trim').mean()\n",
    "                \n",
    "                # Convert to dataframe\n",
    "                df = coarse_ds.to_dataframe()\n",
    "                \n",
    "                # Add filename info for tracking\n",
    "                df['source_file'] = os.path.basename(file_path)\n",
    "                \n",
    "                all_coarse_dataframes.append(df)\n",
    "                \n",
    "        except Exception as e:\n",
    "            print(f\"!!! Could not process {file_path}. Error: {e}\")\n",
    "\n",
    "    if all_coarse_dataframes:\n",
    "        combined_df = pd.concat(all_coarse_dataframes, ignore_index=False).reset_index()\n",
    "        \n",
    "        # Calculate wind speed from u and v components\n",
    "        combined_df['wind_speed'] = np.sqrt(combined_df['u']**2 + combined_df['v']**2)\n",
    "        \n",
    "        # Calculate wind direction (in degrees from north)\n",
    "        combined_df['wind_direction'] = np.arctan2(combined_df['u'], combined_df['v']) * 180 / np.pi\n",
    "        combined_df['wind_direction'] = (combined_df['wind_direction'] + 360) % 360  # Convert to 0-360 degrees\n",
    "\n",
    "        print(\"\\n--- Processing Complete --- ✅\")\n",
    "        print(\"Final Coarse DataFrame Info:\")\n",
    "        print(f\"Shape: {combined_df.shape}\")\n",
    "        print(f\"Pressure levels: {sorted(combined_df['isobaricInhPa'].unique())}\")\n",
    "        print(f\"Time range: {combined_df['time'].min()} to {combined_df['time'].max()}\")\n",
    "        print(\"\\nDataFrame Head:\")\n",
    "        print(combined_df.head())\n",
    "\n",
    "        "
   ]
  },
  {
   "cell_type": "code",
   "execution_count": 7,
   "id": "33e2fd8f",
   "metadata": {},
   "outputs": [
    {
     "name": "stdout",
     "output_type": "stream",
     "text": [
      "<class 'pandas.core.frame.DataFrame'>\n",
      "RangeIndex: 157444752 entries, 0 to 157444751\n",
      "Data columns (total 12 columns):\n",
      " #   Column          Dtype          \n",
      "---  ------          -----          \n",
      " 0   time            datetime64[ns] \n",
      " 1   isobaricInhPa   float64        \n",
      " 2   latitude        float64        \n",
      " 3   longitude       float64        \n",
      " 4   u               float32        \n",
      " 5   v               float32        \n",
      " 6   number          int32          \n",
      " 7   step            timedelta64[ns]\n",
      " 8   valid_time      datetime64[ns] \n",
      " 9   source_file     object         \n",
      " 10  wind_speed      float32        \n",
      " 11  wind_direction  float64        \n",
      "dtypes: datetime64[ns](2), float32(3), float64(4), int32(1), object(1), timedelta64[ns](1)\n",
      "memory usage: 11.7+ GB\n"
     ]
    }
   ],
   "source": [
    "combined_df.info()"
   ]
  },
  {
   "cell_type": "code",
   "execution_count": 8,
   "id": "11c38492",
   "metadata": {},
   "outputs": [
    {
     "data": {
      "text/html": [
       "<div>\n",
       "<style scoped>\n",
       "    .dataframe tbody tr th:only-of-type {\n",
       "        vertical-align: middle;\n",
       "    }\n",
       "\n",
       "    .dataframe tbody tr th {\n",
       "        vertical-align: top;\n",
       "    }\n",
       "\n",
       "    .dataframe thead th {\n",
       "        text-align: right;\n",
       "    }\n",
       "</style>\n",
       "<table border=\"1\" class=\"dataframe\">\n",
       "  <thead>\n",
       "    <tr style=\"text-align: right;\">\n",
       "      <th></th>\n",
       "      <th>time</th>\n",
       "      <th>isobaricInhPa</th>\n",
       "      <th>latitude</th>\n",
       "      <th>longitude</th>\n",
       "      <th>u</th>\n",
       "      <th>v</th>\n",
       "      <th>number</th>\n",
       "      <th>step</th>\n",
       "      <th>valid_time</th>\n",
       "      <th>source_file</th>\n",
       "      <th>wind_speed</th>\n",
       "      <th>wind_direction</th>\n",
       "    </tr>\n",
       "  </thead>\n",
       "  <tbody>\n",
       "    <tr>\n",
       "      <th>0</th>\n",
       "      <td>2019-01-01</td>\n",
       "      <td>1000.0</td>\n",
       "      <td>5.875</td>\n",
       "      <td>95.125</td>\n",
       "      <td>-3.999832</td>\n",
       "      <td>-1.854233</td>\n",
       "      <td>0</td>\n",
       "      <td>0 days</td>\n",
       "      <td>2019-01-01</td>\n",
       "      <td>wind_data_2019_01_all_levels.grib</td>\n",
       "      <td>4.408723</td>\n",
       "      <td>245.128618</td>\n",
       "    </tr>\n",
       "    <tr>\n",
       "      <th>1</th>\n",
       "      <td>2019-01-01</td>\n",
       "      <td>1000.0</td>\n",
       "      <td>5.875</td>\n",
       "      <td>95.625</td>\n",
       "      <td>-2.395096</td>\n",
       "      <td>0.192642</td>\n",
       "      <td>0</td>\n",
       "      <td>0 days</td>\n",
       "      <td>2019-01-01</td>\n",
       "      <td>wind_data_2019_01_all_levels.grib</td>\n",
       "      <td>2.402831</td>\n",
       "      <td>274.598511</td>\n",
       "    </tr>\n",
       "    <tr>\n",
       "      <th>2</th>\n",
       "      <td>2019-01-01</td>\n",
       "      <td>1000.0</td>\n",
       "      <td>5.875</td>\n",
       "      <td>96.125</td>\n",
       "      <td>-2.034012</td>\n",
       "      <td>-0.159164</td>\n",
       "      <td>0</td>\n",
       "      <td>0 days</td>\n",
       "      <td>2019-01-01</td>\n",
       "      <td>wind_data_2019_01_all_levels.grib</td>\n",
       "      <td>2.040230</td>\n",
       "      <td>265.525639</td>\n",
       "    </tr>\n",
       "    <tr>\n",
       "      <th>3</th>\n",
       "      <td>2019-01-01</td>\n",
       "      <td>1000.0</td>\n",
       "      <td>5.875</td>\n",
       "      <td>96.625</td>\n",
       "      <td>-2.851151</td>\n",
       "      <td>-0.957504</td>\n",
       "      <td>0</td>\n",
       "      <td>0 days</td>\n",
       "      <td>2019-01-01</td>\n",
       "      <td>wind_data_2019_01_all_levels.grib</td>\n",
       "      <td>3.007636</td>\n",
       "      <td>251.436366</td>\n",
       "    </tr>\n",
       "    <tr>\n",
       "      <th>4</th>\n",
       "      <td>2019-01-01</td>\n",
       "      <td>1000.0</td>\n",
       "      <td>5.875</td>\n",
       "      <td>97.125</td>\n",
       "      <td>-1.976639</td>\n",
       "      <td>-0.728989</td>\n",
       "      <td>0</td>\n",
       "      <td>0 days</td>\n",
       "      <td>2019-01-01</td>\n",
       "      <td>wind_data_2019_01_all_levels.grib</td>\n",
       "      <td>2.106781</td>\n",
       "      <td>249.755914</td>\n",
       "    </tr>\n",
       "  </tbody>\n",
       "</table>\n",
       "</div>"
      ],
      "text/plain": [
       "        time  isobaricInhPa  latitude  longitude         u         v  number  \\\n",
       "0 2019-01-01         1000.0     5.875     95.125 -3.999832 -1.854233       0   \n",
       "1 2019-01-01         1000.0     5.875     95.625 -2.395096  0.192642       0   \n",
       "2 2019-01-01         1000.0     5.875     96.125 -2.034012 -0.159164       0   \n",
       "3 2019-01-01         1000.0     5.875     96.625 -2.851151 -0.957504       0   \n",
       "4 2019-01-01         1000.0     5.875     97.125 -1.976639 -0.728989       0   \n",
       "\n",
       "    step valid_time                        source_file  wind_speed  \\\n",
       "0 0 days 2019-01-01  wind_data_2019_01_all_levels.grib    4.408723   \n",
       "1 0 days 2019-01-01  wind_data_2019_01_all_levels.grib    2.402831   \n",
       "2 0 days 2019-01-01  wind_data_2019_01_all_levels.grib    2.040230   \n",
       "3 0 days 2019-01-01  wind_data_2019_01_all_levels.grib    3.007636   \n",
       "4 0 days 2019-01-01  wind_data_2019_01_all_levels.grib    2.106781   \n",
       "\n",
       "   wind_direction  \n",
       "0      245.128618  \n",
       "1      274.598511  \n",
       "2      265.525639  \n",
       "3      251.436366  \n",
       "4      249.755914  "
      ]
     },
     "execution_count": 8,
     "metadata": {},
     "output_type": "execute_result"
    }
   ],
   "source": [
    "combined_df.head()"
   ]
  },
  {
   "cell_type": "code",
   "execution_count": null,
   "id": "2fb11b3e",
   "metadata": {},
   "outputs": [],
   "source": [
    "combined_df['time'].unique()"
   ]
  },
  {
   "cell_type": "code",
   "execution_count": null,
   "id": "00a438eb",
   "metadata": {},
   "outputs": [
    {
     "name": "stdout",
     "output_type": "stream",
     "text": [
      "Coarse wind data saved to ../data/wind_data_975hpa/coarse_wind_data.csv\n"
     ]
    }
   ],
   "source": [
    "# save to csv\n",
    "output_csv_path = os.path.join(INPUT_FOLDER, f'coarse_wind_data_{START_YEAR}_{END_YEAR}_all_levels.csv')\n",
    "combined_df.to_csv(output_csv_path, index=False)\n",
    "print(f\"Coarse wind data saved to {output_csv_path}\")\n",
    "\n",
    "# Print summary statistics\n",
    "print(f\"\\n--- Data Summary ---\")\n",
    "print(f\"Total records: {len(combined_df):,}\")\n",
    "print(f\"Pressure levels: {len(combined_df['isobaricInhPa'].unique())} levels\")\n",
    "print(f\"Spatial coverage: {len(combined_df[['latitude', 'longitude']].drop_duplicates())} grid points\")\n",
    "print(f\"Temporal coverage: {combined_df['time'].nunique()} time steps\")\n",
    "print(f\"File size: {os.path.getsize(output_csv_path) / (1024**2):.2f} MB\")\n",
    "\n",
    "# Show wind speed statistics by pressure level\n",
    "print(f\"\\n--- Wind Speed Statistics by Pressure Level ---\")\n",
    "wind_stats = combined_df.groupby('isobaricInhPa')['wind_speed'].agg(['mean', 'max', 'std']).round(2)\n",
    "print(wind_stats.head(10))  # Show first 10 levels"
   ]
  },
  {
   "cell_type": "code",
   "execution_count": null,
   "id": "6a5dda77",
   "metadata": {},
   "outputs": [],
   "source": []
  }
 ],
 "metadata": {
  "kernelspec": {
   "display_name": "base",
   "language": "python",
   "name": "python3"
  },
  "language_info": {
   "codemirror_mode": {
    "name": "ipython",
    "version": 3
   },
   "file_extension": ".py",
   "mimetype": "text/x-python",
   "name": "python",
   "nbconvert_exporter": "python",
   "pygments_lexer": "ipython3",
   "version": "3.12.7"
  }
 },
 "nbformat": 4,
 "nbformat_minor": 5
}
